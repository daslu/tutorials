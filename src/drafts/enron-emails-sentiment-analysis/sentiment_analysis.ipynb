{
 "cells": [
  {
   "cell_type": "markdown",
   "metadata": {},
   "source": [
    "# Setup Environment"
   ]
  },
  {
   "cell_type": "code",
   "execution_count": null,
   "metadata": {},
   "outputs": [],
   "source": [
    ";; Enable stack traces\n",
    ";; (clojupyter.misc.stacktrace/set-print-stacktraces! true)\n",
    "(require '[clojupyter.misc.helper :as helper])\n",
    "(helper/add-dependencies '[clojure-opennlp \"0.5.0\"])\n",
    "(helper/add-dependencies '[kixi/stats \"0.5.0\"])\n",
    "(helper/add-dependencies '[io.forward/clojure-mail \"1.0.7\"])\n",
    "(helper/add-dependencies '[clojure2d \"1.1.0\"])\n",
    "(helper/add-dependencies '[metasoarous/oz \"1.5.0\"])\n",
    "(helper/add-dependencies '[clj-time \"0.15.0\"])\n",
    "(print (str \"Done!\"))"
   ]
  },
  {
   "cell_type": "code",
   "execution_count": null,
   "metadata": {},
   "outputs": [],
   "source": [
    ";; Load VADER as local repository\n",
    ";; The vader repo binary must be installed in this directory ./maven-repository\n",
    "(do\n",
    "    (use '[cemerick.pomegranate :only (add-dependencies)])\n",
    "    (add-dependencies \n",
    "        :coordinates '[[local/vader \"2.0.1\"]] \n",
    "        :repositories {\"local/vader\" (str (.toURI (java.io.File. \"./maven_repository\")))}))"
   ]
  },
  {
   "cell_type": "code",
   "execution_count": null,
   "metadata": {},
   "outputs": [],
   "source": [
    ";; Build namespace\n",
    "(ns drafts.sentiment_analysis\n",
    "    (:import [net.nunoachenriques.vader SentimentAnalysis]\n",
    "             [net.nunoachenriques.vader.lexicon English]\n",
    "             [net.nunoachenriques.vader.text TokenizerEnglish]\n",
    "             [java.io FileInputStream File]\n",
    "             [javax.mail Session]\n",
    "             [javax.mail.internet MimeMessage]\n",
    "             [java.util Properties])\n",
    "    (:require [kixi.stats.core :as stats]\n",
    "              [clojure-mail.core :as mail]\n",
    "              [clojure-mail.message :refer (read-message)]\n",
    "              [oz.notebook.clojupyter :as oz]\n",
    "              [clj-time.core :as t]\n",
    "              [clj-time.coerce :as c]\n",
    "              )\n",
    "    (:use [clojure.repl :only (doc source)]\n",
    "          [clojure.pprint :only (pprint)]\n",
    "          [opennlp.nlp :only (make-sentence-detector)]))\n",
    "\n",
    "*ns*"
   ]
  },
  {
   "cell_type": "markdown",
   "metadata": {},
   "source": [
    "# Analyzing Sentiment w/ Vader"
   ]
  },
  {
   "cell_type": "code",
   "execution_count": null,
   "metadata": {},
   "outputs": [],
   "source": [
    "(def language (English.))\n",
    "(def tokenizer (TokenizerEnglish.))"
   ]
  },
  {
   "cell_type": "code",
   "execution_count": null,
   "metadata": {},
   "outputs": [],
   "source": [
    "(def sa (SentimentAnalysis. language tokenizer))"
   ]
  },
  {
   "cell_type": "code",
   "execution_count": null,
   "metadata": {},
   "outputs": [],
   "source": [
    "(. sa (getSentimentAnalysis \"Yay!! You are the best!\"))"
   ]
  },
  {
   "cell_type": "markdown",
   "metadata": {},
   "source": [
    "# Reading Emails"
   ]
  },
  {
   "cell_type": "code",
   "execution_count": null,
   "metadata": {},
   "outputs": [],
   "source": [
    "(def maildir-path \"data/enron_mail/maildir\")"
   ]
  },
  {
   "cell_type": "code",
   "execution_count": null,
   "metadata": {},
   "outputs": [],
   "source": [
    "(def sample-msg \n",
    "    (-> \"data/enron_mail/maildir/arnold-j/_sent_mail/36.\"\n",
    "        (clojure.java.io/as-file)\n",
    "        (mail/file->message)\n",
    "        (read-message)))\n",
    "\n",
    "(pprint sample-msg)"
   ]
  },
  {
   "cell_type": "markdown",
   "metadata": {},
   "source": [
    "# Read in Files"
   ]
  },
  {
   "cell_type": "code",
   "execution_count": null,
   "metadata": {},
   "outputs": [],
   "source": [
    "(defn get-files [start-path re]\n",
    "    (->> start-path\n",
    "         (clojure.java.io/as-file)\n",
    "         (file-seq)\n",
    "         (map #(.getPath %))\n",
    "         (filter #(re-matches re %))))"
   ]
  },
  {
   "cell_type": "code",
   "execution_count": null,
   "metadata": {},
   "outputs": [],
   "source": [
    "(def xform-msg-files\n",
    "    (comp (map mail/file->message)\n",
    "          (map read-message)))"
   ]
  },
  {
   "cell_type": "code",
   "execution_count": null,
   "metadata": {},
   "outputs": [],
   "source": [
    "(def sent-mail-re #\"data\\/enron_mail\\/maildir\\/.*\\/_sent_mail\\/.*\")\n",
    "(def sent-msg-paths (get-files maildir-path sent-mail-re))"
   ]
  },
  {
   "cell_type": "code",
   "execution_count": null,
   "metadata": {},
   "outputs": [],
   "source": [
    "(defn msg-reduce\n",
    "    ([] [])\n",
    "    ([acc] acc)\n",
    "    ([acc m]\n",
    "        (conj acc {:to    (-> (get m :to) (first) (get :address))\n",
    "                   :from  (-> (get m :from) (first) (get :address))\n",
    "                   :date-sent (get m :date-sent)\n",
    "                   :date-received (get m :date-received)\n",
    "                   :subject (get m :subject)\n",
    "                   :body  (get-in m [:body :body])})))"
   ]
  },
  {
   "cell_type": "code",
   "execution_count": null,
   "metadata": {},
   "outputs": [],
   "source": [
    "(def msgs (transduce xform-msg-files msg-reduce sent-msg-paths))"
   ]
  },
  {
   "cell_type": "code",
   "execution_count": null,
   "metadata": {},
   "outputs": [],
   "source": [
    "(count msgs)"
   ]
  },
  {
   "cell_type": "markdown",
   "metadata": {},
   "source": [
    "# Add Message Sentiment"
   ]
  },
  {
   "cell_type": "code",
   "execution_count": null,
   "metadata": {},
   "outputs": [],
   "source": [
    "(defn remove-line-breaks [text]\n",
    "    (clojure.string/replace text #\"\\n\" \"\"))"
   ]
  },
  {
   "cell_type": "code",
   "execution_count": null,
   "metadata": {},
   "outputs": [],
   "source": [
    "(def get-sentences (make-sentence-detector \"./models/en-sent.bin\"))"
   ]
  },
  {
   "cell_type": "code",
   "execution_count": null,
   "metadata": {},
   "outputs": [],
   "source": [
    "(defn add-sentiment\n",
    "    ([] [])\n",
    "    ([acc] acc)\n",
    "    ([acc msg]\n",
    "      (conj acc (conj msg {:avg-sentiment (->> msg\n",
    "                                     (:body)\n",
    "                                     (get-sentences)\n",
    "                                     (map remove-line-breaks)\n",
    "                                     (map #(. sa (getSentimentAnalysis %)))\n",
    "                                     (map #(get % \"compound\"))\n",
    "                                     (transduce identity stats/mean))}))))"
   ]
  },
  {
   "cell_type": "code",
   "execution_count": null,
   "metadata": {},
   "outputs": [],
   "source": [
    "(def sentiment (transduce identity add-sentiment (filter #(< (count (get % :body)) 4000) msgs)))"
   ]
  },
  {
   "cell_type": "markdown",
   "metadata": {},
   "source": [
    "# Plot Sentiment Over Time"
   ]
  },
  {
   "cell_type": "code",
   "execution_count": null,
   "metadata": {},
   "outputs": [],
   "source": [
    "(pprint (->> (take 10 sentiment)\n",
    "             (map #(select-keys % [:date-sent :avg-sentiment]))))"
   ]
  },
  {
   "cell_type": "code",
   "execution_count": null,
   "metadata": {},
   "outputs": [],
   "source": [
    "(defn same-day? [t1 t2]\n",
    "    (t/equal? (t/floor t1 t/day) (t/floor t2 t/day)))"
   ]
  },
  {
   "cell_type": "code",
   "execution_count": null,
   "metadata": {},
   "outputs": [],
   "source": [
    "(def xform-get-time-data\n",
    "    (comp (map #(select-keys % [:date-sent :avg-sentiment]))\n",
    "          (map #(hash-map :date (-> (c/from-date (:date-sent %))\n",
    "                                    (t/floor t/day)\n",
    "                                    (c/to-date))\n",
    "                          :avg-sentiment (:avg-sentiment %)))))"
   ]
  },
  {
   "cell_type": "code",
   "execution_count": null,
   "metadata": {},
   "outputs": [],
   "source": [
    "(pprint (eduction xform-get-time-data (take 5 sentiment)))"
   ]
  },
  {
   "cell_type": "code",
   "execution_count": null,
   "metadata": {},
   "outputs": [],
   "source": [
    "(defn reduce-daily-sentiment\n",
    "    ([] {})\n",
    "    ([acc] \n",
    "     (reduce #(conj %1 {(first %2) \n",
    "                        (transduce identity stats/mean (second %2))}) (sorted-map) acc))\n",
    "    ([acc x]\n",
    "     (let [{date :date sentiment :avg-sentiment} x]\n",
    "            (if (contains? acc date)\n",
    "             (update acc date conj sentiment)\n",
    "             (conj acc {date [sentiment]})))))"
   ]
  },
  {
   "cell_type": "code",
   "execution_count": null,
   "metadata": {},
   "outputs": [],
   "source": [
    "(def average-sentiment-data (transduce xform-get-time-data reduce-daily-sentiment sentiment))"
   ]
  },
  {
   "cell_type": "code",
   "execution_count": null,
   "metadata": {},
   "outputs": [],
   "source": [
    "(count average-sentiment-data)"
   ]
  },
  {
   "cell_type": "code",
   "execution_count": null,
   "metadata": {},
   "outputs": [],
   "source": [
    "(defn average [coll]\n",
    "  (/ (reduce + coll)\n",
    "      (count coll)))\n",
    "\n",
    "(defn moving-average [period coll] \n",
    "  (lazy-cat (repeat (dec period) nil) \n",
    "            (map average (partition period 1  coll))))"
   ]
  },
  {
   "cell_type": "code",
   "execution_count": null,
   "metadata": {},
   "outputs": [],
   "source": [
    "(def time-series-data\n",
    "    (->> average-sentiment-data\n",
    "         (#(vector (map first %) (map second %)))\n",
    "         (#(vector (first %) (second %) (moving-average 30 (second %))))\n",
    "         (apply map vector)\n",
    "         (map #(hash-map :date (str (nth % 0))\n",
    "                         :avg-sentiment (nth % 1)\n",
    "                         :moving-avg (nth % 2)))))"
   ]
  },
  {
   "cell_type": "code",
   "execution_count": null,
   "metadata": {
    "lines_to_next_cell": 0
   },
   "outputs": [],
   "source": [
    ";; (def line-plot\n",
    ";;   {:data {:values time-series-data}\n",
    ";;    :width 400\n",
    ";;    :height 400\n",
    ";;    :encoding {:x {:field \"date\", :type \"temporal\"}\n",
    ";;               :y {:field \"moving-avg\"}}\n",
    ";;    :mark {:type \"line\" :stroke \"red\"}})\n",
    "\n",
    "(def layered-line-plot\n",
    "    {:width 600\n",
    "     :height 600\n",
    "     :data {:values time-series-data}\n",
    "     :layer [{:mark {:type \"line\", :stroke \"lightblue\"}\n",
    "              :encoding {:x {:field \"date\", :type \"temporal\"}\n",
    "                         :y {:field \"avg-sentiment\"}}},\n",
    "             {:mark {:type \"line\", :stroke \"green\"}\n",
    "              :encoding {:x {:field \"date\", :type \"temporal\"}\n",
    "                         :y {:field \"moving-avg\"}}}]})\n",
    "\n",
    ";; Render the plot\n",
    ";; (oz/view! line-plot)\n",
    "(oz/view! layered-line-plot)"
   ]
  },
  {
   "cell_type": "code",
   "execution_count": null,
   "metadata": {
    "lines_to_next_cell": 2
   },
   "outputs": [],
   "source": []
  }
 ],
 "metadata": {
  "celltoolbar": "Raw Cell Format",
  "jupytext": {
   "formats": "ipynb,clj"
  },
  "kernelspec": {
   "display_name": "Clojure (clojupyter-v0.2.2)",
   "language": "clojure",
   "name": "clojupyter"
  },
  "language_info": {
   "file_extension": ".clj",
   "mimetype": "text/x-clojure",
   "name": "clojure",
   "version": "1.10.0"
  }
 },
 "nbformat": 4,
 "nbformat_minor": 2
}
