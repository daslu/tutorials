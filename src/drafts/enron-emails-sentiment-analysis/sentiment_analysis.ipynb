{
 "cells": [
  {
   "cell_type": "markdown",
   "metadata": {},
   "source": [
    "# Setup Environment"
   ]
  },
  {
   "cell_type": "code",
   "execution_count": 2,
   "metadata": {},
   "outputs": [
    {
     "name": "stdout",
     "output_type": "stream",
     "text": [
      "Done!"
     ]
    },
    {
     "data": {
      "text/plain": [
       "nil"
      ]
     },
     "execution_count": 2,
     "metadata": {},
     "output_type": "execute_result"
    }
   ],
   "source": [
    ";; Enable stack traces\n",
    ";; (clojupyter.misc.stacktrace/set-print-stacktraces! true)\n",
    "(require '[clojupyter.misc.helper :as helper])\n",
    "(helper/add-dependencies '[clojure-opennlp \"0.5.0\"])\n",
    "(helper/add-dependencies '[kixi/stats \"0.5.0\"])\n",
    "(helper/add-dependencies '[io.forward/clojure-mail \"1.0.7\"])\n",
    "(helper/add-dependencies '[clojure2d \"1.1.0\"])\n",
    "(helper/add-dependencies '[metasoarous/oz \"1.5.0\"])\n",
    "(helper/add-dependencies '[clj-time \"0.15.0\"])\n",
    "(print (str \"Done!\"))"
   ]
  },
  {
   "cell_type": "code",
   "execution_count": 3,
   "metadata": {},
   "outputs": [
    {
     "data": {
      "text/plain": [
       "{[local/vader \"2.0.1\"] nil}"
      ]
     },
     "execution_count": 3,
     "metadata": {},
     "output_type": "execute_result"
    }
   ],
   "source": [
    ";; Load VADER as local repository\n",
    ";; The vader repo binary must be installed in this directory ./maven-repository\n",
    "(do\n",
    "    (use '[cemerick.pomegranate :only (add-dependencies)])\n",
    "    (add-dependencies \n",
    "        :coordinates '[[local/vader \"2.0.1\"]] \n",
    "        :repositories {\"local/vader\" (str (.toURI (java.io.File. \"./maven_repository\")))}))"
   ]
  },
  {
   "cell_type": "code",
   "execution_count": 4,
   "metadata": {},
   "outputs": [
    {
     "name": "stderr",
     "output_type": "stream",
     "text": [
      "WARNING: boolean? already refers to: #'clojure.core/boolean? in namespace: medley.core, being replaced by: #'medley.core/boolean?\n"
     ]
    },
    {
     "data": {
      "text/plain": [
       "#namespace[drafts.sentiment_analysis]"
      ]
     },
     "execution_count": 4,
     "metadata": {},
     "output_type": "execute_result"
    }
   ],
   "source": [
    ";; Build namespace\n",
    "(ns drafts.sentiment_analysis\n",
    "    (:import [net.nunoachenriques.vader SentimentAnalysis]\n",
    "             [net.nunoachenriques.vader.lexicon English]\n",
    "             [net.nunoachenriques.vader.text TokenizerEnglish]\n",
    "             [java.io FileInputStream File]\n",
    "             [javax.mail Session]\n",
    "             [javax.mail.internet MimeMessage]\n",
    "             [java.util Properties])\n",
    "    (:require [kixi.stats.core :as stats]\n",
    "              [clojure-mail.core :as mail]\n",
    "              [clojure-mail.message :refer (read-message)]\n",
    "              [oz.notebook.clojupyter :as oz]\n",
    "              [clj-time.core :as t]\n",
    "              [clj-time.coerce :as c]\n",
    "              )\n",
    "    (:use [clojure.repl :only (doc source)]\n",
    "          [clojure.pprint :only (pprint)]\n",
    "          [opennlp.nlp :only (make-sentence-detector)]))\n",
    "\n",
    "*ns*"
   ]
  },
  {
   "cell_type": "markdown",
   "metadata": {},
   "source": [
    "# Analyzing Sentiment w/ Vader"
   ]
  },
  {
   "cell_type": "code",
   "execution_count": 5,
   "metadata": {},
   "outputs": [
    {
     "data": {
      "text/plain": [
       "#'drafts.sentiment_analysis/tokenizer"
      ]
     },
     "execution_count": 5,
     "metadata": {},
     "output_type": "execute_result"
    }
   ],
   "source": [
    "(def language (English.))\n",
    "(def tokenizer (TokenizerEnglish.))"
   ]
  },
  {
   "cell_type": "code",
   "execution_count": 6,
   "metadata": {},
   "outputs": [
    {
     "data": {
      "text/plain": [
       "#'drafts.sentiment_analysis/sa"
      ]
     },
     "execution_count": 6,
     "metadata": {},
     "output_type": "execute_result"
    }
   ],
   "source": [
    "(def sa (SentimentAnalysis. language tokenizer))"
   ]
  },
  {
   "cell_type": "code",
   "execution_count": 7,
   "metadata": {},
   "outputs": [
    {
     "data": {
      "text/plain": [
       "{\"negative\" 0.0, \"neutral\" 0.261, \"positive\" 0.739, \"compound\" 0.8582}"
      ]
     },
     "execution_count": 7,
     "metadata": {},
     "output_type": "execute_result"
    }
   ],
   "source": [
    "(. sa (getSentimentAnalysis \"Yay!! You are the best!\"))"
   ]
  },
  {
   "cell_type": "markdown",
   "metadata": {},
   "source": [
    "# Reading Emails"
   ]
  },
  {
   "cell_type": "code",
   "execution_count": 8,
   "metadata": {},
   "outputs": [
    {
     "data": {
      "text/plain": [
       "#'drafts.sentiment_analysis/maildir-path"
      ]
     },
     "execution_count": 8,
     "metadata": {},
     "output_type": "execute_result"
    }
   ],
   "source": [
    "(def maildir-path \"data/enron_mail/maildir\")"
   ]
  },
  {
   "cell_type": "code",
   "execution_count": 9,
   "metadata": {},
   "outputs": [
    {
     "name": "stdout",
     "output_type": "stream",
     "text": [
      "{:cc (),\n",
      " :bcc (),\n",
      " :headers\n",
      " [{\"Message-ID\" \"<33491127.1075857594966.JavaMail.evans@thyme>\"}\n",
      "  {\"Date\" \"Tue, 21 Nov 2000 13:16:00 -0800 (PST)\"}\n",
      "  {\"From\" \"john.arnold@enron.com\"}\n",
      "  {\"To\" \"slafontaine@globalp.com\"}\n",
      "  {\"Subject\" \"re:mkts\"}\n",
      "  {\"Mime-Version\" \"1.0\"}\n",
      "  {\"Content-Type\" \"text/plain; charset=us-ascii\"}\n",
      "  {\"Content-Transfer-Encoding\" \"7bit\"}\n",
      "  {\"X-From\" \"John Arnold\"}\n",
      "  {\"X-To\" \"slafontaine@globalp.com @ ENRON\"}\n",
      "  {\"X-cc\" \"\"}\n",
      "  {\"X-bcc\" \"\"}\n",
      "  {\"X-Folder\" \"\\\\John_Arnold_Dec2000\\\\Notes Folders\\\\'sent mail\"}\n",
      "  {\"X-Origin\" \"Arnold-J\"}\n",
      "  {\"X-FileName\" \"Jarnold.nsf\"}],\n",
      " :date-sent #inst \"2000-11-21T21:16:00.000-00:00\",\n",
      " :date-received nil,\n",
      " :from ({:address \"john.arnold@enron.com\", :name nil}),\n",
      " :id \"<33491127.1075857594966.JavaMail.evans@thyme>\",\n",
      " :sender nil,\n",
      " :content-type \"text/plain; charset=us-ascii\",\n",
      " :multipart? false,\n",
      " :body\n",
      " {:content-type \"text/plain; charset=us-ascii\",\n",
      "  :body\n",
      "  \"Hey:\\nHaven't had the best of months.  Like you had some good positions but others \\nwiped out everything.  Unbelievable how the whole curve moves as one for 6 \\nmonths and then separates completely.  The z/f/g and f/g/h flies are \\namazing.  Something definitely out of whack.  Hard to believe cash in Z will \\nbe cantango to F and front spread, F/G, will be 40.  Spreads definitely \\nimplying we will see some $10+ prints on daily cash at the hub this winter.  \\nHell, already seeing it in the West.  The system is just broken there.  \\ninteresting to see if it is a sign of what can come in the east later.  \\ndefinitely more flexibility in the east so the blowouts won't occur until \\nlatter part of the winter.   the inelasticity of demand continues to be \\nunbelievable.  who would have thunk it.   Gas can be 3 times what it was one \\nyear ago and not a significant loss of demand.   \\nmarket definitely trained to buy the dips at this point.  continues to be a \\nvery trending market.  most days finish on the intraday high or low.  \\nPira told the boys to hedge jv and cal 2 and the impact has been \\nsignificant.  i quote bids on term strips 5 times a day.   understand they \\nare changing their view somewhat tomorrow.  wait and see if it relieves some \\nback pressure.  very surprised at lack of spec long interest in jv at 4.5 \\nconsidering the scenario that's being painted.   \\n\\n\\n\\n\\nslafontaine@globalp.com on 11/21/2000 01:06:40 PM\\nTo: jarnold@enron.com\\ncc:  \\nSubject: re:mkts\\n\\n\\n\\njohnny, hope things re treating you well. this month has been frustrating for\\nme-generally caught many mkt moves but had 2 postions that nearly cancelled \\nall\\nthe rest. im finding it really really hard to assess risk now in oil and gas\\ntherefore im taking a step back esp in front of holidays and year end. was \\nlong\\nmar gas vs backs which worked great but i took profits waayyy too early\\n  flat px i think is pretty clear-if weather stays normal to below we keep a\\nflaoor at 5.80-6.00 bucks for another 40 days at least. if we have sustained\\naboves we drop like a rock in part due to back en d pressure.\\n\\n   but spreads-what the hell do we do with em?????????? was just saying to \\nmark\\nsilverman there is a huge opportunity here staring us in the face but i hve no\\nidea what it is-i have equal arguements for why sprds shud fall or move out. \\nany\\ngreat insites? hope all is well and enjoy the long weeknd-we both deserve it.\\n   guess the curve will stop blowing out when/if we see the back end selling \\ndry\\nup??\\n\\n\\n\\n\"},\n",
      " :subject \"re:mkts\",\n",
      " :to ({:address \"slafontaine@globalp.com\", :name nil})}\n"
     ]
    },
    {
     "data": {
      "text/plain": [
       "nil"
      ]
     },
     "execution_count": 9,
     "metadata": {},
     "output_type": "execute_result"
    }
   ],
   "source": [
    "(def sample-msg \n",
    "    (-> \"data/enron_mail/maildir/arnold-j/_sent_mail/36.\"\n",
    "        (clojure.java.io/as-file)\n",
    "        (mail/file->message)\n",
    "        (read-message)))\n",
    "\n",
    "(pprint sample-msg)"
   ]
  },
  {
   "cell_type": "markdown",
   "metadata": {},
   "source": [
    "# Read in Files"
   ]
  },
  {
   "cell_type": "code",
   "execution_count": 10,
   "metadata": {},
   "outputs": [
    {
     "data": {
      "text/plain": [
       "#'drafts.sentiment_analysis/get-files"
      ]
     },
     "execution_count": 10,
     "metadata": {},
     "output_type": "execute_result"
    }
   ],
   "source": [
    "(defn get-files [start-path re]\n",
    "    (->> start-path\n",
    "         (clojure.java.io/as-file)\n",
    "         (file-seq)\n",
    "         (map #(.getPath %))\n",
    "         (filter #(re-matches re %))))"
   ]
  },
  {
   "cell_type": "code",
   "execution_count": 11,
   "metadata": {},
   "outputs": [
    {
     "data": {
      "text/plain": [
       "#'drafts.sentiment_analysis/xform-msg-files"
      ]
     },
     "execution_count": 11,
     "metadata": {},
     "output_type": "execute_result"
    }
   ],
   "source": [
    "(def xform-msg-files\n",
    "    (comp (map mail/file->message)\n",
    "          (map read-message)))"
   ]
  },
  {
   "cell_type": "code",
   "execution_count": 12,
   "metadata": {},
   "outputs": [
    {
     "data": {
      "text/plain": [
       "#'drafts.sentiment_analysis/sent-msg-paths"
      ]
     },
     "execution_count": 12,
     "metadata": {},
     "output_type": "execute_result"
    }
   ],
   "source": [
    "(def sent-mail-re #\"data\\/enron_mail\\/maildir\\/.*\\/_sent_mail\\/.*\")\n",
    "(def sent-msg-paths (get-files maildir-path sent-mail-re))"
   ]
  },
  {
   "cell_type": "code",
   "execution_count": 13,
   "metadata": {},
   "outputs": [
    {
     "data": {
      "text/plain": [
       "#'drafts.sentiment_analysis/msg-reduce"
      ]
     },
     "execution_count": 13,
     "metadata": {},
     "output_type": "execute_result"
    }
   ],
   "source": [
    "(defn msg-reduce\n",
    "    ([] [])\n",
    "    ([acc] acc)\n",
    "    ([acc m]\n",
    "        (conj acc {:to    (-> (get m :to) (first) (get :address))\n",
    "                   :from  (-> (get m :from) (first) (get :address))\n",
    "                   :date-sent (get m :date-sent)\n",
    "                   :date-received (get m :date-received)\n",
    "                   :subject (get m :subject)\n",
    "                   :body  (get-in m [:body :body])})))"
   ]
  },
  {
   "cell_type": "code",
   "execution_count": 14,
   "metadata": {},
   "outputs": [
    {
     "data": {
      "text/plain": [
       "#'drafts.sentiment_analysis/msgs"
      ]
     },
     "execution_count": 14,
     "metadata": {},
     "output_type": "execute_result"
    }
   ],
   "source": [
    "(def msgs (transduce xform-msg-files msg-reduce sent-msg-paths))"
   ]
  },
  {
   "cell_type": "code",
   "execution_count": 15,
   "metadata": {},
   "outputs": [
    {
     "data": {
      "text/plain": [
       "30237"
      ]
     },
     "execution_count": 15,
     "metadata": {},
     "output_type": "execute_result"
    }
   ],
   "source": [
    "(count msgs)"
   ]
  },
  {
   "cell_type": "markdown",
   "metadata": {},
   "source": [
    "# Add Message Sentiment"
   ]
  },
  {
   "cell_type": "code",
   "execution_count": 16,
   "metadata": {},
   "outputs": [
    {
     "data": {
      "text/plain": [
       "#'drafts.sentiment_analysis/remove-line-breaks"
      ]
     },
     "execution_count": 16,
     "metadata": {},
     "output_type": "execute_result"
    }
   ],
   "source": [
    "(defn remove-line-breaks [text]\n",
    "    (clojure.string/replace text #\"\\n\" \"\"))"
   ]
  },
  {
   "cell_type": "code",
   "execution_count": 17,
   "metadata": {},
   "outputs": [
    {
     "data": {
      "text/plain": [
       "#'drafts.sentiment_analysis/get-sentences"
      ]
     },
     "execution_count": 17,
     "metadata": {},
     "output_type": "execute_result"
    }
   ],
   "source": [
    "(def get-sentences (make-sentence-detector \"./models/en-sent.bin\"))"
   ]
  },
  {
   "cell_type": "code",
   "execution_count": 18,
   "metadata": {},
   "outputs": [
    {
     "data": {
      "text/plain": [
       "#'drafts.sentiment_analysis/add-sentiment"
      ]
     },
     "execution_count": 18,
     "metadata": {},
     "output_type": "execute_result"
    }
   ],
   "source": [
    "(defn add-sentiment\n",
    "    ([] [])\n",
    "    ([acc] acc)\n",
    "    ([acc msg]\n",
    "      (conj acc (conj msg {:avg-sentiment (->> msg\n",
    "                                     (:body)\n",
    "                                     (get-sentences)\n",
    "                                     (map remove-line-breaks)\n",
    "                                     (map #(. sa (getSentimentAnalysis %)))\n",
    "                                     (map #(get % \"compound\"))\n",
    "                                     (transduce identity stats/mean))}))))"
   ]
  },
  {
   "cell_type": "code",
   "execution_count": 19,
   "metadata": {},
   "outputs": [
    {
     "data": {
      "text/plain": [
       "#'drafts.sentiment_analysis/sentiment"
      ]
     },
     "execution_count": 19,
     "metadata": {},
     "output_type": "execute_result"
    }
   ],
   "source": [
    "(def sentiment (transduce identity add-sentiment (filter #(< (count (get % :body)) 4000) msgs)))"
   ]
  },
  {
   "cell_type": "markdown",
   "metadata": {},
   "source": [
    "# Plot Sentiment Over Time"
   ]
  },
  {
   "cell_type": "code",
   "execution_count": 20,
   "metadata": {},
   "outputs": [
    {
     "data": {
      "text/plain": [
       "({:date-sent #inst \"2000-11-21T21:16:00.000-00:00\", :avg-sentiment 0.08433029845808492} {:date-sent #inst \"2001-02-20T22:15:00.000-00:00\", :avg-sentiment 0.16147499904036522} {:date-sent #inst \"2001-01-11T20:16:00.000-00:00\", :avg-sentiment 0.06797179616151904} {:date-sent #inst \"2000-07-17T07:50:00.000-00:00\", :avg-sentiment 0.005300000309944153} {:date-sent #inst \"2001-02-06T13:15:00.000-00:00\", :avg-sentiment 0.01825161374384357} {:date-sent #inst \"2000-08-17T11:48:00.000-00:00\", :avg-sentiment 0.0} {:date-sent #inst \"2001-03-26T11:08:00.000-00:00\", :avg-sentiment 0.0} {:date-sent #inst \"2000-09-27T11:12:00.000-00:00\", :avg-sentiment 0.48599998156229657} {:date-sent #inst \"2001-05-13T15:36:00.000-00:00\", :avg-sentiment 0.21230000044618333} {:date-sent #inst \"2000-10-18T09:47:00.000-00:00\", :avg-sentiment 0.025407693133904383})"
      ]
     },
     "execution_count": 20,
     "metadata": {},
     "output_type": "execute_result"
    }
   ],
   "source": [
    "(->> (take 10 sentiment)\n",
    "     (map #(select-keys % [:date-sent :avg-sentiment])))"
   ]
  },
  {
   "cell_type": "code",
   "execution_count": 21,
   "metadata": {},
   "outputs": [
    {
     "data": {
      "text/plain": [
       "#'drafts.sentiment_analysis/same-day?"
      ]
     },
     "execution_count": 21,
     "metadata": {},
     "output_type": "execute_result"
    }
   ],
   "source": [
    "(defn same-day? [t1 t2]\n",
    "    (t/equal? (t/floor t1 t/day) (t/floor t2 t/day)))"
   ]
  },
  {
   "cell_type": "code",
   "execution_count": 22,
   "metadata": {},
   "outputs": [
    {
     "data": {
      "text/plain": [
       "#'drafts.sentiment_analysis/xform-get-time-data"
      ]
     },
     "execution_count": 22,
     "metadata": {},
     "output_type": "execute_result"
    }
   ],
   "source": [
    "(def xform-get-time-data\n",
    "    (comp (map #(select-keys % [:date-sent :avg-sentiment]))\n",
    "          (map #(hash-map :date (-> (c/from-date (:date-sent %))\n",
    "                                    (t/floor t/day)\n",
    "                                    (c/to-date))\n",
    "                          :avg-sentiment (:avg-sentiment %)))))"
   ]
  },
  {
   "cell_type": "code",
   "execution_count": 23,
   "metadata": {},
   "outputs": [
    {
     "name": "stdout",
     "output_type": "stream",
     "text": [
      "({:date #inst \"2000-11-21T00:00:00.000-00:00\", :avg-sentiment 0.08433029845808492} {:date #inst \"2001-02-20T00:00:00.000-00:00\", :avg-sentiment 0.16147499904036522} {:date #inst \"2001-01-11T00:00:00.000-00:00\", :avg-sentiment 0.06797179616151904} {:date #inst \"2000-07-17T00:00:00.000-00:00\", :avg-sentiment 0.005300000309944153} {:date #inst \"2001-02-06T00:00:00.000-00:00\", :avg-sentiment 0.01825161374384357})\n"
     ]
    },
    {
     "data": {
      "text/plain": [
       "nil"
      ]
     },
     "execution_count": 23,
     "metadata": {},
     "output_type": "execute_result"
    }
   ],
   "source": [
    "(pprint (eduction xform-get-time-data (take 5 sentiment)))"
   ]
  },
  {
   "cell_type": "code",
   "execution_count": 24,
   "metadata": {},
   "outputs": [
    {
     "data": {
      "text/plain": [
       "#'drafts.sentiment_analysis/reduce-daily-sentiment"
      ]
     },
     "execution_count": 24,
     "metadata": {},
     "output_type": "execute_result"
    }
   ],
   "source": [
    "(defn reduce-daily-sentiment\n",
    "    ([] {})\n",
    "    ([acc] \n",
    "     (reduce #(conj %1 {(first %2) \n",
    "                        (transduce identity stats/mean (second %2))}) (sorted-map) acc))\n",
    "    ([acc x]\n",
    "     (let [{date :date sentiment :avg-sentiment} x]\n",
    "            (if (contains? acc date)\n",
    "             (update acc date conj sentiment)\n",
    "             (conj acc {date [sentiment]})))))"
   ]
  },
  {
   "cell_type": "code",
   "execution_count": 25,
   "metadata": {},
   "outputs": [
    {
     "data": {
      "text/plain": [
       "#'drafts.sentiment_analysis/average-sentiment-data"
      ]
     },
     "execution_count": 25,
     "metadata": {},
     "output_type": "execute_result"
    }
   ],
   "source": [
    "(def average-sentiment-data (transduce xform-get-time-data reduce-daily-sentiment sentiment))"
   ]
  },
  {
   "cell_type": "code",
   "execution_count": 26,
   "metadata": {},
   "outputs": [
    {
     "data": {
      "text/plain": [
       "556"
      ]
     },
     "execution_count": 26,
     "metadata": {},
     "output_type": "execute_result"
    }
   ],
   "source": [
    "(count average-sentiment-data)"
   ]
  },
  {
   "cell_type": "code",
   "execution_count": 27,
   "metadata": {},
   "outputs": [
    {
     "data": {
      "text/plain": [
       "#'drafts.sentiment_analysis/moving-average"
      ]
     },
     "execution_count": 27,
     "metadata": {},
     "output_type": "execute_result"
    }
   ],
   "source": [
    "(defn average [coll]\n",
    "  (/ (reduce + coll)\n",
    "      (count coll)))\n",
    "\n",
    "(defn moving-average [period coll] \n",
    "  (lazy-cat (repeat (dec period) nil) \n",
    "            (map average (partition period 1  coll))))"
   ]
  },
  {
   "cell_type": "code",
   "execution_count": 56,
   "metadata": {},
   "outputs": [
    {
     "data": {
      "text/plain": [
       "#'drafts.sentiment_analysis/time-series-data"
      ]
     },
     "execution_count": 56,
     "metadata": {},
     "output_type": "execute_result"
    }
   ],
   "source": [
    "(def time-series-data\n",
    "    (->> average-sentiment-data\n",
    "         (#(vector (map first %) (map second %)))\n",
    "         (#(vector (first %) (second %) (moving-average 30 (second %))))\n",
    "         (apply map vector)\n",
    "         (map #(hash-map :date (str (nth % 0))\n",
    "                         :avg-sentiment (nth % 1)\n",
    "                         :moving-avg (nth % 2)))))\n",
    "         "
   ]
  },
  {
   "cell_type": "code",
   "execution_count": 58,
   "metadata": {},
   "outputs": [
    {
     "data": {
      "text/html": [
       "\n",
       "<div>\n",
       "  <div id='uuid-f3886baf-ea23-460d-8910-6c402b5e961c'></div>\n",
       "  <script>\n",
       "  requirejs.config({\n",
       "    baseUrl: 'https://cdn.jsdelivr.net/npm/',\n",
       "    paths: {\n",
       "      'vega-embed':  'vega-embed@3?noext',\n",
       "      'vega-lib': 'vega-lib?noext',\n",
       "      'vega-lite': 'vega-lite@2?noext',\n",
       "      'vega': 'vega@3?noext'\n",
       "    }\n",
       "  });\n",
       "  require(['vega-embed'], function(vegaEmbed) {\n",
       "    let spec = {\"width\":600,\"height\":600,\"data\":{\"values\":[{\"date\":\"Thu Dec 09 19:00:00 EST 1999\",\"moving-avg\":null,\"avg-sentiment\":0.15384195645396806},{\"date\":\"Fri Dec 10 19:00:00 EST 1999\",\"moving-avg\":null,\"avg-sentiment\":0.21958139434803364},{\"date\":\"Sat Dec 11 19:00:00 EST 1999\",\"moving-avg\":null,\"avg-sentiment\":0.08632857033184596},{\"date\":\"Sun Dec 12 19:00:00 EST 1999\",\"moving-avg\":null,\"avg-sentiment\":0.11342400834208506},{\"date\":\"Mon Dec 13 19:00:00 EST 1999\",\"moving-avg\":null,\"avg-sentiment\":0.0955659725782402},{\"date\":\"Tue Dec 14 19:00:00 EST 1999\",\"moving-avg\":null,\"avg-sentiment\":0.11260412064069529},{\"date\":\"Wed Dec 15 19:00:00 EST 1999\",\"moving-avg\":null,\"avg-sentiment\":0.15450732641099466},{\"date\":\"Thu Dec 16 19:00:00 EST 1999\",\"moving-avg\":null,\"avg-sentiment\":0.18895648603878956},{\"date\":\"Sat Dec 18 19:00:00 EST 1999\",\"moving-avg\":null,\"avg-sentiment\":0.1463428994915329},{\"date\":\"Sun Dec 19 19:00:00 EST 1999\",\"moving-avg\":null,\"avg-sentiment\":0.18272599393814973},{\"date\":\"Mon Dec 20 19:00:00 EST 1999\",\"moving-avg\":null,\"avg-sentiment\":0.23931230496760314},{\"date\":\"Tue Dec 21 19:00:00 EST 1999\",\"moving-avg\":null,\"avg-sentiment\":0.19382563663415717},{\"date\":\"Wed Dec 22 19:00:00 EST 1999\",\"moving-avg\":null,\"avg-sentiment\":0.09785311118309317},{\"date\":\"Sun Dec 26 19:00:00 EST 1999\",\"moving-avg\":null,\"avg-sentiment\":0.12636056245101282},{\"date\":\"Mon Dec 27 19:00:00 EST 1999\",\"moving-avg\":null,\"avg-sentiment\":0.06694276222368742},{\"date\":\"Tue Dec 28 19:00:00 EST 1999\",\"moving-avg\":null,\"avg-sentiment\":0.061291793719052315},{\"date\":\"Wed Dec 29 19:00:00 EST 1999\",\"moving-avg\":null,\"avg-sentiment\":0.21682072228882723},{\"date\":\"Thu Dec 30 19:00:00 EST 1999\",\"moving-avg\":null,\"avg-sentiment\":0.2735766629378001},{\"date\":\"Fri Dec 31 19:00:00 EST 1999\",\"moving-avg\":null,\"avg-sentiment\":0.17788999676704406},{\"date\":\"Sun Jan 02 19:00:00 EST 2000\",\"moving-avg\":null,\"avg-sentiment\":0.09984083411594233},{\"date\":\"Mon Jan 03 19:00:00 EST 2000\",\"moving-avg\":null,\"avg-sentiment\":0.17512606859696156},{\"date\":\"Tue Jan 04 19:00:00 EST 2000\",\"moving-avg\":null,\"avg-sentiment\":0.1351371521463987},{\"date\":\"Wed Jan 05 19:00:00 EST 2000\",\"moving-avg\":null,\"avg-sentiment\":0.17525790188217125},{\"date\":\"Thu Jan 06 19:00:00 EST 2000\",\"moving-avg\":null,\"avg-sentiment\":0.111300774246198},{\"date\":\"Fri Jan 07 19:00:00 EST 2000\",\"moving-avg\":null,\"avg-sentiment\":-0.034433335065841675},{\"date\":\"Sat Jan 08 19:00:00 EST 2000\",\"moving-avg\":null,\"avg-sentiment\":0.0558076910674572},{\"date\":\"Sun Jan 09 19:00:00 EST 2000\",\"moving-avg\":null,\"avg-sentiment\":0.1348895337987772},{\"date\":\"Mon Jan 10 19:00:00 EST 2000\",\"moving-avg\":null,\"avg-sentiment\":0.14818838720828623},{\"date\":\"Tue Jan 11 19:00:00 EST 2000\",\"moving-avg\":null,\"avg-sentiment\":0.15860672041284293},{\"date\":\"Wed Jan 12 19:00:00 EST 2000\",\"moving-avg\":0.14031262318844148,\"avg-sentiment\":0.14190468549743795},{\"date\":\"Thu Jan 13 19:00:00 EST 2000\",\"moving-avg\":0.1410249052151991,\"avg-sentiment\":0.1752104172566968},{\"date\":\"Fri Jan 14 19:00:00 EST 2000\",\"moving-avg\":0.1400238507684715,\"avg-sentiment\":0.18954976094620565},{\"date\":\"Sat Jan 15 19:00:00 EST 2000\",\"moving-avg\":0.13981271317615204,\"avg-sentiment\":0.07999444256226222},{\"date\":\"Sun Jan 16 19:00:00 EST 2000\",\"moving-avg\":0.13997397091988392,\"avg-sentiment\":0.11826174065404171},{\"date\":\"Mon Jan 17 19:00:00 EST 2000\",\"moving-avg\":0.14042025957613605,\"avg-sentiment\":0.10895463226580461},{\"date\":\"Tue Jan 18 19:00:00 EST 2000\",\"moving-avg\":0.14093977383609194,\"avg-sentiment\":0.12818954843937214},{\"date\":\"Wed Jan 19 19:00:00 EST 2000\",\"moving-avg\":0.14061296416179492,\"avg-sentiment\":0.14470303618208374},{\"date\":\"Thu Jan 20 19:00:00 EST 2000\",\"moving-avg\":0.13763422509996753,\"avg-sentiment\":0.09959431418396877},{\"date\":\"Fri Jan 21 19:00:00 EST 2000\",\"moving-avg\":0.13492232571853652,\"avg-sentiment\":0.06498591804860175},{\"date\":\"Sat Jan 22 19:00:00 EST 2000\",\"moving-avg\":0.11893145955592836,\"avg-sentiment\":-0.296999990940094},{\"date\":\"Sun Jan 23 19:00:00 EST 2000\",\"moving-avg\":0.11614704700848072,\"avg-sentiment\":0.1557799285441729},{\"date\":\"Mon Jan 24 19:00:00 EST 2000\",\"moving-avg\":0.11192642455286592,\"avg-sentiment\":0.0672069629657131},{\"date\":\"Tue Jan 25 19:00:00 EST 2000\",\"moving-avg\":0.11262482755721633,\"avg-sentiment\":0.11880520131360478},{\"date\":\"Wed Jan 26 19:00:00 EST 2000\",\"moving-avg\":0.11246307884672448,\"avg-sentiment\":0.12150810113625775},{\"date\":\"Thu Jan 27 19:00:00 EST 2000\",\"moving-avg\":0.11426457137920308,\"avg-sentiment\":0.12098753819804559},{\"date\":\"Fri Jan 28 19:00:00 EST 2000\",\"moving-avg\":0.11575706705723325,\"avg-sentiment\":0.10606666405995686},{\"date\":\"Sun Jan 30 19:00:00 EST 2000\",\"moving-avg\":0.11347729657300584,\"avg-sentiment\":0.1484276077620052},{\"date\":\"Mon Jan 31 19:00:00 EST 2000\",\"moving-avg\":0.10861328072472005,\"avg-sentiment\":0.12765618748922644},{\"date\":\"Tue Feb 01 19:00:00 EST 2000\",\"moving-avg\":0.10722425073477658,\"avg-sentiment\":0.13621909706873964},{\"date\":\"Wed Feb 02 19:00:00 EST 2000\",\"moving-avg\":0.10901910964735778,\"avg-sentiment\":0.15368660149337832},{\"date\":\"Thu Feb 03 19:00:00 EST 2000\",\"moving-avg\":0.10804459936107545,\"avg-sentiment\":0.1458907600084918},{\"date\":\"Sat Feb 05 19:00:00 EST 2000\",\"moving-avg\":0.10929727332796696,\"avg-sentiment\":0.17271737115314373},{\"date\":\"Sun Feb 06 19:00:00 EST 2000\",\"moving-avg\":0.10678063882615914,\"avg-sentiment\":0.0997588668279365},{\"date\":\"Mon Feb 07 19:00:00 EST 2000\",\"moving-avg\":0.10765835576618095,\"avg-sentiment\":0.13763228244685213},{\"date\":\"Tue Feb 08 19:00:00 EST 2000\",\"moving-avg\":0.11516722289209604,\"avg-sentiment\":0.19083267871161086},{\"date\":\"Wed Feb 09 19:00:00 EST 2000\",\"moving-avg\":0.11787270598248957,\"avg-sentiment\":0.13697218377926346},{\"date\":\"Thu Feb 10 19:00:00 EST 2000\",\"moving-avg\":0.11811129699809478,\"avg-sentiment\":0.1420472642669334},{\"date\":\"Sat Feb 12 19:00:00 EST 2000\",\"moving-avg\":0.11866535273963207,\"avg-sentiment\":0.16481005945440494},{\"date\":\"Sun Feb 13 19:00:00 EST 2000\",\"moving-avg\":0.11747991397524264,\"avg-sentiment\":0.12304355748116023},{\"date\":\"Mon Feb 14 19:00:00 EST 2000\",\"moving-avg\":0.11669539096244777,\"avg-sentiment\":0.11836899511359168},{\"date\":\"Tue Feb 15 19:00:00 EST 2000\",\"moving-avg\":0.1141440812345948,\"avg-sentiment\":0.09867112542110774},{\"date\":\"Wed Feb 16 19:00:00 EST 2000\",\"moving-avg\":0.11257738945644905,\"avg-sentiment\":0.1425490076018332},{\"date\":\"Thu Feb 17 19:00:00 EST 2000\",\"moving-avg\":0.11508907745276177,\"avg-sentiment\":0.1553450824516436},{\"date\":\"Fri Feb 18 19:00:00 EST 2000\",\"moving-avg\":0.1134097475480021,\"avg-sentiment\":0.0678818435112517},{\"date\":\"Sat Feb 19 19:00:00 EST 2000\",\"moving-avg\":0.11512959320609784,\"avg-sentiment\":0.16055000200867653},{\"date\":\"Sun Feb 20 19:00:00 EST 2000\",\"moving-avg\":0.11745136871932448,\"avg-sentiment\":0.19784281383617158},{\"date\":\"Mon Feb 21 19:00:00 EST 2000\",\"moving-avg\":0.11615676950927113,\"avg-sentiment\":0.10586505988048334},{\"date\":\"Tue Feb 22 19:00:00 EST 2000\",\"moving-avg\":0.1177894609098736,\"avg-sentiment\":0.1485750562020432},{\"date\":\"Wed Feb 23 19:00:00 EST 2000\",\"moving-avg\":0.12152599412576771,\"avg-sentiment\":0.1770819145254246},{\"date\":\"Thu Feb 24 19:00:00 EST 2000\",\"moving-avg\":0.1368493051714749,\"avg-sentiment\":0.16269934043112108},{\"date\":\"Sun Feb 27 19:00:00 EST 2000\",\"moving-avg\":0.13619707109473944,\"avg-sentiment\":0.1362129062421101},{\"date\":\"Mon Feb 28 19:00:00 EST 2000\",\"moving-avg\":0.1400076998108566,\"avg-sentiment\":0.18152582444922766},{\"date\":\"Tue Feb 29 19:00:00 EST 2000\",\"moving-avg\":0.14043939248158113,\"avg-sentiment\":0.13175598143534104},{\"date\":\"Wed Mar 01 19:00:00 EST 2000\",\"moving-avg\":0.13962529533503995,\"avg-sentiment\":0.09708518674002277},{\"date\":\"Thu Mar 02 19:00:00 EST 2000\",\"moving-avg\":0.13882258734141514,\"avg-sentiment\":0.09690629838930076},{\"date\":\"Sat Mar 04 19:00:00 EST 2000\",\"moving-avg\":0.14306505766379893,\"avg-sentiment\":0.2333407737314701},{\"date\":\"Sun Mar 05 19:00:00 EST 2000\",\"moving-avg\":0.14212301799563537,\"avg-sentiment\":0.12016641771709811},{\"date\":\"Mon Mar 06 19:00:00 EST 2000\",\"moving-avg\":0.14182929378922507,\"avg-sentiment\":0.11884446129691838},{\"date\":\"Tue Mar 07 19:00:00 EST 2000\",\"moving-avg\":0.1415584604441495,\"avg-sentiment\":0.12809409671647295},{\"date\":\"Wed Mar 08 19:00:00 EST 2000\",\"moving-avg\":0.14071453474636977,\"avg-sentiment\":0.12836883055998682},{\"date\":\"Thu Mar 09 19:00:00 EST 2000\",\"moving-avg\":0.13966940458689858,\"avg-sentiment\":0.11453685522435539},{\"date\":\"Sat Mar 11 19:00:00 EST 2000\",\"moving-avg\":0.1471225753428244,\"avg-sentiment\":0.39631249383091927},{\"date\":\"Sun Mar 12 19:00:00 EST 2000\",\"moving-avg\":0.1480793889076187,\"avg-sentiment\":0.12846327377176428},{\"date\":\"Mon Mar 13 19:00:00 EST 2000\",\"moving-avg\":0.14750383727837493,\"avg-sentiment\":0.12036573356953911},{\"date\":\"Tue Mar 14 19:00:00 EST 2000\",\"moving-avg\":0.1458827145222555,\"avg-sentiment\":0.14219899602802827},{\"date\":\"Wed Mar 15 19:00:00 EST 2000\",\"moving-avg\":0.14628952581739726,\"avg-sentiment\":0.14917652263351652},{\"date\":\"Thu Mar 16 19:00:00 EST 2000\",\"moving-avg\":0.14457610693455067,\"avg-sentiment\":0.09064469778153536},{\"date\":\"Sun Mar 19 19:00:00 EST 2000\",\"moving-avg\":0.14150570695814751,\"avg-sentiment\":0.07269806016231123},{\"date\":\"Mon Mar 20 19:00:00 EST 2000\",\"moving-avg\":0.1411337147002668,\"avg-sentiment\":0.11188378974473774},{\"date\":\"Tue Mar 21 19:00:00 EST 2000\",\"moving-avg\":0.1404007568292398,\"avg-sentiment\":0.0963802589827815},{\"date\":\"Wed Mar 22 19:00:00 EST 2000\",\"moving-avg\":0.14115760236183428,\"avg-sentiment\":0.12137649139894288},{\"date\":\"Thu Mar 23 19:00:00 EST 2000\",\"moving-avg\":0.14009082387856023,\"avg-sentiment\":0.11054565310361225},{\"date\":\"Sat Mar 25 19:00:00 EST 2000\",\"moving-avg\":0.14069812097554973,\"avg-sentiment\":0.1735639953613281},{\"date\":\"Sun Mar 26 19:00:00 EST 2000\",\"moving-avg\":0.14359088718063678,\"avg-sentiment\":0.1546648296638631},{\"date\":\"Mon Mar 27 19:00:00 EST 2000\",\"moving-avg\":0.14100452508606529,\"avg-sentiment\":0.08295913917153054},{\"date\":\"Tue Mar 28 19:00:00 EST 2000\",\"moving-avg\":0.1396747103036114,\"avg-sentiment\":0.15794837036255463},{\"date\":\"Wed Mar 29 19:00:00 EST 2000\",\"moving-avg\":0.14030764882055463,\"avg-sentiment\":0.12485321538878116},{\"date\":\"Thu Mar 30 19:00:00 EST 2000\",\"moving-avg\":0.14075816077376888,\"avg-sentiment\":0.16209041479847153},{\"date\":\"Sun Apr 02 20:00:00 EDT 2000\",\"moving-avg\":0.13958009862390547,\"avg-sentiment\":0.14174005002952145},{\"date\":\"Mon Apr 03 20:00:00 EDT 2000\",\"moving-avg\":0.13817137852399644,\"avg-sentiment\":0.12043773743384951},{\"date\":\"Tue Apr 04 20:00:00 EDT 2000\",\"moving-avg\":0.1376060466671074,\"avg-sentiment\":0.11925295053543956},{\"date\":\"Wed Apr 05 20:00:00 EDT 2000\",\"moving-avg\":0.1352384130868617,\"avg-sentiment\":0.11049681704185567},{\"date\":\"Thu Apr 06 20:00:00 EDT 2000\",\"moving-avg\":0.13446096954145395,\"avg-sentiment\":0.10843267507310889},{\"date\":\"Fri Apr 07 20:00:00 EDT 2000\",\"moving-avg\":0.13479156063702563,\"avg-sentiment\":0.10700291960717286},{\"date\":\"Sat Apr 08 20:00:00 EDT 2000\",\"moving-avg\":0.13348468404749342,\"avg-sentiment\":0.05770000070333481},{\"date\":\"Sun Apr 09 20:00:00 EDT 2000\",\"moving-avg\":0.12894963725035125,\"avg-sentiment\":0.09728936981720449},{\"date\":\"Mon Apr 10 20:00:00 EDT 2000\",\"moving-avg\":0.12818058524185305,\"avg-sentiment\":0.09709485746215273},{\"date\":\"Tue Apr 11 20:00:00 EDT 2000\",\"moving-avg\":0.12932902075332534,\"avg-sentiment\":0.15329752664108645},{\"date\":\"Wed Apr 12 20:00:00 EDT 2000\",\"moving-avg\":0.12845691033836915,\"avg-sentiment\":0.10193078426778805},{\"date\":\"Thu Apr 13 20:00:00 EDT 2000\",\"moving-avg\":0.12934084075952726,\"avg-sentiment\":0.15488674319472986},{\"date\":\"Fri Apr 14 20:00:00 EDT 2000\",\"moving-avg\":0.13105247547752372,\"avg-sentiment\":0.1658858967642499},{\"date\":\"Sat Apr 15 20:00:00 EDT 2000\",\"moving-avg\":0.12085072569658403,\"avg-sentiment\":0.09026000040272872},{\"date\":\"Sun Apr 16 20:00:00 EDT 2000\",\"moving-avg\":0.1207431388461006,\"avg-sentiment\":0.1252356682572611},{\"date\":\"Mon Apr 17 20:00:00 EDT 2000\",\"moving-avg\":0.12011656773379828,\"avg-sentiment\":0.10156860020046983},{\"date\":\"Tue Apr 18 20:00:00 EDT 2000\",\"moving-avg\":0.12035111222402037,\"avg-sentiment\":0.1492353307346906},{\"date\":\"Wed Apr 19 20:00:00 EDT 2000\",\"moving-avg\":0.11874547144601867,\"avg-sentiment\":0.10100729929346611},{\"date\":\"Thu Apr 20 20:00:00 EDT 2000\",\"moving-avg\":0.1188322099736629,\"avg-sentiment\":0.09324685361086231},{\"date\":\"Fri Apr 21 20:00:00 EDT 2000\",\"moving-avg\":0.11312005237031145,\"avg-sentiment\":-0.09866666793823242},{\"date\":\"Sun Apr 23 20:00:00 EDT 2000\",\"moving-avg\":0.11309594960203187,\"avg-sentiment\":0.11116070669635036},{\"date\":\"Mon Apr 24 20:00:00 EDT 2000\",\"moving-avg\":0.11438596771861084,\"avg-sentiment\":0.13508080248015125},{\"date\":\"Tue Apr 25 20:00:00 EDT 2000\",\"moving-avg\":0.1151233076773058,\"avg-sentiment\":0.14349669015979125},{\"date\":\"Wed Apr 26 20:00:00 EDT 2000\",\"moving-avg\":0.11493920198507666,\"avg-sentiment\":0.1050224823367379},{\"date\":\"Thu Apr 27 20:00:00 EDT 2000\",\"moving-avg\":0.1136849761509646,\"avg-sentiment\":0.13593722033796588},{\"date\":\"Sat Apr 29 20:00:00 EDT 2000\",\"moving-avg\":0.10895837073421534,\"avg-sentiment\":0.012866667161385218},{\"date\":\"Sun Apr 30 20:00:00 EDT 2000\",\"moving-avg\":0.11109534263701644,\"avg-sentiment\":0.14706829625556384},{\"date\":\"Mon May 01 20:00:00 EDT 2000\",\"moving-avg\":0.11034183882939527,\"avg-sentiment\":0.13534325613392015},{\"date\":\"Tue May 02 20:00:00 EDT 2000\",\"moving-avg\":0.1094917832184124,\"avg-sentiment\":0.09935154705929444},{\"date\":\"Wed May 03 20:00:00 EDT 2000\",\"moving-avg\":0.10930744089628637,\"avg-sentiment\":0.1565601451346913},{\"date\":\"Thu May 04 20:00:00 EDT 2000\",\"moving-avg\":0.10828854468539746,\"avg-sentiment\":0.1111731637028543},{\"date\":\"Sat May 06 20:00:00 EDT 2000\",\"moving-avg\":0.10732796699109402,\"avg-sentiment\":0.09162040660474575},{\"date\":\"Sun May 07 20:00:00 EDT 2000\",\"moving-avg\":0.1086466331433093,\"avg-sentiment\":0.15881293510189837},{\"date\":\"Mon May 08 20:00:00 EDT 2000\",\"moving-avg\":0.10940300633285911,\"avg-sentiment\":0.1331880127283496},{\"date\":\"Tue May 09 20:00:00 EDT 2000\",\"moving-avg\":0.11076731405228177,\"avg-sentiment\":0.1493619066557885},{\"date\":\"Wed May 10 20:00:00 EDT 2000\",\"moving-avg\":0.1117470015188344,\"avg-sentiment\":0.13639354360375225},{\"date\":\"Thu May 11 20:00:00 EDT 2000\",\"moving-avg\":0.11324113047077743,\"avg-sentiment\":0.10252386926162559},{\"date\":\"Sat May 13 20:00:00 EDT 2000\",\"moving-avg\":0.11016239753487343,\"avg-sentiment\":0.004927381740084716},{\"date\":\"Sun May 14 20:00:00 EDT 2000\",\"moving-avg\":0.11101004940727463,\"avg-sentiment\":0.1225244136341881},{\"date\":\"Mon May 15 20:00:00 EDT 2000\",\"moving-avg\":0.11053514880260569,\"avg-sentiment\":0.13905050850101852},{\"date\":\"Tue May 16 20:00:00 EDT 2000\",\"moving-avg\":0.1107885155896147,\"avg-sentiment\":0.10953178787805805},{\"date\":\"Wed May 17 20:00:00 EDT 2000\",\"moving-avg\":0.10959895424553798,\"avg-sentiment\":0.11919990287242825},{\"date\":\"Thu May 18 20:00:00 EDT 2000\",\"moving-avg\":0.10958461520250999,\"avg-sentiment\":0.1654557254734103},{\"date\":\"Sun May 21 20:00:00 EDT 2000\",\"moving-avg\":0.11084024956646688,\"avg-sentiment\":0.1279290313214347},{\"date\":\"Mon May 22 20:00:00 EDT 2000\",\"moving-avg\":0.11028690493512334,\"avg-sentiment\":0.10863532931695517},{\"date\":\"Tue May 23 20:00:00 EDT 2000\",\"moving-avg\":0.11096949701917604,\"avg-sentiment\":0.12204636272205073},{\"date\":\"Wed May 24 20:00:00 EDT 2000\",\"moving-avg\":0.10972179751333774,\"avg-sentiment\":0.11180434555954147},{\"date\":\"Thu May 25 20:00:00 EDT 2000\",\"moving-avg\":0.11038103316664342,\"avg-sentiment\":0.12078436889263673},{\"date\":\"Fri May 26 20:00:00 EDT 2000\",\"moving-avg\":0.11955058237151653,\"avg-sentiment\":0.36833332975705463},{\"date\":\"Sun May 28 20:00:00 EDT 2000\",\"moving-avg\":0.1307650268266898,\"avg-sentiment\":0.237766665716966},{\"date\":\"Mon May 29 20:00:00 EDT 2000\",\"moving-avg\":0.13061344480297252,\"avg-sentiment\":0.10661324598483216},{\"date\":\"Tue May 30 20:00:00 EDT 2000\",\"moving-avg\":0.1325731803474511,\"avg-sentiment\":0.19387286881450883},{\"date\":\"Wed May 31 20:00:00 EDT 2000\",\"moving-avg\":0.1321447729182621,\"avg-sentiment\":0.13064446728412077},{\"date\":\"Thu Jun 01 20:00:00 EDT 2000\",\"moving-avg\":0.1339807606212536,\"avg-sentiment\":0.16010211342648265},{\"date\":\"Fri Jun 02 20:00:00 EDT 2000\",\"moving-avg\":0.12986720355780584,\"avg-sentiment\":0.01253050843453301},{\"date\":\"Sat Jun 03 20:00:00 EDT 2000\",\"moving-avg\":0.1314454574970806,\"avg-sentiment\":0.06021428533962795},{\"date\":\"Sun Jun 04 20:00:00 EDT 2000\",\"moving-avg\":0.12998934149688907,\"avg-sentiment\":0.10338481624981824},{\"date\":\"Mon Jun 05 20:00:00 EDT 2000\",\"moving-avg\":0.12933225275514362,\"avg-sentiment\":0.11563059388155716},{\"date\":\"Tue Jun 06 20:00:00 EDT 2000\",\"moving-avg\":0.13128949174853782,\"avg-sentiment\":0.1580687168611205},{\"date\":\"Wed Jun 07 20:00:00 EDT 2000\",\"moving-avg\":0.13052726694094635,\"avg-sentiment\":0.1336934009069472},{\"date\":\"Thu Jun 08 20:00:00 EDT 2000\",\"moving-avg\":0.1317213102167142,\"avg-sentiment\":0.14699446197588917},{\"date\":\"Sat Jun 10 20:00:00 EDT 2000\",\"moving-avg\":0.13227827546700238,\"avg-sentiment\":0.10832936411339139},{\"date\":\"Sun Jun 11 20:00:00 EDT 2000\",\"moving-avg\":0.1304830372063144,\"avg-sentiment\":0.10495578728125916},{\"date\":\"Mon Jun 12 20:00:00 EDT 2000\",\"moving-avg\":0.13009449021634253,\"avg-sentiment\":0.12153160302919383},{\"date\":\"Tue Jun 13 20:00:00 EDT 2000\",\"moving-avg\":0.13072263865843617,\"avg-sentiment\":0.16820635991859764},{\"date\":\"Wed Jun 14 20:00:00 EDT 2000\",\"moving-avg\":0.12944048551707849,\"avg-sentiment\":0.09792894936302148},{\"date\":\"Thu Jun 15 20:00:00 EDT 2000\",\"moving-avg\":0.13050621901701495,\"avg-sentiment\":0.13449587425971993},{\"date\":\"Sat Jun 17 20:00:00 EDT 2000\",\"moving-avg\":0.1369478063594669,\"avg-sentiment\":0.19817500201364358},{\"date\":\"Sun Jun 18 20:00:00 EDT 2000\",\"moving-avg\":0.13632536172509752,\"avg-sentiment\":0.10385107460310557},{\"date\":\"Mon Jun 19 20:00:00 EDT 2000\",\"moving-avg\":0.13713458853802624,\"avg-sentiment\":0.1633273128888807},{\"date\":\"Tue Jun 20 20:00:00 EDT 2000\",\"moving-avg\":0.13753155597787844,\"avg-sentiment\":0.12144081107362402},{\"date\":\"Wed Jun 21 20:00:00 EDT 2000\",\"moving-avg\":0.1386892764883506,\"avg-sentiment\":0.15393151818659287},{\"date\":\"Thu Jun 22 20:00:00 EDT 2000\",\"moving-avg\":0.1376064784747829,\"avg-sentiment\":0.13297178506638052},{\"date\":\"Fri Jun 23 20:00:00 EDT 2000\",\"moving-avg\":0.14001969600463518,\"avg-sentiment\":0.20032555721700193},{\"date\":\"Sun Jun 25 20:00:00 EDT 2000\",\"moving-avg\":0.13971764121806404,\"avg-sentiment\":0.09957368571982113},{\"date\":\"Mon Jun 26 20:00:00 EDT 2000\",\"moving-avg\":0.13881092415378776,\"avg-sentiment\":0.0948448507937624},{\"date\":\"Tue Jun 27 20:00:00 EDT 2000\",\"moving-avg\":0.13939686540833807,\"avg-sentiment\":0.1293825831960508},{\"date\":\"Wed Jun 28 20:00:00 EDT 2000\",\"moving-avg\":0.14014083389077234,\"avg-sentiment\":0.1431034233656653},{\"date\":\"Thu Jun 29 20:00:00 EDT 2000\",\"moving-avg\":0.13337530037605833,\"avg-sentiment\":0.16536732431563408},{\"date\":\"Fri Jun 30 20:00:00 EDT 2000\",\"moving-avg\":0.13141405945646384,\"avg-sentiment\":0.1789294381291319},{\"date\":\"Sat Jul 01 20:00:00 EDT 2000\",\"moving-avg\":0.13388028467057034,\"avg-sentiment\":0.18060000240802765},{\"date\":\"Sun Jul 02 20:00:00 EDT 2000\",\"moving-avg\":0.11831118886699034,\"avg-sentiment\":-0.27320000529289246},{\"date\":\"Mon Jul 03 20:00:00 EDT 2000\",\"moving-avg\":0.11676866484844314,\"avg-sentiment\":0.084368746727705},{\"date\":\"Tue Jul 04 20:00:00 EDT 2000\",\"moving-avg\":0.11455432697502801,\"avg-sentiment\":0.09367197722402866},{\"date\":\"Wed Jul 05 20:00:00 EDT 2000\",\"moving-avg\":0.11860665128310964,\"avg-sentiment\":0.134100237676982},{\"date\":\"Thu Jul 06 20:00:00 EDT 2000\",\"moving-avg\":0.12135811041543826,\"avg-sentiment\":0.14275805930948632},{\"date\":\"Fri Jul 07 20:00:00 EDT 2000\",\"moving-avg\":0.12465871034494855,\"avg-sentiment\":0.20240281413512667},{\"date\":\"Sat Jul 08 20:00:00 EDT 2000\",\"moving-avg\":0.1245145159731922,\"avg-sentiment\":0.11130476272886708},{\"date\":\"Sun Jul 09 20:00:00 EDT 2000\",\"moving-avg\":0.12404243766435703,\"avg-sentiment\":0.1439063675960654},{\"date\":\"Mon Jul 10 20:00:00 EDT 2000\",\"moving-avg\":0.12348178575914524,\"avg-sentiment\":0.1168738437505931},{\"date\":\"Tue Jul 11 20:00:00 EDT 2000\",\"moving-avg\":0.12218792587961458,\"avg-sentiment\":0.1081786655899694},{\"date\":\"Wed Jul 12 20:00:00 EDT 2000\",\"moving-avg\":0.12198423921709883,\"avg-sentiment\":0.10221876423791873},{\"date\":\"Thu Jul 13 20:00:00 EDT 2000\",\"moving-avg\":0.1228424779669103,\"avg-sentiment\":0.1307029497756024},{\"date\":\"Fri Jul 14 20:00:00 EDT 2000\",\"moving-avg\":0.12345512137617014,\"avg-sentiment\":0.1399109053069895},{\"date\":\"Sat Jul 15 20:00:00 EDT 2000\",\"moving-avg\":0.1218104649505986,\"avg-sentiment\":0.11886666715145111},{\"date\":\"Sun Jul 16 20:00:00 EDT 2000\",\"moving-avg\":0.12250983501141612,\"avg-sentiment\":0.11891005118754694},{\"date\":\"Mon Jul 17 20:00:00 EDT 2000\",\"moving-avg\":0.12179692116497358,\"avg-sentiment\":0.11310845886644481},{\"date\":\"Tue Jul 18 20:00:00 EDT 2000\",\"moving-avg\":0.11797455940278972,\"avg-sentiment\":0.08350414914812805},{\"date\":\"Wed Jul 19 20:00:00 EDT 2000\",\"moving-avg\":0.119287499159857,\"avg-sentiment\":0.14323926731512282},{\"date\":\"Thu Jul 20 20:00:00 EDT 2000\",\"moving-avg\":0.11744792839430425,\"avg-sentiment\":0.10814018992229929},{\"date\":\"Fri Jul 21 20:00:00 EDT 2000\",\"moving-avg\":0.11972656787425125,\"avg-sentiment\":0.18979999547203383},{\"date\":\"Sat Jul 22 20:00:00 EDT 2000\",\"moving-avg\":0.12038769587995121,\"avg-sentiment\":0.17376535835759188},{\"date\":\"Sun Jul 23 20:00:00 EDT 2000\",\"moving-avg\":0.1202362985240052,\"avg-sentiment\":0.12842986438800003},{\"date\":\"Mon Jul 24 20:00:00 EDT 2000\",\"moving-avg\":0.11822178577774936,\"avg-sentiment\":0.13989017482932642},{\"date\":\"Tue Jul 25 20:00:00 EDT 2000\",\"moving-avg\":0.11951583871503076,\"avg-sentiment\":0.13839527383826264},{\"date\":\"Wed Jul 26 20:00:00 EDT 2000\",\"moving-avg\":0.12124576934536693,\"avg-sentiment\":0.14674276970384798},{\"date\":\"Thu Jul 27 20:00:00 EDT 2000\",\"moving-avg\":0.12135831559484873,\"avg-sentiment\":0.13275897068050418},{\"date\":\"Fri Jul 28 20:00:00 EDT 2000\",\"moving-avg\":0.12019582464917891,\"avg-sentiment\":0.10822869499557113},{\"date\":\"Sat Jul 29 20:00:00 EDT 2000\",\"moving-avg\":0.1211746075620462,\"avg-sentiment\":0.1947308117016533},{\"date\":\"Sun Jul 30 20:00:00 EDT 2000\",\"moving-avg\":0.11944360560254977,\"avg-sentiment\":0.12699937934423833},{\"date\":\"Mon Jul 31 20:00:00 EDT 2000\",\"moving-avg\":0.11871800421779569,\"avg-sentiment\":0.15883196086540527},{\"date\":\"Tue Aug 01 20:00:00 EDT 2000\",\"moving-avg\":0.13131098203952654,\"avg-sentiment\":0.10458932935903308},{\"date\":\"Wed Aug 02 20:00:00 EDT 2000\",\"moving-avg\":0.13393748780893067,\"avg-sentiment\":0.16316391980982878},{\"date\":\"Thu Aug 03 20:00:00 EDT 2000\",\"moving-avg\":0.1348338025563039,\"avg-sentiment\":0.12056141964522593},{\"date\":\"Fri Aug 04 20:00:00 EDT 2000\",\"moving-avg\":0.13036379463373785,\"avg-sentiment\":0.0},{\"date\":\"Sat Aug 05 20:00:00 EDT 2000\",\"moving-avg\":0.12897256019887762,\"avg-sentiment\":0.10102102626368013},{\"date\":\"Sun Aug 06 20:00:00 EDT 2000\",\"moving-avg\":0.12710751528098202,\"avg-sentiment\":0.1464514665982588},{\"date\":\"Mon Aug 07 20:00:00 EDT 2000\",\"moving-avg\":0.12910014306022316,\"avg-sentiment\":0.17108359610610138},{\"date\":\"Tue Aug 08 20:00:00 EDT 2000\",\"moving-avg\":0.12792563140093535,\"avg-sentiment\":0.10867101781743109},{\"date\":\"Wed Aug 09 20:00:00 EDT 2000\",\"moving-avg\":0.1280274310343074,\"avg-sentiment\":0.11992783275175459},{\"date\":\"Thu Aug 10 20:00:00 EDT 2000\",\"moving-avg\":0.1281753804299793,\"avg-sentiment\":0.11261714746012703},{\"date\":\"Fri Aug 11 20:00:00 EDT 2000\",\"moving-avg\":0.14232475561659622,\"avg-sentiment\":0.5267000198364258},{\"date\":\"Sat Aug 12 20:00:00 EDT 2000\",\"moving-avg\":0.1388294778526685,\"avg-sentiment\":0.02584461685777124},{\"date\":\"Sun Aug 13 20:00:00 EDT 2000\",\"moving-avg\":0.13778727081591402,\"avg-sentiment\":0.10864469420435449},{\"date\":\"Mon Aug 14 20:00:00 EDT 2000\",\"moving-avg\":0.13708964157874137,\"avg-sentiment\":0.09793779003627223},{\"date\":\"Tue Aug 15 20:00:00 EDT 2000\",\"moving-avg\":0.137166239324854,\"avg-sentiment\":0.1212079835709261},{\"date\":\"Wed Aug 16 20:00:00 EDT 2000\",\"moving-avg\":0.13785073259180672,\"avg-sentiment\":0.13364325687502585},{\"date\":\"Thu Aug 17 20:00:00 EDT 2000\",\"moving-avg\":0.1379378430244656,\"avg-sentiment\":0.08611746212789398},{\"date\":\"Fri Aug 18 20:00:00 EDT 2000\",\"moving-avg\":0.13646462930513933,\"avg-sentiment\":0.09904285573533603},{\"date\":\"Sat Aug 19 20:00:00 EDT 2000\",\"moving-avg\":0.13604083921158014,\"avg-sentiment\":0.09542648711552222},{\"date\":\"Sun Aug 20 20:00:00 EDT 2000\",\"moving-avg\":0.13307659524031126,\"avg-sentiment\":0.10087267633396746},{\"date\":\"Mon Aug 21 20:00:00 EDT 2000\",\"moving-avg\":0.13121974405368547,\"avg-sentiment\":0.1180598227588188},{\"date\":\"Tue Aug 22 20:00:00 EDT 2000\",\"moving-avg\":0.13125649610291232,\"avg-sentiment\":0.129532425864805},{\"date\":\"Wed Aug 23 20:00:00 EDT 2000\",\"moving-avg\":0.1313853928354959,\"avg-sentiment\":0.14375707680683406},{\"date\":\"Thu Aug 24 20:00:00 EDT 2000\",\"moving-avg\":0.1310060341021145,\"avg-sentiment\":0.12701451183682022},{\"date\":\"Fri Aug 25 20:00:00 EDT 2000\",\"moving-avg\":0.13277929894925883,\"avg-sentiment\":0.1999407151181783},{\"date\":\"Sat Aug 26 20:00:00 EDT 2000\",\"moving-avg\":0.13329883574354637,\"avg-sentiment\":0.1483450745091294},{\"date\":\"Sun Aug 27 20:00:00 EDT 2000\",\"moving-avg\":0.1336450220019696,\"avg-sentiment\":0.11861428274826807},{\"date\":\"Mon Aug 28 20:00:00 EDT 2000\",\"moving-avg\":0.13162751582672452,\"avg-sentiment\":0.13420562644430145},{\"date\":\"Tue Aug 29 20:00:00 EDT 2000\",\"moving-avg\":0.13050284777385776,\"avg-sentiment\":0.09325933775823587},{\"date\":\"Wed Aug 30 20:00:00 EDT 2000\",\"moving-avg\":0.128205955754469,\"avg-sentiment\":0.08992520028374251},{\"date\":\"Thu Aug 31 20:00:00 EDT 2000\",\"moving-avg\":0.1279107409047925,\"avg-sentiment\":0.09573288386873917},{\"date\":\"Fri Sep 01 20:00:00 EDT 2000\",\"moving-avg\":0.12242576871176117,\"avg-sentiment\":-0.0013852459811122039},{\"date\":\"Sun Sep 03 20:00:00 EDT 2000\",\"moving-avg\":0.12097858247040344,\"avg-sentiment\":0.07714583240449428},{\"date\":\"Mon Sep 04 20:00:00 EDT 2000\",\"moving-avg\":0.12394886618680796,\"avg-sentiment\":0.0891085114921356},{\"date\":\"Tue Sep 05 20:00:00 EDT 2000\",\"moving-avg\":0.12502131986696813,\"avg-sentiment\":0.1331946366684856},{\"date\":\"Wed Sep 06 20:00:00 EDT 2000\",\"moving-avg\":0.1248545241269766,\"avg-sentiment\":0.1414475943985128},{\"date\":\"Thu Sep 07 20:00:00 EDT 2000\",\"moving-avg\":0.1227551317918591,\"avg-sentiment\":0.10810182605257626},{\"date\":\"Fri Sep 08 20:00:00 EDT 2000\",\"moving-avg\":0.12222943113224716,\"avg-sentiment\":0.09289999802907307},{\"date\":\"Sat Sep 09 20:00:00 EDT 2000\",\"moving-avg\":0.1208266287239171,\"avg-sentiment\":0.07784376050185263},{\"date\":\"Sun Sep 10 20:00:00 EDT 2000\",\"moving-avg\":0.12164764775414239,\"avg-sentiment\":0.1372477183668855},{\"date\":\"Mon Sep 11 20:00:00 EDT 2000\",\"moving-avg\":0.1091868905596032,\"avg-sentiment\":0.15287730400024996},{\"date\":\"Tue Sep 12 20:00:00 EDT 2000\",\"moving-avg\":0.11229780073039211,\"avg-sentiment\":0.11917192198143846},{\"date\":\"Wed Sep 13 20:00:00 EDT 2000\",\"moving-avg\":0.111582596581914,\"avg-sentiment\":0.0871885697500112},{\"date\":\"Thu Sep 14 20:00:00 EDT 2000\",\"moving-avg\":0.11235441580209157,\"avg-sentiment\":0.12109236664159957},{\"date\":\"Sat Sep 16 20:00:00 EDT 2000\",\"moving-avg\":0.11527930540728487,\"avg-sentiment\":0.20895467172672474},{\"date\":\"Sun Sep 17 20:00:00 EDT 2000\",\"moving-avg\":0.11454088044781804,\"avg-sentiment\":0.11149050809102122},{\"date\":\"Mon Sep 18 20:00:00 EDT 2000\",\"moving-avg\":0.11532610834227182,\"avg-sentiment\":0.10967429896150714},{\"date\":\"Tue Sep 19 20:00:00 EDT 2000\",\"moving-avg\":0.1163090287020455,\"avg-sentiment\":0.128530466528547},{\"date\":\"Wed Sep 20 20:00:00 EDT 2000\",\"moving-avg\":0.11689410792557456,\"avg-sentiment\":0.11297886382139398},{\"date\":\"Thu Sep 21 20:00:00 EDT 2000\",\"moving-avg\":0.11802025758284403,\"avg-sentiment\":0.13465716605205136},{\"date\":\"Fri Sep 22 20:00:00 EDT 2000\",\"moving-avg\":0.13109992984522173,\"avg-sentiment\":0.5104499906301498},{\"date\":\"Sat Sep 23 20:00:00 EDT 2000\",\"moving-avg\":0.13033435826430834,\"avg-sentiment\":0.1065652784374025},{\"date\":\"Sun Sep 24 20:00:00 EDT 2000\",\"moving-avg\":0.13030152149411103,\"avg-sentiment\":0.1427719737009151},{\"date\":\"Mon Sep 25 20:00:00 EDT 2000\",\"moving-avg\":0.13030747758445146,\"avg-sentiment\":0.12719319454703315},{\"date\":\"Tue Sep 26 20:00:00 EDT 2000\",\"moving-avg\":0.1274597202604396,\"avg-sentiment\":0.11450799539782298},{\"date\":\"Wed Sep 27 20:00:00 EDT 2000\",\"moving-avg\":0.1267514195682672,\"avg-sentiment\":0.12709605374395624},{\"date\":\"Thu Sep 28 20:00:00 EDT 2000\",\"moving-avg\":0.12722167705912826,\"avg-sentiment\":0.1327220074741005},{\"date\":\"Fri Sep 29 20:00:00 EDT 2000\",\"moving-avg\":0.11943371173423364,\"avg-sentiment\":-0.0994333333025376},{\"date\":\"Sat Sep 30 20:00:00 EDT 2000\",\"moving-avg\":0.12398763656332551,\"avg-sentiment\":0.22987708263099194},{\"date\":\"Sun Oct 01 20:00:00 EDT 2000\",\"moving-avg\":0.12625685489824232,\"avg-sentiment\":0.15800175033124683},{\"date\":\"Mon Oct 02 20:00:00 EDT 2000\",\"moving-avg\":0.12668723628555228,\"avg-sentiment\":0.10864432548803812},{\"date\":\"Tue Oct 03 20:00:00 EDT 2000\",\"moving-avg\":0.13091018519958075,\"avg-sentiment\":0.1253032214397413},{\"date\":\"Wed Oct 04 20:00:00 EDT 2000\",\"moving-avg\":0.13134266972701605,\"avg-sentiment\":0.09012036822755402},{\"date\":\"Thu Oct 05 20:00:00 EDT 2000\",\"moving-avg\":0.13250887584723142,\"avg-sentiment\":0.12409469509859702},{\"date\":\"Fri Oct 06 20:00:00 EDT 2000\",\"moving-avg\":0.13481238786529867,\"avg-sentiment\":0.20229999721050262},{\"date\":\"Sat Oct 07 20:00:00 EDT 2000\",\"moving-avg\":0.1342016347581555,\"avg-sentiment\":0.12312500118421728},{\"date\":\"Sun Oct 08 20:00:00 EDT 2000\",\"moving-avg\":0.135251329382659,\"avg-sentiment\":0.139592664787681},{\"date\":\"Mon Oct 09 20:00:00 EDT 2000\",\"moving-avg\":0.1367929391264145,\"avg-sentiment\":0.1391482903417379},{\"date\":\"Tue Oct 10 20:00:00 EDT 2000\",\"moving-avg\":0.13761612031491427,\"avg-sentiment\":0.10253919615684613},{\"date\":\"Wed Oct 11 20:00:00 EDT 2000\",\"moving-avg\":0.1387472840026946,\"avg-sentiment\":0.1711826290002958},{\"date\":\"Thu Oct 12 20:00:00 EDT 2000\",\"moving-avg\":0.13746570058777766,\"avg-sentiment\":0.11442980155274304},{\"date\":\"Fri Oct 13 20:00:00 EDT 2000\",\"moving-avg\":0.13549756249534195,\"avg-sentiment\":0.06012777920836717},{\"date\":\"Sat Oct 14 20:00:00 EDT 2000\",\"moving-avg\":0.13425050504740826,\"avg-sentiment\":0.04977684631200009},{\"date\":\"Sun Oct 15 20:00:00 EDT 2000\",\"moving-avg\":0.13494416053587993,\"avg-sentiment\":0.14190203129574933},{\"date\":\"Mon Oct 16 20:00:00 EDT 2000\",\"moving-avg\":0.13250692502687117,\"avg-sentiment\":0.13583760645646206},{\"date\":\"Tue Oct 17 20:00:00 EDT 2000\",\"moving-avg\":0.1341964239488533,\"avg-sentiment\":0.1621754757504864},{\"date\":\"Wed Oct 18 20:00:00 EDT 2000\",\"moving-avg\":0.13462752702304656,\"avg-sentiment\":0.12260739118730397},{\"date\":\"Thu Oct 19 20:00:00 EDT 2000\",\"moving-avg\":0.13505814130686458,\"avg-sentiment\":0.1414488950430878},{\"date\":\"Fri Oct 20 20:00:00 EDT 2000\",\"moving-avg\":0.13103253528361644,\"avg-sentiment\":-0.00778931687605016},{\"date\":\"Sat Oct 21 20:00:00 EDT 2000\",\"moving-avg\":0.1288069159567184,\"avg-sentiment\":0.06788858624511014},{\"date\":\"Sun Oct 22 20:00:00 EDT 2000\",\"moving-avg\":0.11743474539980721,\"avg-sentiment\":0.16928487392281327},{\"date\":\"Mon Oct 23 20:00:00 EDT 2000\",\"moving-avg\":0.11859915315358342,\"avg-sentiment\":0.14149751105068864},{\"date\":\"Tue Oct 24 20:00:00 EDT 2000\",\"moving-avg\":0.11804579404418412,\"avg-sentiment\":0.12617120041893629},{\"date\":\"Wed Oct 25 20:00:00 EDT 2000\",\"moving-avg\":0.11830900947413349,\"avg-sentiment\":0.13508965744551443},{\"date\":\"Thu Oct 26 20:00:00 EDT 2000\",\"moving-avg\":0.11781677569264878,\"avg-sentiment\":0.09974098195328229},{\"date\":\"Fri Oct 27 20:00:00 EDT 2000\",\"moving-avg\":0.11882313152432496,\"avg-sentiment\":0.15728672869424154},{\"date\":\"Sat Oct 28 20:00:00 EDT 2000\",\"moving-avg\":0.11946620730637104,\"avg-sentiment\":0.15201428093548333},{\"date\":\"Sun Oct 29 19:00:00 EST 2000\",\"moving-avg\":0.12686535188334572,\"avg-sentiment\":0.1225410040067023},{\"date\":\"Mon Oct 30 19:00:00 EST 2000\",\"moving-avg\":0.12268869703615307,\"avg-sentiment\":0.10457743721521255},{\"date\":\"Tue Oct 31 19:00:00 EST 2000\",\"moving-avg\":0.12051260725648845,\"avg-sentiment\":0.09271905694130879},{\"date\":\"Wed Nov 01 19:00:00 EST 2000\",\"moving-avg\":0.1214151323587667,\"avg-sentiment\":0.13572007855638551},{\"date\":\"Thu Nov 02 19:00:00 EST 2000\",\"moving-avg\":0.12237969531738754,\"avg-sentiment\":0.15424011019836611},{\"date\":\"Sat Nov 04 19:00:00 EST 2000\",\"moving-avg\":0.1256746870308359,\"avg-sentiment\":0.1889701196310046},{\"date\":\"Sun Nov 05 19:00:00 EST 2000\",\"moving-avg\":0.12603993114938722,\"avg-sentiment\":0.13505201865513639},{\"date\":\"Mon Nov 06 19:00:00 EST 2000\",\"moving-avg\":0.12276185231775717,\"avg-sentiment\":0.10395763226160139},{\"date\":\"Tue Nov 07 19:00:00 EST 2000\",\"moving-avg\":0.1231812624160523,\"avg-sentiment\":0.1357073041330712},{\"date\":\"Wed Nov 08 19:00:00 EST 2000\",\"moving-avg\":0.12424425117353675,\"avg-sentiment\":0.17148232751221462},{\"date\":\"Thu Nov 09 19:00:00 EST 2000\",\"moving-avg\":0.12354532694961767,\"avg-sentiment\":0.11818056362416528},{\"date\":\"Fri Nov 10 19:00:00 EST 2000\",\"moving-avg\":0.12303818720870402,\"avg-sentiment\":0.0873250039294362},{\"date\":\"Sat Nov 11 19:00:00 EST 2000\",\"moving-avg\":0.12363563734488074,\"avg-sentiment\":0.1891061330855971},{\"date\":\"Sun Nov 12 19:00:00 EST 2000\",\"moving-avg\":0.1235290947194875,\"avg-sentiment\":0.11123352279094591},{\"date\":\"Mon Nov 13 19:00:00 EST 2000\",\"moving-avg\":0.12611462777435636,\"avg-sentiment\":0.1376937708544332},{\"date\":\"Tue Nov 14 19:00:00 EST 2000\",\"moving-avg\":0.127583242907388,\"avg-sentiment\":0.0938353003029485},{\"date\":\"Wed Nov 15 19:00:00 EST 2000\",\"moving-avg\":0.1264269981861425,\"avg-sentiment\":0.10721468965838399},{\"date\":\"Thu Nov 16 19:00:00 EST 2000\",\"moving-avg\":0.12535307271592833,\"avg-sentiment\":0.1036198423500373},{\"date\":\"Fri Nov 17 19:00:00 EST 2000\",\"moving-avg\":0.12114585925270394,\"avg-sentiment\":0.035959071853754736},{\"date\":\"Sat Nov 18 19:00:00 EST 2000\",\"moving-avg\":0.1241081572548311,\"avg-sentiment\":0.21147633125111928},{\"date\":\"Sun Nov 19 19:00:00 EST 2000\",\"moving-avg\":0.12347591759013544,\"avg-sentiment\":0.12248170510221797},{\"date\":\"Mon Nov 20 19:00:00 EST 2000\",\"moving-avg\":0.12803689669337862,\"avg-sentiment\":0.1290400562212453},{\"date\":\"Tue Nov 21 19:00:00 EST 2000\",\"moving-avg\":0.1303024058481363,\"avg-sentiment\":0.13585386088784002},{\"date\":\"Wed Nov 22 19:00:00 EST 2000\",\"moving-avg\":0.13199957679049085,\"avg-sentiment\":0.22020000219345093},{\"date\":\"Fri Nov 24 19:00:00 EST 2000\",\"moving-avg\":0.12899656447287733,\"avg-sentiment\":0.05140714152228264},{\"date\":\"Sat Nov 25 19:00:00 EST 2000\",\"moving-avg\":0.12596696398913376,\"avg-sentiment\":0.03528318590662926},{\"date\":\"Sun Nov 26 19:00:00 EST 2000\",\"moving-avg\":0.1264998743842147,\"avg-sentiment\":0.15107696929794306},{\"date\":\"Mon Nov 27 19:00:00 EST 2000\",\"moving-avg\":0.1277914055733135,\"avg-sentiment\":0.13848691762624651},{\"date\":\"Tue Nov 28 19:00:00 EST 2000\",\"moving-avg\":0.1262641454955252,\"avg-sentiment\":0.11146892636059198},{\"date\":\"Wed Nov 29 19:00:00 EST 2000\",\"moving-avg\":0.12455373501185983,\"avg-sentiment\":0.10070196642552204},{\"date\":\"Thu Nov 30 19:00:00 EST 2000\",\"moving-avg\":0.12404990054318674,\"avg-sentiment\":0.10742596994650927},{\"date\":\"Fri Dec 01 19:00:00 EST 2000\",\"moving-avg\":0.12313289534114366,\"avg-sentiment\":0.07706728115392075},{\"date\":\"Sat Dec 02 19:00:00 EST 2000\",\"moving-avg\":0.1253732252759653,\"avg-sentiment\":0.15992895498595858},{\"date\":\"Sun Dec 03 19:00:00 EST 2000\",\"moving-avg\":0.12468638147837845,\"avg-sentiment\":0.11511476462877859},{\"date\":\"Mon Dec 04 19:00:00 EST 2000\",\"moving-avg\":0.12379576763947607,\"avg-sentiment\":0.12752169503129554},{\"date\":\"Tue Dec 05 19:00:00 EST 2000\",\"moving-avg\":0.12268044204240998,\"avg-sentiment\":0.15551035171902217},{\"date\":\"Wed Dec 06 19:00:00 EST 2000\",\"moving-avg\":0.12189839213689105,\"avg-sentiment\":0.11159052148956795},{\"date\":\"Thu Dec 07 19:00:00 EST 2000\",\"moving-avg\":0.12306326104052495,\"avg-sentiment\":0.1389036993706188},{\"date\":\"Fri Dec 08 19:00:00 EST 2000\",\"moving-avg\":0.12301978542331486,\"avg-sentiment\":0.13440303561676825},{\"date\":\"Sat Dec 09 19:00:00 EST 2000\",\"moving-avg\":0.1191803013806634,\"avg-sentiment\":0.05629780623267117},{\"date\":\"Sun Dec 10 19:00:00 EST 2000\",\"moving-avg\":0.11937994492319129,\"avg-sentiment\":0.12416986990000185},{\"date\":\"Mon Dec 11 19:00:00 EST 2000\",\"moving-avg\":0.12084971407754681,\"avg-sentiment\":0.13141807856010215},{\"date\":\"Tue Dec 12 19:00:00 EST 2000\",\"moving-avg\":0.11869846930622335,\"avg-sentiment\":0.1245687899458935},{\"date\":\"Wed Dec 13 19:00:00 EST 2000\",\"moving-avg\":0.11927038340889652,\"avg-sentiment\":0.1283909458711409},{\"date\":\"Thu Dec 14 19:00:00 EST 2000\",\"moving-avg\":0.11850401430787952,\"avg-sentiment\":0.1147026978239236},{\"date\":\"Sat Dec 16 19:00:00 EST 2000\",\"moving-avg\":0.12340987972049662,\"avg-sentiment\":0.2410112626814612},{\"date\":\"Sun Dec 17 19:00:00 EST 2000\",\"moving-avg\":0.12388775034576278,\"avg-sentiment\":0.12155080841636938},{\"date\":\"Mon Dec 18 19:00:00 EST 2000\",\"moving-avg\":0.12504206109653657,\"avg-sentiment\":0.13824916487324915},{\"date\":\"Tue Dec 19 19:00:00 EST 2000\",\"moving-avg\":0.12806574166595064,\"avg-sentiment\":0.126669488936177},{\"date\":\"Wed Dec 20 19:00:00 EST 2000\",\"moving-avg\":0.12522547886233742,\"avg-sentiment\":0.1262684471427232},{\"date\":\"Thu Dec 21 19:00:00 EST 2000\",\"moving-avg\":0.126298977229966,\"avg-sentiment\":0.15468665613107377},{\"date\":\"Fri Dec 22 19:00:00 EST 2000\",\"moving-avg\":0.1269743086585283,\"avg-sentiment\":0.14929999907811484},{\"date\":\"Sat Dec 23 19:00:00 EST 2000\",\"moving-avg\":0.1268393882762619,\"avg-sentiment\":0.13180624941984811},{\"date\":\"Sun Dec 24 19:00:00 EST 2000\",\"moving-avg\":0.11850534063329674,\"avg-sentiment\":-0.029821427095504033},{\"date\":\"Mon Dec 25 19:00:00 EST 2000\",\"moving-avg\":0.11978401637704499,\"avg-sentiment\":0.08976741383473077},{\"date\":\"Tue Dec 26 19:00:00 EST 2000\",\"moving-avg\":0.12344768837994755,\"avg-sentiment\":0.14519334599370623},{\"date\":\"Wed Dec 27 19:00:00 EST 2000\",\"moving-avg\":0.12239094124534523,\"avg-sentiment\":0.11937455525987373},{\"date\":\"Thu Dec 28 19:00:00 EST 2000\",\"moving-avg\":0.12183687770849044,\"avg-sentiment\":0.12186501152060268},{\"date\":\"Sun Dec 31 19:00:00 EST 2000\",\"moving-avg\":0.1205034350874512,\"avg-sentiment\":0.07146564772941466},{\"date\":\"Mon Jan 01 19:00:00 EST 2001\",\"moving-avg\":0.12170163750802804,\"avg-sentiment\":0.13664803904282707},{\"date\":\"Tue Jan 02 19:00:00 EST 2001\",\"moving-avg\":0.12246801627520168,\"avg-sentiment\":0.13041733296171887},{\"date\":\"Wed Jan 03 19:00:00 EST 2001\",\"moving-avg\":0.12375917311241934,\"avg-sentiment\":0.11580198627045021},{\"date\":\"Thu Jan 04 19:00:00 EST 2001\",\"moving-avg\":0.12338210756211235,\"avg-sentiment\":0.14861698847674876},{\"date\":\"Sat Jan 06 19:00:00 EST 2001\",\"moving-avg\":0.11708124513860062,\"avg-sentiment\":-0.07391110807657242},{\"date\":\"Sun Jan 07 19:00:00 EST 2001\",\"moving-avg\":0.11799757162066604,\"avg-sentiment\":0.15501148949325802},{\"date\":\"Mon Jan 08 19:00:00 EST 2001\",\"moving-avg\":0.11651576183820139,\"avg-sentiment\":0.11105605824508283},{\"date\":\"Tue Jan 09 19:00:00 EST 2001\",\"moving-avg\":0.11651093785435013,\"avg-sentiment\":0.11144580197403031},{\"date\":\"Wed Jan 10 19:00:00 EST 2001\",\"moving-avg\":0.11614489940698615,\"avg-sentiment\":0.1279225459496986},{\"date\":\"Thu Jan 11 19:00:00 EST 2001\",\"moving-avg\":0.11638578170579285,\"avg-sentiment\":0.14162950458096907},{\"date\":\"Fri Jan 12 19:00:00 EST 2001\",\"moving-avg\":0.12071256724346967,\"avg-sentiment\":0.1861013723629763},{\"date\":\"Sat Jan 13 19:00:00 EST 2001\",\"moving-avg\":0.1216472526785566,\"avg-sentiment\":0.15221043295260905},{\"date\":\"Sun Jan 14 19:00:00 EST 2001\",\"moving-avg\":0.12280235416523405,\"avg-sentiment\":0.16607112316042594},{\"date\":\"Mon Jan 15 19:00:00 EST 2001\",\"moving-avg\":0.12410308688518969,\"avg-sentiment\":0.16359077154456275},{\"date\":\"Tue Jan 16 19:00:00 EST 2001\",\"moving-avg\":0.12381909524400538,\"avg-sentiment\":0.11987119663561181},{\"date\":\"Wed Jan 17 19:00:00 EST 2001\",\"moving-avg\":0.12362268489106731,\"avg-sentiment\":0.10881038723578167},{\"date\":\"Thu Jan 18 19:00:00 EST 2001\",\"moving-avg\":0.12010886275102237,\"avg-sentiment\":0.13559659848011282},{\"date\":\"Fri Jan 19 19:00:00 EST 2001\",\"moving-avg\":0.12034405098798191,\"avg-sentiment\":0.12860645552515668},{\"date\":\"Sat Jan 20 19:00:00 EST 2001\",\"moving-avg\":0.11573574549220696,\"avg-sentiment\":0.0},{\"date\":\"Sun Jan 21 19:00:00 EST 2001\",\"moving-avg\":0.11546063786322779,\"avg-sentiment\":0.11841626006680232},{\"date\":\"Mon Jan 22 19:00:00 EST 2001\",\"moving-avg\":0.11606475380883668,\"avg-sentiment\":0.14439192551098978},{\"date\":\"Tue Jan 23 19:00:00 EST 2001\",\"moving-avg\":0.11479148864193266,\"avg-sentiment\":0.11648870112395313},{\"date\":\"Wed Jan 24 19:00:00 EST 2001\",\"moving-avg\":0.11382572731848908,\"avg-sentiment\":0.12032715937480758},{\"date\":\"Thu Jan 25 19:00:00 EST 2001\",\"moving-avg\":0.11177580196408136,\"avg-sentiment\":0.07030848878761654},{\"date\":\"Sat Jan 27 19:00:00 EST 2001\",\"moving-avg\":0.11927494764016151,\"avg-sentiment\":0.19515294318690019},{\"date\":\"Sun Jan 28 19:00:00 EST 2001\",\"moving-avg\":0.1207648447868729,\"avg-sentiment\":0.13446432823607207},{\"date\":\"Mon Jan 29 19:00:00 EST 2001\",\"moving-avg\":0.1190554494162903,\"avg-sentiment\":0.09391148487622826},{\"date\":\"Tue Jan 30 19:00:00 EST 2001\",\"moving-avg\":0.11886447156904795,\"avg-sentiment\":0.1136452198426031},{\"date\":\"Wed Jan 31 19:00:00 EST 2001\",\"moving-avg\":0.11947747213409213,\"avg-sentiment\":0.14025502847192833},{\"date\":\"Thu Feb 01 19:00:00 EST 2001\",\"moving-avg\":0.12169225546074121,\"avg-sentiment\":0.137909147528887},{\"date\":\"Fri Feb 02 19:00:00 EST 2001\",\"moving-avg\":0.12340996301722355,\"avg-sentiment\":0.18817926573729704},{\"date\":\"Sat Feb 03 19:00:00 EST 2001\",\"moving-avg\":0.12281964334041068,\"avg-sentiment\":0.11270774265733247},{\"date\":\"Sun Feb 04 19:00:00 EST 2001\",\"moving-avg\":0.12359284013905893,\"avg-sentiment\":0.13899789022989795},{\"date\":\"Mon Feb 05 19:00:00 EST 2001\",\"moving-avg\":0.12220081462741865,\"avg-sentiment\":0.10685622312753992},{\"date\":\"Tue Feb 06 19:00:00 EST 2001\",\"moving-avg\":0.12759456879173264,\"avg-sentiment\":0.08790151685284701},{\"date\":\"Wed Feb 07 19:00:00 EST 2001\",\"moving-avg\":0.12740371125050176,\"avg-sentiment\":0.14928576325633203},{\"date\":\"Thu Feb 08 19:00:00 EST 2001\",\"moving-avg\":0.1283619522522582,\"avg-sentiment\":0.1398032882977754},{\"date\":\"Fri Feb 09 19:00:00 EST 2001\",\"moving-avg\":0.12464709218645717,\"avg-sentiment\":0.0},{\"date\":\"Sat Feb 10 19:00:00 EST 2001\",\"moving-avg\":0.12470203201891926,\"avg-sentiment\":0.12957074092356144},{\"date\":\"Sun Feb 11 19:00:00 EST 2001\",\"moving-avg\":0.12383499437819402,\"avg-sentiment\":0.11561837535921161},{\"date\":\"Mon Feb 12 19:00:00 EST 2001\",\"moving-avg\":0.12196687598864564,\"avg-sentiment\":0.13005782067652524},{\"date\":\"Tue Feb 13 19:00:00 EST 2001\",\"moving-avg\":0.12130230698460581,\"avg-sentiment\":0.13227336283141422},{\"date\":\"Wed Feb 14 19:00:00 EST 2001\",\"moving-avg\":0.11952021632665791,\"avg-sentiment\":0.11260840342198825},{\"date\":\"Thu Feb 15 19:00:00 EST 2001\",\"moving-avg\":0.11839886043299859,\"avg-sentiment\":0.12995009473478297},{\"date\":\"Fri Feb 16 19:00:00 EST 2001\",\"moving-avg\":0.11816200081143675,\"avg-sentiment\":0.11276540798875649},{\"date\":\"Sat Feb 17 19:00:00 EST 2001\",\"moving-avg\":0.11547209616393653,\"avg-sentiment\":0.0281132478107754},{\"date\":\"Sun Feb 18 19:00:00 EST 2001\",\"moving-avg\":0.11470006735188959,\"avg-sentiment\":0.1124357341187051},{\"date\":\"Mon Feb 19 19:00:00 EST 2001\",\"moving-avg\":0.11454256191571789,\"avg-sentiment\":0.12388129244000608},{\"date\":\"Tue Feb 20 19:00:00 EST 2001\",\"moving-avg\":0.11947305817034211,\"avg-sentiment\":0.14791488763872657},{\"date\":\"Wed Feb 21 19:00:00 EST 2001\",\"moving-avg\":0.12039448768546973,\"avg-sentiment\":0.1460591455206313},{\"date\":\"Thu Feb 22 19:00:00 EST 2001\",\"moving-avg\":0.1195517294770123,\"avg-sentiment\":0.11910917925726656},{\"date\":\"Fri Feb 23 19:00:00 EST 2001\",\"moving-avg\":0.11912293070816043,\"avg-sentiment\":0.10362473805839721},{\"date\":\"Sat Feb 24 19:00:00 EST 2001\",\"moving-avg\":0.12014919409681935,\"avg-sentiment\":0.15111506103457492},{\"date\":\"Sun Feb 25 19:00:00 EST 2001\",\"moving-avg\":0.12161096936553743,\"avg-sentiment\":0.11416174684915896},{\"date\":\"Mon Feb 26 19:00:00 EST 2001\",\"moving-avg\":0.11938275124326428,\"avg-sentiment\":0.1283063995187056},{\"date\":\"Tue Feb 27 19:00:00 EST 2001\",\"moving-avg\":0.11787898860781695,\"avg-sentiment\":0.0893514491726526},{\"date\":\"Wed Feb 28 19:00:00 EST 2001\",\"moving-avg\":0.11817937531595116,\"avg-sentiment\":0.10292308612025419},{\"date\":\"Thu Mar 01 19:00:00 EST 2001\",\"moving-avg\":0.11744821583563675,\"avg-sentiment\":0.09171043543317087},{\"date\":\"Fri Mar 02 19:00:00 EST 2001\",\"moving-avg\":0.11598893722510147,\"avg-sentiment\":0.09647667015586993},{\"date\":\"Sat Mar 03 19:00:00 EST 2001\",\"moving-avg\":0.11582158783023579,\"avg-sentiment\":0.1328886656829165},{\"date\":\"Sun Mar 04 19:00:00 EST 2001\",\"moving-avg\":0.1123872743541374,\"avg-sentiment\":0.0851498614543449},{\"date\":\"Mon Mar 05 19:00:00 EST 2001\",\"moving-avg\":0.1124432371179117,\"avg-sentiment\":0.11438662557056122},{\"date\":\"Tue Mar 06 19:00:00 EST 2001\",\"moving-avg\":0.11197847385851331,\"avg-sentiment\":0.12505499244794677},{\"date\":\"Wed Mar 07 19:00:00 EST 2001\",\"moving-avg\":0.11383426007868205,\"avg-sentiment\":0.16252980973260137},{\"date\":\"Thu Mar 08 19:00:00 EST 2001\",\"moving-avg\":0.1156422625984704,\"avg-sentiment\":0.14214159244649757},{\"date\":\"Fri Mar 09 19:00:00 EST 2001\",\"moving-avg\":0.11633617744099269,\"avg-sentiment\":0.1701032085320005},{\"date\":\"Sat Mar 10 19:00:00 EST 2001\",\"moving-avg\":0.11163987731878716,\"avg-sentiment\":-0.0010857153683900833},{\"date\":\"Sun Mar 11 19:00:00 EST 2001\",\"moving-avg\":0.11519776754635433,\"avg-sentiment\":0.10673670682701514},{\"date\":\"Mon Mar 12 19:00:00 EST 2001\",\"moving-avg\":0.11448413869348117,\"avg-sentiment\":0.10816187533736633},{\"date\":\"Tue Mar 13 19:00:00 EST 2001\",\"moving-avg\":0.11467968847335565,\"avg-sentiment\":0.12148486875544569},{\"date\":\"Wed Mar 14 19:00:00 EST 2001\",\"moving-avg\":0.1133368605836259,\"avg-sentiment\":0.08977298398463268},{\"date\":\"Thu Mar 15 19:00:00 EST 2001\",\"moving-avg\":0.1138646808718761,\"avg-sentiment\":0.14810797147891974},{\"date\":\"Fri Mar 16 19:00:00 EST 2001\",\"moving-avg\":0.12581662277075348,\"avg-sentiment\":0.47116666038831073},{\"date\":\"Sat Mar 17 19:00:00 EST 2001\",\"moving-avg\":0.12225101356048536,\"avg-sentiment\":0.022981818426739086},{\"date\":\"Sun Mar 18 19:00:00 EST 2001\",\"moving-avg\":0.12324224368549135,\"avg-sentiment\":0.14250231173893532},{\"date\":\"Mon Mar 19 19:00:00 EST 2001\",\"moving-avg\":0.12531080611106699,\"avg-sentiment\":0.09017012057804584},{\"date\":\"Tue Mar 20 19:00:00 EST 2001\",\"moving-avg\":0.12551387999337396,\"avg-sentiment\":0.11852795058791397},{\"date\":\"Wed Mar 21 19:00:00 EST 2001\",\"moving-avg\":0.12531589560602782,\"avg-sentiment\":0.11794176081962278},{\"date\":\"Thu Mar 22 19:00:00 EST 2001\",\"moving-avg\":0.1243425025238693,\"avg-sentiment\":0.11871309517397005},{\"date\":\"Fri Mar 23 19:00:00 EST 2001\",\"moving-avg\":0.12535668737893496,\"avg-sentiment\":0.17648469117260165},{\"date\":\"Sat Mar 24 19:00:00 EST 2001\",\"moving-avg\":0.1250036977435783,\"avg-sentiment\":0.10851949019656731},{\"date\":\"Sun Mar 25 19:00:00 EST 2001\",\"moving-avg\":0.1258412887310891,\"avg-sentiment\":0.12875246768372095},{\"date\":\"Mon Mar 26 19:00:00 EST 2001\",\"moving-avg\":0.12674843741770878,\"avg-sentiment\":0.17832952163316543},{\"date\":\"Tue Mar 27 19:00:00 EST 2001\",\"moving-avg\":0.12637102696131314,\"avg-sentiment\":0.1028394331572896},{\"date\":\"Wed Mar 28 19:00:00 EST 2001\",\"moving-avg\":0.12582291473826,\"avg-sentiment\":0.11186303282711134},{\"date\":\"Thu Mar 29 19:00:00 EST 2001\",\"moving-avg\":0.12767720342757174,\"avg-sentiment\":0.14498010985200466},{\"date\":\"Fri Mar 30 19:00:00 EST 2001\",\"moving-avg\":0.13033092701087182,\"avg-sentiment\":0.1825347936192569},{\"date\":\"Sat Mar 31 19:00:00 EST 2001\",\"moving-avg\":0.1320712941229395,\"avg-sentiment\":0.14392144879520072},{\"date\":\"Sun Apr 01 20:00:00 EDT 2001\",\"moving-avg\":0.13432532219602017,\"avg-sentiment\":0.16409751234829006},{\"date\":\"Mon Apr 02 20:00:00 EDT 2001\",\"moving-avg\":0.13527246941952947,\"avg-sentiment\":0.16130308238819605},{\"date\":\"Tue Apr 03 20:00:00 EDT 2001\",\"moving-avg\":0.13671727557185318,\"avg-sentiment\":0.12849404602405617},{\"date\":\"Wed Apr 04 20:00:00 EDT 2001\",\"moving-avg\":0.13708473711725042,\"avg-sentiment\":0.1254104719324783},{\"date\":\"Thu Apr 05 20:00:00 EDT 2001\",\"moving-avg\":0.1376326045532395,\"avg-sentiment\":0.14149101552761972},{\"date\":\"Fri Apr 06 20:00:00 EDT 2001\",\"moving-avg\":0.13401139484190902,\"avg-sentiment\":0.053893518392686496},{\"date\":\"Sat Apr 07 20:00:00 EDT 2001\",\"moving-avg\":0.12441925434409909,\"avg-sentiment\":-0.14562262248780047},{\"date\":\"Sun Apr 08 20:00:00 EDT 2001\",\"moving-avg\":0.12261032524175243,\"avg-sentiment\":0.11583533546160028},{\"date\":\"Mon Apr 09 20:00:00 EDT 2001\",\"moving-avg\":0.1268637499507884,\"avg-sentiment\":0.1265170259026889},{\"date\":\"Tue Apr 10 20:00:00 EDT 2001\",\"moving-avg\":0.1274006224975325,\"avg-sentiment\":0.1228428832293383},{\"date\":\"Wed Apr 11 20:00:00 EDT 2001\",\"moving-avg\":0.12830508764787638,\"avg-sentiment\":0.1352958298476824},{\"date\":\"Thu Apr 12 20:00:00 EDT 2001\",\"moving-avg\":0.127546879635075,\"avg-sentiment\":0.09873862837140358},{\"date\":\"Fri Apr 13 20:00:00 EDT 2001\",\"moving-avg\":0.1322652801864046,\"avg-sentiment\":0.23132500052452087},{\"date\":\"Sat Apr 14 20:00:00 EDT 2001\",\"moving-avg\":0.13077382921954922,\"avg-sentiment\":0.10336444247325863},{\"date\":\"Sun Apr 15 20:00:00 EDT 2001\",\"moving-avg\":0.1195195439941597,\"avg-sentiment\":0.13353810362662527},{\"date\":\"Mon Apr 16 20:00:00 EDT 2001\",\"moving-avg\":0.12370934900926568,\"avg-sentiment\":0.1486759688799182},{\"date\":\"Tue Apr 17 20:00:00 EDT 2001\",\"moving-avg\":0.12401740372315868,\"avg-sentiment\":0.15174395315572575},{\"date\":\"Wed Apr 18 20:00:00 EDT 2001\",\"moving-avg\":0.1263122446244373,\"avg-sentiment\":0.15901534761640485},{\"date\":\"Thu Apr 19 20:00:00 EDT 2001\",\"moving-avg\":0.126452291578749,\"avg-sentiment\":0.12272935921726354},{\"date\":\"Fri Apr 20 20:00:00 EDT 2001\",\"moving-avg\":0.12877160327566736,\"avg-sentiment\":0.1875211117271748},{\"date\":\"Sun Apr 22 20:00:00 EDT 2001\",\"moving-avg\":0.12993703570638493,\"avg-sentiment\":0.15367606809549741},{\"date\":\"Mon Apr 23 20:00:00 EDT 2001\",\"moving-avg\":0.1291831804047298,\"avg-sentiment\":0.1538690321229483},{\"date\":\"Tue Apr 24 20:00:00 EDT 2001\",\"moving-avg\":0.13075040372496424,\"avg-sentiment\":0.15553618980360107},{\"date\":\"Wed Apr 25 20:00:00 EDT 2001\",\"moving-avg\":0.13124503414767497,\"avg-sentiment\":0.14359138036504174},{\"date\":\"Thu Apr 26 20:00:00 EDT 2001\",\"moving-avg\":0.12807745455635614,\"avg-sentiment\":0.08330213389360086},{\"date\":\"Fri Apr 27 20:00:00 EDT 2001\",\"moving-avg\":0.1298065844733206,\"avg-sentiment\":0.15471333066622414},{\"date\":\"Sat Apr 28 20:00:00 EDT 2001\",\"moving-avg\":0.12787596899017306,\"avg-sentiment\":0.05394456833268383},{\"date\":\"Sun Apr 29 20:00:00 EDT 2001\",\"moving-avg\":0.1277501286249577,\"avg-sentiment\":0.14120489889554302},{\"date\":\"Mon Apr 30 20:00:00 EDT 2001\",\"moving-avg\":0.12601630548148682,\"avg-sentiment\":0.1305200993151308},{\"date\":\"Tue May 01 20:00:00 EDT 2001\",\"moving-avg\":0.1258884314091401,\"avg-sentiment\":0.14008522662479925},{\"date\":\"Wed May 02 20:00:00 EDT 2001\",\"moving-avg\":0.12505108172773732,\"avg-sentiment\":0.13897702190620645},{\"date\":\"Thu May 03 20:00:00 EDT 2001\",\"moving-avg\":0.12420476709506016,\"avg-sentiment\":0.13591364340788198},{\"date\":\"Fri May 04 20:00:00 EDT 2001\",\"moving-avg\":0.12096004444836007,\"avg-sentiment\":0.03115236662305313},{\"date\":\"Sun May 06 20:00:00 EDT 2001\",\"moving-avg\":0.12151280549545529,\"avg-sentiment\":0.14199330334533486},{\"date\":\"Mon May 07 20:00:00 EDT 2001\",\"moving-avg\":0.1220467995054624,\"avg-sentiment\":0.15751083582783348},{\"date\":\"Tue May 08 20:00:00 EDT 2001\",\"moving-avg\":0.12363958813898474,\"avg-sentiment\":0.10167717739835566},{\"date\":\"Wed May 09 20:00:00 EDT 2001\",\"moving-avg\":0.1323595361293966,\"avg-sentiment\":0.11597581722455598},{\"date\":\"Thu May 10 20:00:00 EDT 2001\",\"moving-avg\":0.1324795682666979,\"avg-sentiment\":0.11943629958063982},{\"date\":\"Fri May 11 20:00:00 EDT 2001\",\"moving-avg\":0.1349550340927913,\"avg-sentiment\":0.20078100068548954},{\"date\":\"Sat May 12 20:00:00 EDT 2001\",\"moving-avg\":0.1337868019214236,\"avg-sentiment\":0.08779591808830671},{\"date\":\"Sun May 13 20:00:00 EDT 2001\",\"moving-avg\":0.134409551000982,\"avg-sentiment\":0.15397830223443684},{\"date\":\"Mon May 14 20:00:00 EDT 2001\",\"moving-avg\":0.13513099223308492,\"avg-sentiment\":0.12038186533449026},{\"date\":\"Tue May 15 20:00:00 EDT 2001\",\"moving-avg\":0.1315826213648325,\"avg-sentiment\":0.1248738744769487},{\"date\":\"Wed May 16 20:00:00 EDT 2001\",\"moving-avg\":0.13117417700173029,\"avg-sentiment\":0.09111111158019213},{\"date\":\"Thu May 17 20:00:00 EDT 2001\",\"moving-avg\":0.13181363222349735,\"avg-sentiment\":0.15272176027963755},{\"date\":\"Sat May 19 20:00:00 EDT 2001\",\"moving-avg\":0.12356887766289232,\"avg-sentiment\":-0.09866666793823242},{\"date\":\"Sun May 20 20:00:00 EDT 2001\",\"moving-avg\":0.12404717810806871,\"avg-sentiment\":0.1660929665110175},{\"date\":\"Mon May 21 20:00:00 EDT 2001\",\"moving-avg\":0.12198482294398856,\"avg-sentiment\":0.09714469269400057},{\"date\":\"Tue May 22 20:00:00 EDT 2001\",\"moving-avg\":0.12261620612215175,\"avg-sentiment\":0.14167085456215897},{\"date\":\"Wed May 23 20:00:00 EDT 2001\",\"moving-avg\":0.12173934448838711,\"avg-sentiment\":0.1612152627142354},{\"date\":\"Thu May 24 20:00:00 EDT 2001\",\"moving-avg\":0.12140517691237354,\"avg-sentiment\":0.14365104081509072},{\"date\":\"Fri May 25 20:00:00 EDT 2001\",\"moving-avg\":0.12268633256438616,\"avg-sentiment\":0.192303701683327},{\"date\":\"Sun May 27 20:00:00 EDT 2001\",\"moving-avg\":0.11878453605470568,\"avg-sentiment\":0.038482294513186625},{\"date\":\"Mon May 28 20:00:00 EDT 2001\",\"moving-avg\":0.12062353019795949,\"avg-sentiment\":0.1987612046626565},{\"date\":\"Tue May 29 20:00:00 EDT 2001\",\"moving-avg\":0.12318817513705259,\"avg-sentiment\":0.160241482066394},{\"date\":\"Wed May 30 20:00:00 EDT 2001\",\"moving-avg\":0.12337697522030007,\"avg-sentiment\":0.16037733316364877},{\"date\":\"Thu May 31 20:00:00 EDT 2001\",\"moving-avg\":0.12567547573787613,\"avg-sentiment\":0.12289958385996547},{\"date\":\"Fri Jun 01 20:00:00 EDT 2001\",\"moving-avg\":0.12096864577469138,\"avg-sentiment\":0.0},{\"date\":\"Sat Jun 02 20:00:00 EDT 2001\",\"moving-avg\":0.12024677216759948,\"avg-sentiment\":0.1088638911023736},{\"date\":\"Sun Jun 03 20:00:00 EDT 2001\",\"moving-avg\":0.11950282178371129,\"avg-sentiment\":0.1177667151081532},{\"date\":\"Mon Jun 04 20:00:00 EDT 2001\",\"moving-avg\":0.12022845923856375,\"avg-sentiment\":0.16074614555178016},{\"date\":\"Tue Jun 05 20:00:00 EDT 2001\",\"moving-avg\":0.11925418934421003,\"avg-sentiment\":0.10668554657727083},{\"date\":\"Wed Jun 06 20:00:00 EDT 2001\",\"moving-avg\":0.12161852928753507,\"avg-sentiment\":0.10208256492280442},{\"date\":\"Thu Jun 07 20:00:00 EDT 2001\",\"moving-avg\":0.12237764131956799,\"avg-sentiment\":0.16476666430632272},{\"date\":\"Sun Jun 10 20:00:00 EDT 2001\",\"moving-avg\":0.11589394677607896,\"avg-sentiment\":-0.03700000047683716},{\"date\":\"Mon Jun 11 20:00:00 EDT 2001\",\"moving-avg\":0.11982828028075697,\"avg-sentiment\":0.21970718253869564},{\"date\":\"Tue Jun 12 20:00:00 EDT 2001\",\"moving-avg\":0.11596241970660512,\"avg-sentiment\":0.0},{\"date\":\"Wed Jun 13 20:00:00 EDT 2001\",\"moving-avg\":0.1119812097205838,\"avg-sentiment\":0.0},{\"date\":\"Thu Jun 14 20:00:00 EDT 2001\",\"moving-avg\":0.10769650972984118,\"avg-sentiment\":0.07224000096321107},{\"date\":\"Sun Jun 17 20:00:00 EDT 2001\",\"moving-avg\":0.10972594720396094,\"avg-sentiment\":0.14867904231189938},{\"date\":\"Mon Jun 18 20:00:00 EDT 2001\",\"moving-avg\":0.11383042027989852,\"avg-sentiment\":0.27711249451256464},{\"date\":\"Thu Jun 21 20:00:00 EDT 2001\",\"moving-avg\":0.11606612811392489,\"avg-sentiment\":0.18745310035528112},{\"date\":\"Sat Jun 23 20:00:00 EDT 2001\",\"moving-avg\":0.11763575160435129,\"avg-sentiment\":0.17196257918974056},{\"date\":\"Sun Jun 24 20:00:00 EDT 2001\",\"moving-avg\":0.12035303675652056,\"avg-sentiment\":0.17262966614527003},{\"date\":\"Mon Jun 25 20:00:00 EDT 2001\",\"moving-avg\":0.12080043647684822,\"avg-sentiment\":0.16614375188946723},{\"date\":\"Tue Jun 26 20:00:00 EDT 2001\",\"moving-avg\":0.12925893148371656,\"avg-sentiment\":0.15508818226781756},{\"date\":\"Wed Jun 27 20:00:00 EDT 2001\",\"moving-avg\":0.12300374920707798,\"avg-sentiment\":-0.021562501788139343},{\"date\":\"Sun Jul 01 20:00:00 EDT 2001\",\"moving-avg\":0.13295003728676852,\"avg-sentiment\":0.3955333350847165},{\"date\":\"Mon Jul 02 20:00:00 EDT 2001\",\"moving-avg\":0.12319767525822153,\"avg-sentiment\":-0.1509000062942505},{\"date\":\"Thu Jul 05 20:00:00 EDT 2001\",\"moving-avg\":0.12069625749210054,\"avg-sentiment\":0.08617272973060608},{\"date\":\"Wed Jul 18 20:00:00 EDT 2001\",\"moving-avg\":0.11481159315450604,\"avg-sentiment\":-0.03288888931274414},{\"date\":\"Mon Aug 13 20:00:00 EDT 2001\",\"moving-avg\":0.11034230316972206,\"avg-sentiment\":0.05822500213980675},{\"date\":\"Wed Aug 15 20:00:00 EDT 2001\",\"moving-avg\":0.10785141195043058,\"avg-sentiment\":-0.036244442065556846},{\"date\":\"Wed Aug 22 20:00:00 EDT 2001\",\"moving-avg\":0.09646974211840179,\"avg-sentiment\":-0.1426888902982076},{\"date\":\"Sun Aug 26 20:00:00 EDT 2001\",\"moving-avg\":0.09419335936060293,\"avg-sentiment\":0.09194999933242798},{\"date\":\"Thu Aug 30 20:00:00 EDT 2001\",\"moving-avg\":0.0888705695290268,\"avg-sentiment\":6.936382163654706E-4},{\"date\":\"Thu Sep 06 20:00:00 EDT 2001\",\"moving-avg\":0.08681267734431991,\"avg-sentiment\":0.06116281831875825},{\"date\":\"Sun Sep 09 20:00:00 EDT 2001\",\"moving-avg\":0.08821578838160074,\"avg-sentiment\":0.04209333111842473},{\"date\":\"Sun Sep 16 20:00:00 EDT 2001\",\"moving-avg\":0.0933808254511887,\"avg-sentiment\":0.2638150031900122},{\"date\":\"Mon Sep 17 20:00:00 EDT 2001\",\"moving-avg\":0.09761699059494353,\"avg-sentiment\":0.2448516694207986},{\"date\":\"Tue Sep 18 20:00:00 EDT 2001\",\"moving-avg\":0.09922317172327147,\"avg-sentiment\":0.20893157940161855},{\"date\":\"Thu Sep 20 20:00:00 EDT 2001\",\"moving-avg\":0.09967926135743241,\"avg-sentiment\":0.12036823560209836},{\"date\":\"Tue Sep 25 20:00:00 EDT 2001\",\"moving-avg\":0.0969860093615442,\"avg-sentiment\":0.021285005046157875},{\"date\":\"Thu Sep 27 20:00:00 EDT 2001\",\"moving-avg\":0.0967995014846409,\"avg-sentiment\":0.15917142799922399},{\"date\":\"Mon Oct 08 20:00:00 EDT 2001\",\"moving-avg\":0.10110098301305552,\"avg-sentiment\":0.09204444537560146},{\"date\":\"Wed Oct 10 20:00:00 EDT 2001\",\"moving-avg\":0.09342829915179365,\"avg-sentiment\":-0.010473333299160004},{\"date\":\"Thu Oct 11 20:00:00 EDT 2001\",\"moving-avg\":0.09709829918835117,\"avg-sentiment\":0.11010000109672546},{\"date\":\"Sun Oct 14 20:00:00 EDT 2001\",\"moving-avg\":0.10765425140808718,\"avg-sentiment\":0.31667856659208027},{\"date\":\"Thu Oct 18 20:00:00 EDT 2001\",\"moving-avg\":0.11131326894637955,\"avg-sentiment\":0.18201052711198204},{\"date\":\"Wed Oct 31 19:00:00 EST 2001\",\"moving-avg\":0.10856335593679584,\"avg-sentiment\":0.0661816520243883},{\"date\":\"Thu Nov 01 19:00:00 EST 2001\",\"moving-avg\":0.10130305249768831,\"avg-sentiment\":0.059303391339338346},{\"date\":\"Tue Nov 20 19:00:00 EST 2001\",\"moving-avg\":0.09800936323412908,\"avg-sentiment\":0.08864242244850505},{\"date\":\"Sun Nov 25 19:00:00 EST 2001\",\"moving-avg\":0.0918321418330372,\"avg-sentiment\":-0.013354062843017087},{\"date\":\"Mon Nov 26 19:00:00 EST 2001\",\"moving-avg\":0.08414217850449654,\"avg-sentiment\":-0.058069233710949235},{\"date\":\"Thu Jun 27 20:00:00 EDT 2002\",\"moving-avg\":0.08272119631182696,\"avg-sentiment\":0.12351428610937935},{\"date\":\"Mon Jul 01 20:00:00 EDT 2002\",\"moving-avg\":0.08105242359857395,\"avg-sentiment\":0.10502500087022781},{\"date\":\"Tue Jul 02 20:00:00 EDT 2002\",\"moving-avg\":0.08650230325922449,\"avg-sentiment\":0.14193388803137674},{\"date\":\"Thu Jul 04 20:00:00 EDT 2002\",\"moving-avg\":0.07678243389687586,\"avg-sentiment\":0.10393725421425759},{\"date\":\"Sun Jul 07 20:00:00 EDT 2002\",\"moving-avg\":0.082949532850276,\"avg-sentiment\":0.03411296230775338},{\"date\":\"Mon Jul 08 20:00:00 EDT 2002\",\"moving-avg\":0.07868496573097498,\"avg-sentiment\":-0.0417642838484238},{\"date\":\"Tue Jul 09 20:00:00 EDT 2002\",\"moving-avg\":0.07975653976286773,\"avg-sentiment\":-7.416683559616395E-4},{\"date\":\"Wed Jul 10 20:00:00 EDT 2002\",\"moving-avg\":0.07734431756124223,\"avg-sentiment\":-0.014141663908958435},{\"date\":\"Thu Jul 11 20:00:00 EDT 2002\",\"moving-avg\":0.07269142405939093,\"avg-sentiment\":-0.17583124712109566}]},\"layer\":[{\"mark\":{\"type\":\"line\",\"stroke\":\"lightblue\"},\"encoding\":{\"x\":{\"field\":\"date\",\"type\":\"temporal\"},\"y\":{\"field\":\"avg-sentiment\"}}},{\"mark\":{\"type\":\"line\",\"stroke\":\"green\"},\"encoding\":{\"x\":{\"field\":\"date\",\"type\":\"temporal\"},\"y\":{\"field\":\"moving-avg\"}}}]};\n",
       "    vegaEmbed('#uuid-f3886baf-ea23-460d-8910-6c402b5e961c', spec, {defaultStyle:true}).catch(console.warn);\n",
       "    }, function(err) {\n",
       "    console.log('Failed to load');\n",
       "  });\n",
       "  </script>\n",
       "</div>\n",
       "  "
      ]
     },
     "execution_count": 58,
     "metadata": {},
     "output_type": "execute_result"
    }
   ],
   "source": [
    ";; (def line-plot\n",
    ";;   {:data {:values time-series-data}\n",
    ";;    :width 400\n",
    ";;    :height 400\n",
    ";;    :encoding {:x {:field \"date\", :type \"temporal\"}\n",
    ";;               :y {:field \"moving-avg\"}}\n",
    ";;    :mark {:type \"line\" :stroke \"red\"}})\n",
    "\n",
    "(def layered-line-plot\n",
    "    {:width 600\n",
    "     :height 600\n",
    "     :data {:values time-series-data}\n",
    "     :layer [{:mark {:type \"line\", :stroke \"lightblue\"}\n",
    "              :encoding {:x {:field \"date\", :type \"temporal\"}\n",
    "                         :y {:field \"avg-sentiment\"}}},\n",
    "             {:mark {:type \"line\", :stroke \"green\"}\n",
    "              :encoding {:x {:field \"date\", :type \"temporal\"}\n",
    "                         :y {:field \"moving-avg\"}}}]})\n",
    "\n",
    ";; Render the plot\n",
    ";; (oz/view! line-plot)\n",
    "(oz/view! layered-line-plot)"
   ]
  },
  {
   "cell_type": "code",
   "execution_count": null,
   "metadata": {},
   "outputs": [],
   "source": []
  }
 ],
 "metadata": {
  "celltoolbar": "Raw Cell Format",
  "kernelspec": {
   "display_name": "Clojure (clojupyter-v0.2.2)",
   "language": "clojure",
   "name": "clojupyter"
  },
  "language_info": {
   "file_extension": ".clj",
   "mimetype": "text/x-clojure",
   "name": "clojure",
   "version": "1.10.0"
  }
 },
 "nbformat": 4,
 "nbformat_minor": 2
}
