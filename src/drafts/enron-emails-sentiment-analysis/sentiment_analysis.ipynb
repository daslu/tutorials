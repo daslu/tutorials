{
 "cells": [
  {
   "cell_type": "markdown",
   "metadata": {},
   "source": [
    "# Setup Environment"
   ]
  },
  {
   "cell_type": "code",
   "execution_count": 1,
   "metadata": {},
   "outputs": [
    {
     "name": "stdout",
     "output_type": "stream",
     "text": [
      "Done!"
     ]
    },
    {
     "data": {
      "text/plain": [
       "nil"
      ]
     },
     "execution_count": 1,
     "metadata": {},
     "output_type": "execute_result"
    }
   ],
   "source": [
    ";; Enable stack traces\n",
    ";; (clojupyter.misc.stacktrace/set-print-stacktraces! true)\n",
    "(require '[clojupyter.misc.helper :as helper])\n",
    "\n",
    "(->> '[[clojure-opennlp \"0.5.0\"]\n",
    "       [kixi/stats \"0.5.0\"]\n",
    "       [io.forward/clojure-mail \"1.0.7\"]\n",
    "       [clojure2d \"1.1.0\"]\n",
    "       [metasoarous/oz \"1.5.0\"]\n",
    "       [clj-time \"0.15.0\"]\n",
    "       [net.cgrand/xforms \"0.18.2\"]]\n",
    "     (map helper/add-dependencies)\n",
    "     doall)\n",
    "\n",
    "(print (str \"Done!\"))"
   ]
  },
  {
   "cell_type": "code",
   "execution_count": 2,
   "metadata": {},
   "outputs": [
    {
     "data": {
      "text/plain": [
       "{[local/vader \"2.0.1\"] nil}"
      ]
     },
     "execution_count": 2,
     "metadata": {},
     "output_type": "execute_result"
    }
   ],
   "source": [
    ";; Load VADER as local repository\n",
    ";; The vader repo binary must be installed in this directory ./maven-repository\n",
    "(do\n",
    "    (use '[cemerick.pomegranate :only (add-dependencies)])\n",
    "    (add-dependencies \n",
    "        :coordinates '[[local/vader \"2.0.1\"]] \n",
    "        :repositories {\"local/vader\" (str (.toURI (java.io.File. \"./maven_repository\")))}))"
   ]
  },
  {
   "cell_type": "code",
   "execution_count": 3,
   "metadata": {},
   "outputs": [
    {
     "name": "stderr",
     "output_type": "stream",
     "text": [
      "WARNING: boolean? already refers to: #'clojure.core/boolean? in namespace: medley.core, being replaced by: #'medley.core/boolean?\n"
     ]
    },
    {
     "data": {
      "text/plain": [
       "#namespace[drafts.sentiment_analysis]"
      ]
     },
     "execution_count": 3,
     "metadata": {},
     "output_type": "execute_result"
    }
   ],
   "source": [
    ";; Build namespace\n",
    "(ns drafts.sentiment_analysis\n",
    "    (:import [net.nunoachenriques.vader SentimentAnalysis]\n",
    "             [net.nunoachenriques.vader.lexicon English]\n",
    "             [net.nunoachenriques.vader.text TokenizerEnglish]\n",
    "             [java.io FileInputStream File]\n",
    "             [javax.mail Session]\n",
    "             [javax.mail.internet MimeMessage]\n",
    "             [java.util Properties])\n",
    "    (:require [kixi.stats.core :as stats]\n",
    "              [clojure-mail.core :as mail]\n",
    "              [clojure-mail.message :refer (read-message)]\n",
    "              [oz.notebook.clojupyter :as oz]\n",
    "              [clj-time.core :as t]\n",
    "              [clj-time.coerce :as c]\n",
    "              [net.cgrand.xforms :as x])\n",
    "    (:use [clojure.repl :only (doc source)]\n",
    "          [clojure.pprint :only (pprint print-table)]\n",
    "          [opennlp.nlp :only (make-sentence-detector)]))\n",
    "\n",
    "*ns*"
   ]
  },
  {
   "cell_type": "code",
   "execution_count": 4,
   "metadata": {},
   "outputs": [
    {
     "data": {
      "text/plain": [
       "true"
      ]
     },
     "execution_count": 4,
     "metadata": {},
     "output_type": "execute_result"
    }
   ],
   "source": [
    "(set! *warn-on-reflection* true)"
   ]
  },
  {
   "cell_type": "markdown",
   "metadata": {},
   "source": [
    "# Analyzing Sentiment w/ Vader"
   ]
  },
  {
   "cell_type": "code",
   "execution_count": 5,
   "metadata": {},
   "outputs": [
    {
     "data": {
      "text/plain": [
       "#'drafts.sentiment_analysis/tokenizer"
      ]
     },
     "execution_count": 5,
     "metadata": {},
     "output_type": "execute_result"
    }
   ],
   "source": [
    "(def language (English.))\n",
    "(def tokenizer (TokenizerEnglish.))"
   ]
  },
  {
   "cell_type": "code",
   "execution_count": 6,
   "metadata": {},
   "outputs": [
    {
     "data": {
      "text/plain": [
       "#'drafts.sentiment_analysis/sa"
      ]
     },
     "execution_count": 6,
     "metadata": {},
     "output_type": "execute_result"
    }
   ],
   "source": [
    "(def sa (SentimentAnalysis. language tokenizer))"
   ]
  },
  {
   "cell_type": "code",
   "execution_count": 7,
   "metadata": {},
   "outputs": [
    {
     "name": "stderr",
     "output_type": "stream",
     "text": [
      "Reflection warning, NO_SOURCE_PATH:1:1 - call to method getSentimentAnalysis can't be resolved (target class is unknown).\n"
     ]
    },
    {
     "data": {
      "text/plain": [
       "{\"negative\" 0.0, \"neutral\" 0.261, \"positive\" 0.739, \"compound\" 0.8582}"
      ]
     },
     "execution_count": 7,
     "metadata": {},
     "output_type": "execute_result"
    }
   ],
   "source": [
    "(. sa (getSentimentAnalysis \"Yay!! You are the best!\"))"
   ]
  },
  {
   "cell_type": "code",
   "execution_count": 8,
   "metadata": {},
   "outputs": [
    {
     "data": {
      "text/plain": [
       "{\"negative\" 0.0, \"neutral\" 0.261, \"positive\" 0.739, \"compound\" 0.8582}"
      ]
     },
     "execution_count": 8,
     "metadata": {},
     "output_type": "execute_result"
    }
   ],
   "source": [
    ";; Avoiding reflection by type hint:\n",
    "(. ^SentimentAnalysis sa (getSentimentAnalysis \"Yay!! You are the best!\"))"
   ]
  },
  {
   "cell_type": "markdown",
   "metadata": {},
   "source": [
    "# Reading Emails"
   ]
  },
  {
   "cell_type": "code",
   "execution_count": 9,
   "metadata": {},
   "outputs": [
    {
     "data": {
      "text/plain": [
       "#'drafts.sentiment_analysis/maildir-path"
      ]
     },
     "execution_count": 9,
     "metadata": {},
     "output_type": "execute_result"
    }
   ],
   "source": [
    "(def maildir-path \"data/enron_mail/maildir\")"
   ]
  },
  {
   "cell_type": "code",
   "execution_count": 10,
   "metadata": {},
   "outputs": [
    {
     "name": "stdout",
     "output_type": "stream",
     "text": [
      "{:cc (),\n",
      " :bcc (),\n",
      " :headers\n",
      " [{\"Message-ID\" \"<33491127.1075857594966.JavaMail.evans@thyme>\"}\n",
      "  {\"Date\" \"Tue, 21 Nov 2000 13:16:00 -0800 (PST)\"}\n",
      "  {\"From\" \"john.arnold@enron.com\"}\n",
      "  {\"To\" \"slafontaine@globalp.com\"}\n",
      "  {\"Subject\" \"re:mkts\"}\n",
      "  {\"Mime-Version\" \"1.0\"}\n",
      "  {\"Content-Type\" \"text/plain; charset=us-ascii\"}\n",
      "  {\"Content-Transfer-Encoding\" \"7bit\"}\n",
      "  {\"X-From\" \"John Arnold\"}\n",
      "  {\"X-To\" \"slafontaine@globalp.com @ ENRON\"}\n",
      "  {\"X-cc\" \"\"}\n",
      "  {\"X-bcc\" \"\"}\n",
      "  {\"X-Folder\" \"\\\\John_Arnold_Dec2000\\\\Notes Folders\\\\'sent mail\"}\n",
      "  {\"X-Origin\" \"Arnold-J\"}\n",
      "  {\"X-FileName\" \"Jarnold.nsf\"}],\n",
      " :date-sent #inst \"2000-11-21T21:16:00.000-00:00\",\n",
      " :date-received nil,\n",
      " :from ({:address \"john.arnold@enron.com\", :name nil}),\n",
      " :id \"<33491127.1075857594966.JavaMail.evans@thyme>\",\n",
      " :sender nil,\n",
      " :content-type \"text/plain; charset=us-ascii\",\n",
      " :multipart? false,\n",
      " :body\n",
      " {:content-type \"text/plain; charset=us-ascii\",\n",
      "  :body\n",
      "  \"Hey:\\nHaven't had the best of months.  Like you had some good positions but others \\nwiped out everything.  Unbelievable how the whole curve moves as one for 6 \\nmonths and then separates completely.  The z/f/g and f/g/h flies are \\namazing.  Something definitely out of whack.  Hard to believe cash in Z will \\nbe cantango to F and front spread, F/G, will be 40.  Spreads definitely \\nimplying we will see some $10+ prints on daily cash at the hub this winter.  \\nHell, already seeing it in the West.  The system is just broken there.  \\ninteresting to see if it is a sign of what can come in the east later.  \\ndefinitely more flexibility in the east so the blowouts won't occur until \\nlatter part of the winter.   the inelasticity of demand continues to be \\nunbelievable.  who would have thunk it.   Gas can be 3 times what it was one \\nyear ago and not a significant loss of demand.   \\nmarket definitely trained to buy the dips at this point.  continues to be a \\nvery trending market.  most days finish on the intraday high or low.  \\nPira told the boys to hedge jv and cal 2 and the impact has been \\nsignificant.  i quote bids on term strips 5 times a day.   understand they \\nare changing their view somewhat tomorrow.  wait and see if it relieves some \\nback pressure.  very surprised at lack of spec long interest in jv at 4.5 \\nconsidering the scenario that's being painted.   \\n\\n\\n\\n\\nslafontaine@globalp.com on 11/21/2000 01:06:40 PM\\nTo: jarnold@enron.com\\ncc:  \\nSubject: re:mkts\\n\\n\\n\\njohnny, hope things re treating you well. this month has been frustrating for\\nme-generally caught many mkt moves but had 2 postions that nearly cancelled \\nall\\nthe rest. im finding it really really hard to assess risk now in oil and gas\\ntherefore im taking a step back esp in front of holidays and year end. was \\nlong\\nmar gas vs backs which worked great but i took profits waayyy too early\\n  flat px i think is pretty clear-if weather stays normal to below we keep a\\nflaoor at 5.80-6.00 bucks for another 40 days at least. if we have sustained\\naboves we drop like a rock in part due to back en d pressure.\\n\\n   but spreads-what the hell do we do with em?????????? was just saying to \\nmark\\nsilverman there is a huge opportunity here staring us in the face but i hve no\\nidea what it is-i have equal arguements for why sprds shud fall or move out. \\nany\\ngreat insites? hope all is well and enjoy the long weeknd-we both deserve it.\\n   guess the curve will stop blowing out when/if we see the back end selling \\ndry\\nup??\\n\\n\\n\\n\"},\n",
      " :subject \"re:mkts\",\n",
      " :to ({:address \"slafontaine@globalp.com\", :name nil})}\n"
     ]
    },
    {
     "data": {
      "text/plain": [
       "nil"
      ]
     },
     "execution_count": 10,
     "metadata": {},
     "output_type": "execute_result"
    }
   ],
   "source": [
    "(def sample-msg \n",
    "    (-> \"data/enron_mail/maildir/arnold-j/_sent_mail/36.\"\n",
    "        (clojure.java.io/as-file)\n",
    "        (mail/file->message)\n",
    "        (read-message)))\n",
    "\n",
    "(pprint sample-msg)"
   ]
  },
  {
   "cell_type": "markdown",
   "metadata": {},
   "source": [
    "# Read in Files"
   ]
  },
  {
   "cell_type": "code",
   "execution_count": 11,
   "metadata": {},
   "outputs": [
    {
     "data": {
      "text/plain": [
       "#'drafts.sentiment_analysis/get-files"
      ]
     },
     "execution_count": 11,
     "metadata": {},
     "output_type": "execute_result"
    }
   ],
   "source": [
    "(defn get-files [start-path re]\n",
    "    (->> start-path\n",
    "         (clojure.java.io/as-file)\n",
    "         (file-seq)\n",
    "         (map #(.getPath ^File %))\n",
    "         (filter #(re-matches re %))))"
   ]
  },
  {
   "cell_type": "code",
   "execution_count": 12,
   "metadata": {},
   "outputs": [
    {
     "data": {
      "text/plain": [
       "#'drafts.sentiment_analysis/xform-msg-files"
      ]
     },
     "execution_count": 12,
     "metadata": {},
     "output_type": "execute_result"
    }
   ],
   "source": [
    "#_(def xform-msg-files\n",
    "    (comp (map mail/file->message)\n",
    "          (map read-message)))\n",
    "\n",
    "(defn raw-message->message-data [m]\n",
    "    {:to    (-> (get m :to) (first) (get :address))\n",
    "     :from  (-> (get m :from) (first) (get :address))\n",
    "     :date-sent (get m :date-sent)\n",
    "     :date-received (get m :date-received)\n",
    "     :subject (get m :subject)\n",
    "     :body  (get-in m [:body :body])})\n",
    "\n",
    "(def xform-msg-files\n",
    "    (comp (map mail/file->message)\n",
    "          (map read-message)\n",
    "          (map raw-message->message-data)))\n"
   ]
  },
  {
   "cell_type": "code",
   "execution_count": 13,
   "metadata": {},
   "outputs": [
    {
     "data": {
      "text/plain": [
       "#'drafts.sentiment_analysis/sent-msg-paths"
      ]
     },
     "execution_count": 13,
     "metadata": {},
     "output_type": "execute_result"
    }
   ],
   "source": [
    "(def sent-mail-re #\"data\\/enron_mail\\/maildir\\/.*\\/_sent_mail\\/.*\")\n",
    "(def sent-msg-paths (get-files maildir-path sent-mail-re))"
   ]
  },
  {
   "cell_type": "code",
   "execution_count": 14,
   "metadata": {},
   "outputs": [],
   "source": [
    "#_(defn msg-reduce\n",
    "    ([] [])\n",
    "    ([acc] acc)\n",
    "    ([acc m]\n",
    "        (conj acc {:to    (-> (get m :to) (first) (get :address))\n",
    "                   :from  (-> (get m :from) (first) (get :address))\n",
    "                   :date-sent (get m :date-sent)\n",
    "                   :date-received (get m :date-received)\n",
    "                   :subject (get m :subject)\n",
    "                   :body  (get-in m [:body :body])})))"
   ]
  },
  {
   "cell_type": "code",
   "execution_count": 15,
   "metadata": {},
   "outputs": [
    {
     "data": {
      "text/plain": [
       "#'drafts.sentiment_analysis/msgs"
      ]
     },
     "execution_count": 15,
     "metadata": {},
     "output_type": "execute_result"
    }
   ],
   "source": [
    "#_(def msgs (transduce xform-msg-files msg-reduce sent-msg-paths))\n",
    "\n",
    "#_(def msgs (into [] xform-msg-files sent-msg-paths))\n",
    "\n",
    "(def msgs (sequence xform-msg-files sent-msg-paths))"
   ]
  },
  {
   "cell_type": "code",
   "execution_count": 16,
   "metadata": {},
   "outputs": [
    {
     "data": {
      "text/plain": [
       "30237"
      ]
     },
     "execution_count": 16,
     "metadata": {},
     "output_type": "execute_result"
    }
   ],
   "source": [
    "(count msgs)"
   ]
  },
  {
   "cell_type": "markdown",
   "metadata": {},
   "source": [
    "# Add Message Sentiment"
   ]
  },
  {
   "cell_type": "code",
   "execution_count": 17,
   "metadata": {},
   "outputs": [
    {
     "data": {
      "text/plain": [
       "#'drafts.sentiment_analysis/remove-line-breaks"
      ]
     },
     "execution_count": 17,
     "metadata": {},
     "output_type": "execute_result"
    }
   ],
   "source": [
    "(defn remove-line-breaks [text]\n",
    "    (clojure.string/replace text #\"\\n\" \"\"))"
   ]
  },
  {
   "cell_type": "code",
   "execution_count": 18,
   "metadata": {},
   "outputs": [
    {
     "data": {
      "text/plain": [
       "#'drafts.sentiment_analysis/get-sentences"
      ]
     },
     "execution_count": 18,
     "metadata": {},
     "output_type": "execute_result"
    }
   ],
   "source": [
    "(def get-sentences (make-sentence-detector \"./models/en-sent.bin\"))"
   ]
  },
  {
   "cell_type": "code",
   "execution_count": 19,
   "metadata": {},
   "outputs": [
    {
     "data": {
      "text/plain": [
       "#'drafts.sentiment_analysis/msg->avg-sentiment"
      ]
     },
     "execution_count": 19,
     "metadata": {},
     "output_type": "execute_result"
    }
   ],
   "source": [
    "#_(defn add-sentiment\n",
    "    ([] [])\n",
    "    ([acc] acc)\n",
    "    ([acc msg]\n",
    "      (conj acc (conj msg {:avg-sentiment (->> msg\n",
    "                                     (:body)\n",
    "                                     (get-sentences)\n",
    "                                     (map remove-line-breaks)\n",
    "                                     (map #(. sa (getSentimentAnalysis %)))\n",
    "                                     (map #(get % \"compound\"))\n",
    "                                     (transduce identity stats/mean))}))))\n",
    "\n",
    "(defn msg->avg-sentiment [msg]\n",
    "  (->> msg\n",
    "       (:body)\n",
    "       (get-sentences)\n",
    "       (transduce\n",
    "        (map (fn [sentence]\n",
    "               (-> sentence\n",
    "                   remove-line-breaks\n",
    "                   (#(. ^SentimentAnalysis sa (getSentimentAnalysis %)))\n",
    "                   (get \"compound\"))))\n",
    "        stats/mean)))"
   ]
  },
  {
   "cell_type": "code",
   "execution_count": 20,
   "metadata": {},
   "outputs": [
    {
     "data": {
      "text/plain": [
       "#'drafts.sentiment_analysis/sentiment"
      ]
     },
     "execution_count": 20,
     "metadata": {},
     "output_type": "execute_result"
    }
   ],
   "source": [
    "#_(def sentiment (transduce identity add-sentiment (filter #(< (count (get % :body)) 4000) msgs)))\n",
    "\n",
    "(def sentiment \n",
    "    (sequence\n",
    "          (comp \n",
    "            (filter #(< (count (get % :body)) 4000))\n",
    "            (map (fn [msg] (conj msg {:avg-sentiment (msg->avg-sentiment msg)}))))\n",
    "          msgs))"
   ]
  },
  {
   "cell_type": "markdown",
   "metadata": {},
   "source": [
    "# Plot Sentiment Over Time"
   ]
  },
  {
   "cell_type": "code",
   "execution_count": 21,
   "metadata": {},
   "outputs": [
    {
     "name": "stdout",
     "output_type": "stream",
     "text": [
      "\n",
      "|                   :date-sent |       :avg-sentiment |\n",
      "|------------------------------+----------------------|\n",
      "| Tue May 15 03:23:00 IDT 2001 | 0.055699998778956275 |\n",
      "| Fri May 11 00:07:00 IDT 2001 |  0.12040000160535176 |\n",
      "| Thu May 17 00:13:00 IDT 2001 |  0.05083000175654888 |\n",
      "| Thu Apr 26 21:27:00 IDT 2001 |  0.44040000438690186 |\n",
      "| Wed May 02 04:54:00 IDT 2001 |   0.3900999998052915 |\n",
      "| Mon Apr 30 23:46:00 IDT 2001 |  0.01218292698627565 |\n",
      "| Tue May 01 00:10:00 IDT 2001 |                  0.0 |\n",
      "| Thu Apr 26 04:26:00 IDT 2001 |                  0.0 |\n",
      "| Thu Apr 19 03:40:00 IDT 2001 | -0.09866666793823242 |\n",
      "| Sat Apr 21 06:40:00 IDT 2001 |  0.25231666505957645 |\n"
     ]
    },
    {
     "data": {
      "text/plain": [
       "nil"
      ]
     },
     "execution_count": 21,
     "metadata": {},
     "output_type": "execute_result"
    }
   ],
   "source": [
    "#_(pprint (->> (take 10 sentiment)\n",
    "             (map #(select-keys % [:date-sent :avg-sentiment]))))\n",
    "\n",
    "(->> sentiment\n",
    "     (take 10)\n",
    "     (map #(select-keys % [:date-sent :avg-sentiment]))\n",
    "     print-table)"
   ]
  },
  {
   "cell_type": "code",
   "execution_count": 22,
   "metadata": {},
   "outputs": [
    {
     "data": {
      "text/plain": [
       "#'drafts.sentiment_analysis/same-day?"
      ]
     },
     "execution_count": 22,
     "metadata": {},
     "output_type": "execute_result"
    }
   ],
   "source": [
    "(defn same-day? [t1 t2]\n",
    "    (t/equal? (t/floor t1 t/day) (t/floor t2 t/day)))"
   ]
  },
  {
   "cell_type": "code",
   "execution_count": 23,
   "metadata": {},
   "outputs": [
    {
     "data": {
      "text/plain": [
       "#'drafts.sentiment_analysis/get-time-data"
      ]
     },
     "execution_count": 23,
     "metadata": {},
     "output_type": "execute_result"
    }
   ],
   "source": [
    "#_(def xform-get-time-data\n",
    "    (comp (map #(select-keys % [:date-sent :avg-sentiment]))\n",
    "          (map #(hash-map :date (-> (c/from-date (:date-sent %))\n",
    "                                    (t/floor t/day)\n",
    "                                    (c/to-date))\n",
    "                          :avg-sentiment (:avg-sentiment %)))))\n",
    "\n",
    "(defn get-time-data [{:keys [date-sent avg-sentiment]}]\n",
    "    {:date (-> date-sent\n",
    "               c/from-date\n",
    "               (t/floor t/day)\n",
    "               (c/to-date))\n",
    "     :avg-sentiment avg-sentiment})"
   ]
  },
  {
   "cell_type": "code",
   "execution_count": 24,
   "metadata": {},
   "outputs": [
    {
     "name": "stdout",
     "output_type": "stream",
     "text": [
      "\n",
      "|                        :date |       :avg-sentiment |\n",
      "|------------------------------+----------------------|\n",
      "| Tue May 15 03:00:00 IDT 2001 | 0.055699998778956275 |\n",
      "| Thu May 10 03:00:00 IDT 2001 |  0.12040000160535176 |\n",
      "| Wed May 16 03:00:00 IDT 2001 |  0.05083000175654888 |\n",
      "| Thu Apr 26 03:00:00 IDT 2001 |  0.44040000438690186 |\n",
      "| Wed May 02 03:00:00 IDT 2001 |   0.3900999998052915 |\n"
     ]
    },
    {
     "data": {
      "text/plain": [
       "nil"
      ]
     },
     "execution_count": 24,
     "metadata": {},
     "output_type": "execute_result"
    }
   ],
   "source": [
    "#_(pprint (eduction xform-get-time-data (take 5 sentiment)))\n",
    "\n",
    "(->> sentiment\n",
    "     (eduction (comp (take 5)\n",
    "                     (map get-time-data)))\n",
    "     print-table)"
   ]
  },
  {
   "cell_type": "code",
   "execution_count": 25,
   "metadata": {},
   "outputs": [],
   "source": [
    "#_(defn reduce-daily-sentiment\n",
    "    ([] {})\n",
    "    ([acc] \n",
    "     (reduce #(conj %1 {(first %2) \n",
    "                        (transduce identity stats/mean (second %2))}) (sorted-map) acc))\n",
    "    ([acc x]\n",
    "     (let [{date :date sentiment :avg-sentiment} x]\n",
    "            (if (contains? acc date)\n",
    "             (update acc date conj sentiment)\n",
    "             (conj acc {date [sentiment]})))))"
   ]
  },
  {
   "cell_type": "code",
   "execution_count": 26,
   "metadata": {},
   "outputs": [
    {
     "data": {
      "text/plain": [
       "#'drafts.sentiment_analysis/average-sentiment-data"
      ]
     },
     "execution_count": 26,
     "metadata": {},
     "output_type": "execute_result"
    }
   ],
   "source": [
    "#_(def average-sentiment-data (transduce xform-get-time-data reduce-daily-sentiment sentiment))\n",
    "\n",
    "(def average-sentiment-data (into (sorted-map)\n",
    "                                  (comp (map get-time-data)\n",
    "                                        (x/by-key :date\n",
    "                                                  :avg-sentiment\n",
    "                                                   x/avg))\n",
    "                                  sentiment))"
   ]
  },
  {
   "cell_type": "code",
   "execution_count": 27,
   "metadata": {},
   "outputs": [
    {
     "data": {
      "text/plain": [
       "556"
      ]
     },
     "execution_count": 27,
     "metadata": {},
     "output_type": "execute_result"
    }
   ],
   "source": [
    "(count average-sentiment-data)"
   ]
  },
  {
   "cell_type": "code",
   "execution_count": 28,
   "metadata": {},
   "outputs": [
    {
     "data": {
      "text/plain": [
       "#'drafts.sentiment_analysis/moving-average"
      ]
     },
     "execution_count": 28,
     "metadata": {},
     "output_type": "execute_result"
    }
   ],
   "source": [
    "(defn average [coll]\n",
    "  (/ (reduce + coll)\n",
    "      (count coll)))\n",
    "\n",
    "(defn moving-average [period coll] \n",
    "  (lazy-cat (repeat (dec period) nil) \n",
    "            (map average (partition period 1  coll))))"
   ]
  },
  {
   "cell_type": "code",
   "execution_count": 39,
   "metadata": {},
   "outputs": [
    {
     "data": {
      "text/plain": [
       "#'drafts.sentiment_analysis/time-series-data"
      ]
     },
     "execution_count": 39,
     "metadata": {},
     "output_type": "execute_result"
    }
   ],
   "source": [
    "#_(def time-series-data\n",
    "    (->> average-sentiment-data\n",
    "         (#(vector (map first %) (map second %)))\n",
    "         (#(vector (first %) (second %) (moving-average 30 (second %))))\n",
    "         (apply map vector)\n",
    "         (map #(hash-map :date (str (nth % 0))\n",
    "                         :avg-sentiment (nth % 1)\n",
    "                         :moving-avg (nth % 2)))))\n",
    "\n",
    "#_(def time-series-data\n",
    "    (->> average-sentiment-data\n",
    "         ((juxt keys vals))\n",
    "         ((fn [[dates values]]\n",
    "              [(map str dates) values (moving-average 30 values)]))\n",
    "         (apply map vector)\n",
    "         (map (partial zipmap [:date :avg-sentiment :moving-avg]))))\n",
    "\n",
    "(def time-series-data\n",
    "    (->> average-sentiment-data\n",
    "         (#(vector (keys %)\n",
    "                   (vals %)\n",
    "                   (moving-average 30 (vals %))))\n",
    "         (apply map (fn [date v smoothed-v]\n",
    "                        {:date (str date)\n",
    "                         :avg-sentiment v\n",
    "                         :moving-avg smoothed-v}))))"
   ]
  },
  {
   "cell_type": "code",
   "execution_count": 40,
   "metadata": {},
   "outputs": [
    {
     "name": "stdout",
     "output_type": "stream",
     "text": [
      "\n",
      "|                        :date |         :avg-sentiment |         :moving-avg |\n",
      "|------------------------------+------------------------+---------------------|\n",
      "| Fri Dec 10 02:00:00 IST 1999 |    0.15384195645396806 |                     |\n",
      "| Sat Dec 11 02:00:00 IST 1999 |    0.21958139434803364 |                     |\n",
      "| Sun Dec 12 02:00:00 IST 1999 |    0.08632857033184596 |                     |\n",
      "| Mon Dec 13 02:00:00 IST 1999 |    0.11342400834208508 |                     |\n",
      "| Tue Dec 14 02:00:00 IST 1999 |    0.09556597257824022 |                     |\n",
      "| Wed Dec 15 02:00:00 IST 1999 |    0.11260412064069529 |                     |\n",
      "| Thu Dec 16 02:00:00 IST 1999 |     0.1545073264109946 |                     |\n",
      "| Fri Dec 17 02:00:00 IST 1999 |     0.1889564860387895 |                     |\n",
      "| Sun Dec 19 02:00:00 IST 1999 |     0.1463428994915329 |                     |\n",
      "| Mon Dec 20 02:00:00 IST 1999 |     0.1827259939381497 |                     |\n",
      "| Tue Dec 21 02:00:00 IST 1999 |    0.23931230496760314 |                     |\n",
      "| Wed Dec 22 02:00:00 IST 1999 |    0.19382563663415717 |                     |\n",
      "| Thu Dec 23 02:00:00 IST 1999 |    0.09785311118309317 |                     |\n",
      "| Mon Dec 27 02:00:00 IST 1999 |     0.1263605624510128 |                     |\n",
      "| Tue Dec 28 02:00:00 IST 1999 |     0.0669427622236874 |                     |\n",
      "| Wed Dec 29 02:00:00 IST 1999 |    0.06129179371905232 |                     |\n",
      "| Thu Dec 30 02:00:00 IST 1999 |     0.2168207222888272 |                     |\n",
      "| Fri Dec 31 02:00:00 IST 1999 |     0.2735766629378001 |                     |\n",
      "| Sat Jan 01 02:00:00 IST 2000 |    0.17788999676704406 |                     |\n",
      "| Mon Jan 03 02:00:00 IST 2000 |    0.09984083411594231 |                     |\n",
      "| Tue Jan 04 02:00:00 IST 2000 |    0.17512606859696156 |                     |\n",
      "| Wed Jan 05 02:00:00 IST 2000 |    0.13513715214639865 |                     |\n",
      "| Thu Jan 06 02:00:00 IST 2000 |    0.17525790188217122 |                     |\n",
      "| Fri Jan 07 02:00:00 IST 2000 |    0.11130077424619803 |                     |\n",
      "| Sat Jan 08 02:00:00 IST 2000 |  -0.034433335065841675 |                     |\n",
      "| Sun Jan 09 02:00:00 IST 2000 |     0.0558076910674572 |                     |\n",
      "| Mon Jan 10 02:00:00 IST 2000 |     0.1348895337987772 |                     |\n",
      "| Tue Jan 11 02:00:00 IST 2000 |     0.1481883872082862 |                     |\n",
      "| Wed Jan 12 02:00:00 IST 2000 |    0.15860672041284293 |                     |\n",
      "| Thu Jan 13 02:00:00 IST 2000 |    0.14190468549743795 | 0.14031262318844145 |\n",
      "| Fri Jan 14 02:00:00 IST 2000 |    0.17521041725669678 | 0.14102490521519906 |\n",
      "| Sat Jan 15 02:00:00 IST 2000 |    0.18954976094620568 |  0.1400238507684715 |\n",
      "| Sun Jan 16 02:00:00 IST 2000 |    0.07999444256226222 | 0.13981271317615204 |\n",
      "| Mon Jan 17 02:00:00 IST 2000 |    0.11826174065404174 | 0.13997397091988392 |\n",
      "| Tue Jan 18 02:00:00 IST 2000 |    0.10895463226580457 | 0.14042025957613605 |\n",
      "| Wed Jan 19 02:00:00 IST 2000 |     0.1281895484393721 | 0.14093977383609194 |\n",
      "| Thu Jan 20 02:00:00 IST 2000 |    0.14470303618208374 |  0.1406129641617949 |\n",
      "| Fri Jan 21 02:00:00 IST 2000 |    0.09959431418396877 |  0.1376342250999675 |\n",
      "| Sat Jan 22 02:00:00 IST 2000 |    0.06498591804860177 | 0.13492232571853652 |\n",
      "| Sun Jan 23 02:00:00 IST 2000 |     -0.296999990940094 | 0.11893145955592838 |\n",
      "| Mon Jan 24 02:00:00 IST 2000 |     0.1557799285441729 |  0.1161470470084807 |\n",
      "| Tue Jan 25 02:00:00 IST 2000 |    0.06720696296571312 |  0.1119264245528659 |\n",
      "| Wed Jan 26 02:00:00 IST 2000 |    0.11880520131360478 | 0.11262482755721631 |\n",
      "| Thu Jan 27 02:00:00 IST 2000 |    0.12150810113625775 | 0.11246307884672446 |\n",
      "| Fri Jan 28 02:00:00 IST 2000 |    0.12098753819804559 | 0.11426457137920305 |\n",
      "| Sat Jan 29 02:00:00 IST 2000 |    0.10606666405995686 | 0.11575706705723322 |\n",
      "| Mon Jan 31 02:00:00 IST 2000 |     0.1484276077620052 | 0.11347729657300581 |\n",
      "| Tue Feb 01 02:00:00 IST 2000 |    0.12765618748922644 | 0.10861328072472004 |\n",
      "| Wed Feb 02 02:00:00 IST 2000 |    0.13621909706873964 | 0.10722425073477658 |\n",
      "| Thu Feb 03 02:00:00 IST 2000 |    0.15368660149337832 |  0.1090191096473578 |\n",
      "| Fri Feb 04 02:00:00 IST 2000 |    0.14589076000849177 | 0.10804459936107545 |\n",
      "| Sun Feb 06 02:00:00 IST 2000 |    0.17271737115314373 | 0.10929727332796696 |\n",
      "| Mon Feb 07 02:00:00 IST 2000 |    0.09975886682793651 | 0.10678063882615914 |\n",
      "| Tue Feb 08 02:00:00 IST 2000 |    0.13763228244685213 | 0.10765835576618094 |\n",
      "| Wed Feb 09 02:00:00 IST 2000 |    0.19083267871161083 | 0.11516722289209604 |\n",
      "| Thu Feb 10 02:00:00 IST 2000 |    0.13697218377926346 | 0.11787270598248956 |\n",
      "| Fri Feb 11 02:00:00 IST 2000 |    0.14204726426693337 | 0.11811129699809478 |\n",
      "| Sun Feb 13 02:00:00 IST 2000 |    0.16481005945440494 | 0.11866535273963205 |\n",
      "| Mon Feb 14 02:00:00 IST 2000 |    0.12304355748116023 | 0.11747991397524264 |\n",
      "| Tue Feb 15 02:00:00 IST 2000 |    0.11836899511359168 | 0.11669539096244777 |\n",
      "| Wed Feb 16 02:00:00 IST 2000 |    0.09867112542110774 | 0.11414408123459481 |\n",
      "| Thu Feb 17 02:00:00 IST 2000 |    0.14254900760183317 | 0.11257738945644905 |\n",
      "| Fri Feb 18 02:00:00 IST 2000 |     0.1553450824516436 | 0.11508907745276177 |\n",
      "| Sat Feb 19 02:00:00 IST 2000 |     0.0678818435112517 |  0.1134097475480021 |\n",
      "| Sun Feb 20 02:00:00 IST 2000 |    0.16055000200867653 | 0.11512959320609784 |\n",
      "| Mon Feb 21 02:00:00 IST 2000 |     0.1978428138361716 | 0.11745136871932448 |\n",
      "| Tue Feb 22 02:00:00 IST 2000 |    0.10586505988048332 | 0.11615676950927113 |\n",
      "| Wed Feb 23 02:00:00 IST 2000 |    0.14857505620204325 |  0.1177894609098736 |\n",
      "| Thu Feb 24 02:00:00 IST 2000 |    0.17708191452542457 | 0.12152599412576771 |\n",
      "| Fri Feb 25 02:00:00 IST 2000 |     0.1626993404311211 |  0.1368493051714749 |\n",
      "| Mon Feb 28 02:00:00 IST 2000 |     0.1362129062421101 | 0.13619707109473944 |\n",
      "| Tue Feb 29 02:00:00 IST 2000 |    0.18152582444922766 |  0.1400076998108566 |\n",
      "| Wed Mar 01 02:00:00 IST 2000 |    0.13175598143534104 | 0.14043939248158113 |\n",
      "| Thu Mar 02 02:00:00 IST 2000 |    0.09708518674002278 | 0.13962529533503995 |\n",
      "| Fri Mar 03 02:00:00 IST 2000 |    0.09690629838930076 | 0.13882258734141514 |\n",
      "| Sun Mar 05 02:00:00 IST 2000 |     0.2333407737314701 | 0.14306505766379893 |\n",
      "| Mon Mar 06 02:00:00 IST 2000 |    0.12016641771709811 | 0.14212301799563537 |\n",
      "| Tue Mar 07 02:00:00 IST 2000 |    0.11884446129691836 | 0.14182929378922507 |\n",
      "| Wed Mar 08 02:00:00 IST 2000 |    0.12809409671647295 |  0.1415584604441495 |\n",
      "| Thu Mar 09 02:00:00 IST 2000 |    0.12836883055998685 | 0.14071453474636977 |\n",
      "| Fri Mar 10 02:00:00 IST 2000 |    0.11453685522435536 | 0.13966940458689858 |\n",
      "| Sun Mar 12 02:00:00 IST 2000 |    0.39631249383091927 |  0.1471225753428244 |\n",
      "| Mon Mar 13 02:00:00 IST 2000 |    0.12846327377176428 |  0.1480793889076187 |\n",
      "| Tue Mar 14 02:00:00 IST 2000 |    0.12036573356953914 | 0.14750383727837496 |\n",
      "| Wed Mar 15 02:00:00 IST 2000 |    0.14219899602802827 |  0.1458827145222555 |\n",
      "| Thu Mar 16 02:00:00 IST 2000 |     0.1491765226335165 | 0.14628952581739732 |\n",
      "| Fri Mar 17 02:00:00 IST 2000 |    0.09064469778153536 | 0.14457610693455067 |\n",
      "| Mon Mar 20 02:00:00 IST 2000 |    0.07269806016231124 | 0.14150570695814754 |\n",
      "| Tue Mar 21 02:00:00 IST 2000 |    0.11188378974473774 |  0.1411337147002668 |\n",
      "| Wed Mar 22 02:00:00 IST 2000 |     0.0963802589827815 |  0.1404007568292398 |\n",
      "| Thu Mar 23 02:00:00 IST 2000 |    0.12137649139894288 |  0.1411576023618343 |\n",
      "| Fri Mar 24 02:00:00 IST 2000 |    0.11054565310361227 | 0.14009082387856026 |\n",
      "| Sun Mar 26 02:00:00 IST 2000 |     0.1735639953613281 | 0.14069812097554976 |\n",
      "| Mon Mar 27 02:00:00 IST 2000 |     0.1546648296638631 | 0.14359088718063678 |\n",
      "| Tue Mar 28 02:00:00 IST 2000 |    0.08295913917153054 | 0.14100452508606529 |\n",
      "| Wed Mar 29 02:00:00 IST 2000 |    0.15794837036255466 |  0.1396747103036114 |\n",
      "| Thu Mar 30 02:00:00 IST 2000 |    0.12485321538878118 | 0.14030764882055463 |\n",
      "| Fri Mar 31 02:00:00 IST 2000 |    0.16209041479847158 | 0.14075816077376888 |\n",
      "| Mon Apr 03 02:00:00 IST 2000 |    0.14174005002952145 | 0.13958009862390547 |\n",
      "| Tue Apr 04 02:00:00 IST 2000 |    0.12043773743384951 | 0.13817137852399644 |\n",
      "| Wed Apr 05 02:00:00 IST 2000 |    0.11925295053543955 |  0.1376060466671074 |\n"
     ]
    },
    {
     "name": "stdout",
     "output_type": "stream",
     "text": [
      "| Thu Apr 06 02:00:00 IST 2000 |     0.1104968170418557 |  0.1352384130868617 |\n",
      "| Fri Apr 07 02:00:00 IST 2000 |    0.10843267507310887 | 0.13446096954145395 |\n",
      "| Sat Apr 08 02:00:00 IST 2000 |    0.10700291960717286 | 0.13479156063702563 |\n",
      "| Sun Apr 09 02:00:00 IST 2000 |    0.05770000070333481 | 0.13348468404749342 |\n",
      "| Mon Apr 10 02:00:00 IST 2000 |    0.09728936981720447 | 0.12894963725035125 |\n",
      "| Tue Apr 11 02:00:00 IST 2000 |    0.09709485746215268 | 0.12818058524185305 |\n",
      "| Wed Apr 12 02:00:00 IST 2000 |    0.15329752664108645 |  0.1293290207533253 |\n",
      "| Thu Apr 13 02:00:00 IST 2000 |    0.10193078426778807 | 0.12845691033836915 |\n",
      "| Fri Apr 14 03:00:00 IDT 2000 |    0.15488674319472984 | 0.12934084075952726 |\n",
      "| Sat Apr 15 03:00:00 IDT 2000 |     0.1658858967642499 | 0.13105247547752372 |\n",
      "| Sun Apr 16 03:00:00 IDT 2000 |    0.09026000040272872 | 0.12085072569658405 |\n",
      "| Mon Apr 17 03:00:00 IDT 2000 |     0.1252356682572611 |  0.1207431388461006 |\n",
      "| Tue Apr 18 03:00:00 IDT 2000 |     0.1015686002004698 |  0.1201165677337983 |\n",
      "| Wed Apr 19 03:00:00 IDT 2000 |    0.14923533073469059 | 0.12035111222402037 |\n",
      "| Thu Apr 20 03:00:00 IDT 2000 |    0.10100729929346605 | 0.11874547144601869 |\n",
      "| Fri Apr 21 03:00:00 IDT 2000 |    0.09324685361086231 |  0.1188322099736629 |\n",
      "| Sat Apr 22 03:00:00 IDT 2000 |   -0.09866666793823242 | 0.11312005237031143 |\n",
      "| Mon Apr 24 03:00:00 IDT 2000 |    0.11116070669635038 | 0.11309594960203187 |\n",
      "| Tue Apr 25 03:00:00 IDT 2000 |    0.13508080248015125 | 0.11438596771861084 |\n",
      "| Wed Apr 26 03:00:00 IDT 2000 |    0.14349669015979125 | 0.11512330767730578 |\n",
      "| Thu Apr 27 03:00:00 IDT 2000 |     0.1050224823367379 | 0.11493920198507666 |\n",
      "| Fri Apr 28 03:00:00 IDT 2000 |    0.13593722033796588 |  0.1136849761509646 |\n",
      "| Sun Apr 30 03:00:00 IDT 2000 |   0.012866667161385218 | 0.10895837073421531 |\n",
      "| Mon May 01 03:00:00 IDT 2000 |    0.14706829625556384 | 0.11109534263701644 |\n",
      "| Tue May 02 03:00:00 IDT 2000 |    0.13534325613392018 | 0.11034183882939527 |\n",
      "| Wed May 03 03:00:00 IDT 2000 |    0.09935154705929444 |  0.1094917832184124 |\n",
      "| Thu May 04 03:00:00 IDT 2000 |     0.1565601451346913 | 0.10930744089628637 |\n",
      "| Fri May 05 03:00:00 IDT 2000 |    0.11117316370285432 | 0.10828854468539746 |\n",
      "| Sun May 07 03:00:00 IDT 2000 |    0.09162040660474575 | 0.10732796699109402 |\n",
      "| Mon May 08 03:00:00 IDT 2000 |     0.1588129351018984 | 0.10864663314330933 |\n",
      "| Tue May 09 03:00:00 IDT 2000 |     0.1331880127283496 | 0.10940300633285911 |\n",
      "| Wed May 10 03:00:00 IDT 2000 |     0.1493619066557885 | 0.11076731405228177 |\n",
      "| Thu May 11 03:00:00 IDT 2000 |    0.13639354360375225 |  0.1117470015188344 |\n",
      "| Fri May 12 03:00:00 IDT 2000 |     0.1025238692616256 | 0.11324113047077743 |\n",
      "| Sun May 14 03:00:00 IDT 2000 |   0.004927381740084716 | 0.11016239753487343 |\n",
      "| Mon May 15 03:00:00 IDT 2000 |     0.1225244136341881 | 0.11101004940727463 |\n",
      "| Tue May 16 03:00:00 IDT 2000 |    0.13905050850101847 | 0.11053514880260569 |\n",
      "| Wed May 17 03:00:00 IDT 2000 |      0.109531787878058 |  0.1107885155896147 |\n",
      "| Thu May 18 03:00:00 IDT 2000 |    0.11919990287242822 | 0.10959895424553798 |\n",
      "| Fri May 19 03:00:00 IDT 2000 |    0.16545572547341034 |    0.10958461520251 |\n",
      "| Mon May 22 03:00:00 IDT 2000 |     0.1279290313214347 | 0.11084024956646688 |\n",
      "| Tue May 23 03:00:00 IDT 2000 |    0.10863532931695517 | 0.11028690493512333 |\n",
      "| Wed May 24 03:00:00 IDT 2000 |    0.12204636272205073 | 0.11096949701917604 |\n",
      "| Thu May 25 03:00:00 IDT 2000 |    0.11180434555954148 | 0.10972179751333773 |\n",
      "| Fri May 26 03:00:00 IDT 2000 |    0.12078436889263675 | 0.11038103316664342 |\n",
      "| Sat May 27 03:00:00 IDT 2000 |    0.36833332975705463 | 0.11955058237151651 |\n",
      "| Mon May 29 03:00:00 IDT 2000 |      0.237766665716966 |  0.1307650268266898 |\n",
      "| Tue May 30 03:00:00 IDT 2000 |    0.10661324598483217 | 0.13061344480297252 |\n",
      "| Wed May 31 03:00:00 IDT 2000 |    0.19387286881450885 |  0.1325731803474511 |\n",
      "| Thu Jun 01 03:00:00 IDT 2000 |    0.13064446728412074 | 0.13214477291826213 |\n",
      "| Fri Jun 02 03:00:00 IDT 2000 |    0.16010211342648267 |  0.1339807606212536 |\n",
      "| Sat Jun 03 03:00:00 IDT 2000 |    0.01253050843453301 | 0.12986720355780584 |\n",
      "| Sun Jun 04 03:00:00 IDT 2000 |    0.06021428533962795 | 0.13144545749708061 |\n",
      "| Mon Jun 05 03:00:00 IDT 2000 |    0.10338481624981824 | 0.12998934149688907 |\n",
      "| Tue Jun 06 03:00:00 IDT 2000 |    0.11563059388155718 | 0.12933225275514365 |\n",
      "| Wed Jun 07 03:00:00 IDT 2000 |    0.15806871686112056 | 0.13128949174853785 |\n",
      "| Thu Jun 08 03:00:00 IDT 2000 |    0.13369340090694726 | 0.13052726694094638 |\n",
      "| Fri Jun 09 03:00:00 IDT 2000 |    0.14699446197588917 |  0.1317213102167142 |\n",
      "| Sun Jun 11 03:00:00 IDT 2000 |    0.10832936411339139 | 0.13227827546700238 |\n",
      "| Mon Jun 12 03:00:00 IDT 2000 |    0.10495578728125912 |  0.1304830372063144 |\n",
      "| Tue Jun 13 03:00:00 IDT 2000 |     0.1215316030291938 | 0.13009449021634253 |\n",
      "| Wed Jun 14 03:00:00 IDT 2000 |     0.1682063599185976 |  0.1307226386584362 |\n",
      "| Thu Jun 15 03:00:00 IDT 2000 |    0.09792894936302146 | 0.12944048551707849 |\n",
      "| Fri Jun 16 03:00:00 IDT 2000 |    0.13449587425971993 | 0.13050621901701495 |\n",
      "| Sun Jun 18 03:00:00 IDT 2000 |    0.19817500201364358 | 0.13694780635946693 |\n",
      "| Mon Jun 19 03:00:00 IDT 2000 |    0.10385107460310558 | 0.13632536172509752 |\n",
      "| Tue Jun 20 03:00:00 IDT 2000 |     0.1633273128888807 | 0.13713458853802626 |\n",
      "| Wed Jun 21 03:00:00 IDT 2000 |    0.12144081107362398 | 0.13753155597787844 |\n",
      "| Thu Jun 22 03:00:00 IDT 2000 |     0.1539315181865929 |  0.1386892764883506 |\n",
      "| Fri Jun 23 03:00:00 IDT 2000 |    0.13297178506638052 | 0.13760647847478294 |\n",
      "| Sat Jun 24 03:00:00 IDT 2000 |    0.20032555721700193 | 0.14001969600463518 |\n",
      "| Mon Jun 26 03:00:00 IDT 2000 |    0.09957368571982114 | 0.13971764121806404 |\n",
      "| Tue Jun 27 03:00:00 IDT 2000 |    0.09484485079376241 | 0.13881092415378776 |\n",
      "| Wed Jun 28 03:00:00 IDT 2000 |    0.12938258319605078 | 0.13939686540833807 |\n",
      "| Thu Jun 29 03:00:00 IDT 2000 |     0.1431034233656653 | 0.14014083389077234 |\n",
      "| Fri Jun 30 03:00:00 IDT 2000 |     0.1653673243156341 | 0.13337530037605833 |\n",
      "| Sat Jul 01 03:00:00 IDT 2000 |     0.1789294381291319 | 0.13141405945646384 |\n",
      "| Sun Jul 02 03:00:00 IDT 2000 |    0.18060000240802765 | 0.13388028467057034 |\n",
      "| Mon Jul 03 03:00:00 IDT 2000 |   -0.27320000529289246 | 0.11831118886699034 |\n",
      "| Tue Jul 04 03:00:00 IDT 2000 |      0.084368746727705 | 0.11676866484844314 |\n",
      "| Wed Jul 05 03:00:00 IDT 2000 |     0.0936719772240287 | 0.11455432697502801 |\n",
      "| Thu Jul 06 03:00:00 IDT 2000 |      0.134100237676982 | 0.11860665128310964 |\n",
      "| Fri Jul 07 03:00:00 IDT 2000 |    0.14275805930948635 | 0.12135811041543826 |\n",
      "| Sat Jul 08 03:00:00 IDT 2000 |     0.2024028141351267 | 0.12465871034494855 |\n",
      "| Sun Jul 09 03:00:00 IDT 2000 |    0.11130476272886708 |  0.1245145159731922 |\n",
      "| Mon Jul 10 03:00:00 IDT 2000 |    0.14390636759606543 | 0.12404243766435703 |\n",
      "| Tue Jul 11 03:00:00 IDT 2000 |    0.11687384375059308 | 0.12348178575914523 |\n",
      "| Wed Jul 12 03:00:00 IDT 2000 |    0.10817866558996941 | 0.12218792587961456 |\n",
      "| Thu Jul 13 03:00:00 IDT 2000 |    0.10221876423791873 | 0.12198423921709883 |\n",
      "| Fri Jul 14 03:00:00 IDT 2000 |     0.1307029497756024 | 0.12284247796691027 |\n",
      "| Sat Jul 15 03:00:00 IDT 2000 |     0.1399109053069895 | 0.12345512137617012 |\n",
      "| Sun Jul 16 03:00:00 IDT 2000 |    0.11886666715145111 |  0.1218104649505986 |\n",
      "| Mon Jul 17 03:00:00 IDT 2000 |    0.11891005118754691 | 0.12250983501141609 |\n",
      "| Tue Jul 18 03:00:00 IDT 2000 |    0.11310845886644477 | 0.12179692116497358 |\n",
      "| Wed Jul 19 03:00:00 IDT 2000 |    0.08350414914812804 | 0.11797455940278972 |\n",
      "| Thu Jul 20 03:00:00 IDT 2000 |    0.14323926731512282 | 0.11928749915985697 |\n",
      "| Fri Jul 21 03:00:00 IDT 2000 |    0.10814018992229929 | 0.11744792839430425 |\n",
      "| Sat Jul 22 03:00:00 IDT 2000 |    0.18979999547203383 | 0.11972656787425123 |\n",
      "| Sun Jul 23 03:00:00 IDT 2000 |     0.1737653583575919 | 0.12038769587995123 |\n",
      "| Mon Jul 24 03:00:00 IDT 2000 |    0.12842986438800003 |  0.1202362985240052 |\n",
      "| Tue Jul 25 03:00:00 IDT 2000 |    0.13989017482932642 | 0.11822178577774935 |\n",
      "| Wed Jul 26 03:00:00 IDT 2000 |    0.13839527383826267 | 0.11951583871503074 |\n",
      "| Thu Jul 27 03:00:00 IDT 2000 |     0.1467427697038479 | 0.12124576934536693 |\n"
     ]
    },
    {
     "name": "stdout",
     "output_type": "stream",
     "text": [
      "| Fri Jul 28 03:00:00 IDT 2000 |    0.13275897068050418 | 0.12135831559484872 |\n",
      "| Sat Jul 29 03:00:00 IDT 2000 |    0.10822869499557111 | 0.12019582464917893 |\n",
      "| Sun Jul 30 03:00:00 IDT 2000 |    0.19473081170165332 | 0.12117460756204622 |\n",
      "| Mon Jul 31 03:00:00 IDT 2000 |    0.12699937934423833 | 0.11944360560254977 |\n",
      "| Tue Aug 01 03:00:00 IDT 2000 |     0.1588319608654053 | 0.11871800421779569 |\n",
      "| Wed Aug 02 03:00:00 IDT 2000 |    0.10458932935903309 | 0.13131098203952654 |\n",
      "| Thu Aug 03 03:00:00 IDT 2000 |    0.16316391980982878 | 0.13393748780893067 |\n",
      "| Fri Aug 04 03:00:00 IDT 2000 |    0.12056141964522596 | 0.13483380255630392 |\n",
      "| Sat Aug 05 03:00:00 IDT 2000 |                    0.0 | 0.13036379463373785 |\n",
      "| Sun Aug 06 03:00:00 IDT 2000 |    0.10102102626368013 | 0.12897256019887762 |\n",
      "| Mon Aug 07 03:00:00 IDT 2000 |    0.14645146659825878 | 0.12710751528098202 |\n",
      "| Tue Aug 08 03:00:00 IDT 2000 |    0.17108359610610138 | 0.12910014306022316 |\n",
      "| Wed Aug 09 03:00:00 IDT 2000 |    0.10867101781743113 | 0.12792563140093532 |\n",
      "| Thu Aug 10 03:00:00 IDT 2000 |    0.11992783275175459 |  0.1280274310343074 |\n",
      "| Fri Aug 11 03:00:00 IDT 2000 |    0.11261714746012702 |  0.1281753804299793 |\n",
      "| Sat Aug 12 03:00:00 IDT 2000 |     0.5267000198364258 | 0.14232475561659624 |\n",
      "| Sun Aug 13 03:00:00 IDT 2000 |    0.02584461685777124 |  0.1388294778526685 |\n",
      "| Mon Aug 14 03:00:00 IDT 2000 |    0.10864469420435446 |   0.137787270815914 |\n",
      "| Tue Aug 15 03:00:00 IDT 2000 |    0.09793779003627223 | 0.13708964157874134 |\n",
      "| Wed Aug 16 03:00:00 IDT 2000 |    0.12120798357092617 |   0.137166239324854 |\n",
      "| Thu Aug 17 03:00:00 IDT 2000 |     0.1336432568750259 | 0.13785073259180672 |\n",
      "| Fri Aug 18 03:00:00 IDT 2000 |    0.08611746212789398 |  0.1379378430244656 |\n",
      "| Sat Aug 19 03:00:00 IDT 2000 |    0.09904285573533603 | 0.13646462930513933 |\n",
      "| Sun Aug 20 03:00:00 IDT 2000 |    0.09542648711552222 | 0.13604083921158014 |\n",
      "| Mon Aug 21 03:00:00 IDT 2000 |    0.10087267633396751 | 0.13307659524031126 |\n",
      "| Tue Aug 22 03:00:00 IDT 2000 |    0.11805982275881881 |  0.1312197440536855 |\n",
      "| Wed Aug 23 03:00:00 IDT 2000 |    0.12953242586480504 | 0.13125649610291232 |\n",
      "| Thu Aug 24 03:00:00 IDT 2000 |      0.143757076806834 |  0.1313853928354959 |\n",
      "| Fri Aug 25 03:00:00 IDT 2000 |    0.12701451183682022 |  0.1310060341021145 |\n",
      "| Sat Aug 26 03:00:00 IDT 2000 |     0.1999407151181783 | 0.13277929894925883 |\n",
      "| Sun Aug 27 03:00:00 IDT 2000 |     0.1483450745091294 | 0.13329883574354637 |\n",
      "| Mon Aug 28 03:00:00 IDT 2000 |     0.1186142827482681 |  0.1336450220019696 |\n",
      "| Tue Aug 29 03:00:00 IDT 2000 |    0.13420562644430145 | 0.13162751582672452 |\n",
      "| Wed Aug 30 03:00:00 IDT 2000 |     0.0932593377582359 | 0.13050284777385776 |\n",
      "| Thu Aug 31 03:00:00 IDT 2000 |    0.08992520028374248 |   0.128205955754469 |\n",
      "| Fri Sep 01 03:00:00 IDT 2000 |    0.09573288386873917 |  0.1279107409047925 |\n",
      "| Sat Sep 02 03:00:00 IDT 2000 | -0.0013852459811122039 | 0.12242576871176117 |\n",
      "| Mon Sep 04 03:00:00 IDT 2000 |    0.07714583240449428 | 0.12097858247040344 |\n",
      "| Tue Sep 05 03:00:00 IDT 2000 |    0.08910851149213563 | 0.12394886618680796 |\n",
      "| Wed Sep 06 03:00:00 IDT 2000 |     0.1331946366684856 | 0.12502131986696813 |\n",
      "| Thu Sep 07 03:00:00 IDT 2000 |    0.14144759439851276 |  0.1248545241269766 |\n",
      "| Fri Sep 08 03:00:00 IDT 2000 |    0.10810182605257625 |  0.1227551317918591 |\n",
      "| Sat Sep 09 03:00:00 IDT 2000 |    0.09289999802907307 | 0.12222943113224718 |\n",
      "| Sun Sep 10 03:00:00 IDT 2000 |    0.07784376050185263 |  0.1208266287239171 |\n",
      "| Mon Sep 11 03:00:00 IDT 2000 |    0.13724771836688548 | 0.12164764775414239 |\n",
      "| Tue Sep 12 03:00:00 IDT 2000 |    0.15287730400024993 |  0.1091868905596032 |\n",
      "| Wed Sep 13 03:00:00 IDT 2000 |    0.11917192198143843 | 0.11229780073039211 |\n",
      "| Thu Sep 14 03:00:00 IDT 2000 |    0.08718856975001123 | 0.11158259658191401 |\n",
      "| Fri Sep 15 03:00:00 IDT 2000 |    0.12109236664159953 | 0.11235441580209161 |\n",
      "| Sun Sep 17 03:00:00 IDT 2000 |    0.20895467172672472 |  0.1152793054072849 |\n",
      "| Mon Sep 18 03:00:00 IDT 2000 |    0.11149050809102125 | 0.11454088044781807 |\n",
      "| Tue Sep 19 03:00:00 IDT 2000 |    0.10967429896150717 | 0.11532610834227185 |\n",
      "| Wed Sep 20 03:00:00 IDT 2000 |      0.128530466528547 | 0.11630902870204554 |\n",
      "| Thu Sep 21 03:00:00 IDT 2000 |    0.11297886382139398 | 0.11689410792557459 |\n",
      "| Fri Sep 22 03:00:00 IDT 2000 |     0.1346571660520513 | 0.11802025758284404 |\n",
      "| Sat Sep 23 03:00:00 IDT 2000 |     0.5104499906301498 | 0.13109992984522176 |\n",
      "| Sun Sep 24 03:00:00 IDT 2000 |     0.1065652784374025 | 0.13033435826430834 |\n",
      "| Mon Sep 25 03:00:00 IDT 2000 |    0.14277197370091504 | 0.13030152149411106 |\n",
      "| Tue Sep 26 03:00:00 IDT 2000 |    0.12719319454703312 | 0.13030747758445146 |\n",
      "| Wed Sep 27 03:00:00 IDT 2000 |    0.11450799539782298 |  0.1274597202604396 |\n",
      "| Thu Sep 28 03:00:00 IDT 2000 |    0.12709605374395622 |  0.1267514195682672 |\n",
      "| Fri Sep 29 03:00:00 IDT 2000 |    0.13272200747410054 | 0.12722167705912826 |\n",
      "| Sat Sep 30 03:00:00 IDT 2000 |    -0.0994333333025376 | 0.11943371173423364 |\n",
      "| Sun Oct 01 03:00:00 IDT 2000 |    0.22987708263099194 | 0.12398763656332551 |\n",
      "| Mon Oct 02 03:00:00 IDT 2000 |    0.15800175033124686 | 0.12625685489824232 |\n",
      "| Tue Oct 03 03:00:00 IDT 2000 |     0.1086443254880381 |  0.1266872362855523 |\n",
      "| Wed Oct 04 03:00:00 IDT 2000 |    0.12530322143974126 | 0.13091018519958075 |\n",
      "| Thu Oct 05 03:00:00 IDT 2000 |    0.09012036822755402 | 0.13134266972701605 |\n",
      "| Fri Oct 06 02:00:00 IST 2000 |      0.124094695098597 | 0.13250887584723142 |\n",
      "| Sat Oct 07 02:00:00 IST 2000 |    0.20229999721050262 | 0.13481238786529867 |\n",
      "| Sun Oct 08 02:00:00 IST 2000 |    0.12312500118421725 | 0.13420163475815547 |\n",
      "| Mon Oct 09 02:00:00 IST 2000 |    0.13959266478768104 |   0.135251329382659 |\n",
      "| Tue Oct 10 02:00:00 IST 2000 |    0.13914829034173795 |  0.1367929391264145 |\n",
      "| Wed Oct 11 02:00:00 IST 2000 |    0.10253919615684615 | 0.13761612031491427 |\n",
      "| Thu Oct 12 02:00:00 IST 2000 |     0.1711826290002958 |  0.1387472840026946 |\n",
      "| Fri Oct 13 02:00:00 IST 2000 |     0.1144298015527431 | 0.13746570058777766 |\n",
      "| Sat Oct 14 02:00:00 IST 2000 |    0.06012777920836717 | 0.13549756249534195 |\n",
      "| Sun Oct 15 02:00:00 IST 2000 |    0.04977684631200009 | 0.13425050504740826 |\n",
      "| Mon Oct 16 02:00:00 IST 2000 |    0.14190203129574933 |  0.1349441605358799 |\n",
      "| Tue Oct 17 02:00:00 IST 2000 |    0.13583760645646206 | 0.13250692502687114 |\n",
      "| Wed Oct 18 02:00:00 IST 2000 |    0.16217547575048644 |  0.1341964239488533 |\n",
      "| Thu Oct 19 02:00:00 IST 2000 |      0.122607391187304 | 0.13462752702304656 |\n",
      "| Fri Oct 20 02:00:00 IST 2000 |    0.14144889504308777 | 0.13505814130686458 |\n",
      "| Sat Oct 21 02:00:00 IST 2000 |   -0.00778931687605016 |  0.1310325352836164 |\n",
      "| Sun Oct 22 02:00:00 IST 2000 |    0.06788858624511017 |  0.1288069159567184 |\n",
      "| Mon Oct 23 02:00:00 IST 2000 |    0.16928487392281333 | 0.11743474539980721 |\n",
      "| Tue Oct 24 02:00:00 IST 2000 |    0.14149751105068858 | 0.11859915315358342 |\n",
      "| Wed Oct 25 02:00:00 IST 2000 |    0.12617120041893629 | 0.11804579404418412 |\n",
      "| Thu Oct 26 02:00:00 IST 2000 |    0.13508965744551443 | 0.11830900947413349 |\n",
      "| Fri Oct 27 02:00:00 IST 2000 |     0.0997409819532823 |  0.1178167756926488 |\n",
      "| Sat Oct 28 02:00:00 IST 2000 |    0.15728672869424154 | 0.11882313152432498 |\n",
      "| Sun Oct 29 02:00:00 IST 2000 |    0.15201428093548333 | 0.11946620730637107 |\n",
      "| Mon Oct 30 02:00:00 IST 2000 |    0.12254100400670227 | 0.12686535188334572 |\n",
      "| Tue Oct 31 02:00:00 IST 2000 |    0.10457743721521255 | 0.12268869703615308 |\n",
      "| Wed Nov 01 02:00:00 IST 2000 |    0.09271905694130879 | 0.12051260725648846 |\n",
      "| Thu Nov 02 02:00:00 IST 2000 |    0.13572007855638551 | 0.12141513235876672 |\n",
      "| Fri Nov 03 02:00:00 IST 2000 |    0.15424011019836614 | 0.12237969531738756 |\n",
      "| Sun Nov 05 02:00:00 IST 2000 |     0.1889701196310046 | 0.12567468703083592 |\n",
      "| Mon Nov 06 02:00:00 IST 2000 |    0.13505201865513639 | 0.12603993114938722 |\n",
      "| Tue Nov 07 02:00:00 IST 2000 |    0.10395763226160139 | 0.12276185231775719 |\n",
      "| Wed Nov 08 02:00:00 IST 2000 |     0.1357073041330712 |  0.1231812624160523 |\n",
      "| Thu Nov 09 02:00:00 IST 2000 |    0.17148232751221462 | 0.12424425117353678 |\n",
      "| Fri Nov 10 02:00:00 IST 2000 |    0.11818056362416528 | 0.12354532694961769 |\n"
     ]
    },
    {
     "name": "stdout",
     "output_type": "stream",
     "text": [
      "| Sat Nov 11 02:00:00 IST 2000 |     0.0873250039294362 | 0.12303818720870403 |\n",
      "| Sun Nov 12 02:00:00 IST 2000 |    0.18910613308559707 | 0.12363563734488076 |\n",
      "| Mon Nov 13 02:00:00 IST 2000 |     0.1112335227909459 | 0.12352909471948752 |\n",
      "| Tue Nov 14 02:00:00 IST 2000 |     0.1376937708544332 |  0.1261146277743564 |\n",
      "| Wed Nov 15 02:00:00 IST 2000 |    0.09383530030294854 |   0.127583242907388 |\n",
      "| Thu Nov 16 02:00:00 IST 2000 |    0.10721468965838396 |  0.1264269981861425 |\n",
      "| Fri Nov 17 02:00:00 IST 2000 |    0.10361984235003732 | 0.12535307271592833 |\n",
      "| Sat Nov 18 02:00:00 IST 2000 |   0.035959071853754736 | 0.12114585925270394 |\n",
      "| Sun Nov 19 02:00:00 IST 2000 |    0.21147633125111934 |  0.1241081572548311 |\n",
      "| Mon Nov 20 02:00:00 IST 2000 |    0.12248170510221795 | 0.12347591759013544 |\n",
      "| Tue Nov 21 02:00:00 IST 2000 |    0.12904005622124523 | 0.12803689669337862 |\n",
      "| Wed Nov 22 02:00:00 IST 2000 |       0.13585386088784 |  0.1303024058481363 |\n",
      "| Thu Nov 23 02:00:00 IST 2000 |    0.22020000219345093 | 0.13199957679049085 |\n",
      "| Sat Nov 25 02:00:00 IST 2000 |    0.05140714152228264 | 0.12899656447287733 |\n",
      "| Sun Nov 26 02:00:00 IST 2000 |    0.03528318590662926 | 0.12596696398913376 |\n",
      "| Mon Nov 27 02:00:00 IST 2000 |    0.15107696929794306 |  0.1264998743842147 |\n",
      "| Tue Nov 28 02:00:00 IST 2000 |     0.1384869176262465 |  0.1277914055733135 |\n",
      "| Wed Nov 29 02:00:00 IST 2000 |    0.11146892636059197 |  0.1262641454955252 |\n",
      "| Thu Nov 30 02:00:00 IST 2000 |    0.10070196642552204 | 0.12455373501185983 |\n",
      "| Fri Dec 01 02:00:00 IST 2000 |    0.10742596994650934 | 0.12404990054318674 |\n",
      "| Sat Dec 02 02:00:00 IST 2000 |    0.07706728115392077 | 0.12313289534114366 |\n",
      "| Sun Dec 03 02:00:00 IST 2000 |    0.15992895498595858 | 0.12537322527596534 |\n",
      "| Mon Dec 04 02:00:00 IST 2000 |     0.1151147646287785 | 0.12468638147837845 |\n",
      "| Tue Dec 05 02:00:00 IST 2000 |    0.12752169503129557 | 0.12379576763947608 |\n",
      "| Wed Dec 06 02:00:00 IST 2000 |    0.15551035171902214 | 0.12268044204240999 |\n",
      "| Thu Dec 07 02:00:00 IST 2000 |    0.11159052148956794 | 0.12189839213689105 |\n",
      "| Fri Dec 08 02:00:00 IST 2000 |    0.13890369937061883 | 0.12306326104052495 |\n",
      "| Sat Dec 09 02:00:00 IST 2000 |    0.13440303561676825 | 0.12301978542331486 |\n",
      "| Sun Dec 10 02:00:00 IST 2000 |    0.05629780623267117 |  0.1191803013806634 |\n",
      "| Mon Dec 11 02:00:00 IST 2000 |    0.12416986990000184 | 0.11937994492319129 |\n",
      "| Tue Dec 12 02:00:00 IST 2000 |    0.13141807856010215 | 0.12084971407754681 |\n",
      "| Wed Dec 13 02:00:00 IST 2000 |    0.12456878994589353 | 0.11869846930622335 |\n",
      "| Thu Dec 14 02:00:00 IST 2000 |     0.1283909458711408 | 0.11927038340889652 |\n",
      "| Fri Dec 15 02:00:00 IST 2000 |     0.1147026978239236 | 0.11850401430787955 |\n",
      "| Sun Dec 17 02:00:00 IST 2000 |     0.2410112626814612 | 0.12340987972049662 |\n",
      "| Mon Dec 18 02:00:00 IST 2000 |    0.12155080841636931 | 0.12388775034576281 |\n",
      "| Tue Dec 19 02:00:00 IST 2000 |     0.1382491648732491 | 0.12504206109653654 |\n",
      "| Wed Dec 20 02:00:00 IST 2000 |      0.126669488936177 |  0.1280657416659506 |\n",
      "| Thu Dec 21 02:00:00 IST 2000 |    0.12626844714272323 | 0.12522547886233742 |\n",
      "| Fri Dec 22 02:00:00 IST 2000 |    0.15468665613107377 | 0.12629897722996594 |\n",
      "| Sat Dec 23 02:00:00 IST 2000 |    0.14929999907811484 | 0.12697430865852827 |\n",
      "| Sun Dec 24 02:00:00 IST 2000 |    0.13180624941984811 | 0.12683938827626187 |\n",
      "| Mon Dec 25 02:00:00 IST 2000 |  -0.029821427095504033 | 0.11850534063329671 |\n",
      "| Tue Dec 26 02:00:00 IST 2000 |    0.08976741383473077 | 0.11978401637704497 |\n",
      "| Wed Dec 27 02:00:00 IST 2000 |    0.14519334599370626 | 0.12344768837994753 |\n",
      "| Thu Dec 28 02:00:00 IST 2000 |    0.11937455525987373 | 0.12239094124534522 |\n",
      "| Fri Dec 29 02:00:00 IST 2000 |    0.12186501152060265 | 0.12183687770849043 |\n",
      "| Mon Jan 01 02:00:00 IST 2001 |    0.07146564772941466 | 0.12050343508745118 |\n",
      "| Tue Jan 02 02:00:00 IST 2001 |    0.13664803904282713 | 0.12170163750802802 |\n",
      "| Wed Jan 03 02:00:00 IST 2001 |    0.13041733296171892 | 0.12246801627520167 |\n",
      "| Thu Jan 04 02:00:00 IST 2001 |    0.11580198627045016 | 0.12375917311241932 |\n",
      "| Fri Jan 05 02:00:00 IST 2001 |    0.14861698847674873 | 0.12338210756211233 |\n",
      "| Sun Jan 07 02:00:00 IST 2001 |   -0.07391110807657242 |  0.1170812451386006 |\n",
      "| Mon Jan 08 02:00:00 IST 2001 |    0.15501148949325802 | 0.11799757162066603 |\n",
      "| Tue Jan 09 02:00:00 IST 2001 |    0.11105605824508283 |  0.1165157618382014 |\n",
      "| Wed Jan 10 02:00:00 IST 2001 |    0.11144580197403033 | 0.11651093785435014 |\n",
      "| Thu Jan 11 02:00:00 IST 2001 |    0.12792254594969854 | 0.11614489940698616 |\n",
      "| Fri Jan 12 02:00:00 IST 2001 |    0.14162950458096904 | 0.11638578170579286 |\n",
      "| Sat Jan 13 02:00:00 IST 2001 |    0.18610137236297625 | 0.12071256724346971 |\n",
      "| Sun Jan 14 02:00:00 IST 2001 |    0.15221043295260908 | 0.12164725267855661 |\n",
      "| Mon Jan 15 02:00:00 IST 2001 |     0.1660711231604259 | 0.12280235416523406 |\n",
      "| Tue Jan 16 02:00:00 IST 2001 |    0.16359077154456275 | 0.12410308688518969 |\n",
      "| Wed Jan 17 02:00:00 IST 2001 |    0.11987119663561184 | 0.12381909524400538 |\n",
      "| Thu Jan 18 02:00:00 IST 2001 |    0.10881038723578172 | 0.12362268489106731 |\n",
      "| Fri Jan 19 02:00:00 IST 2001 |    0.13559659848011288 | 0.12010886275102238 |\n",
      "| Sat Jan 20 02:00:00 IST 2001 |     0.1286064555251567 | 0.12034405098798194 |\n",
      "| Sun Jan 21 02:00:00 IST 2001 |                    0.0 | 0.11573574549220697 |\n",
      "| Mon Jan 22 02:00:00 IST 2001 |    0.11841626006680227 | 0.11546063786322781 |\n",
      "| Tue Jan 23 02:00:00 IST 2001 |     0.1443919255109897 |  0.1160647538088367 |\n",
      "| Wed Jan 24 02:00:00 IST 2001 |    0.11648870112395317 | 0.11479148864193268 |\n",
      "| Thu Jan 25 02:00:00 IST 2001 |    0.12032715937480754 |  0.1138257273184891 |\n",
      "| Fri Jan 26 02:00:00 IST 2001 |    0.07030848878761656 | 0.11177580196408136 |\n",
      "| Sun Jan 28 02:00:00 IST 2001 |    0.19515294318690019 | 0.11927494764016151 |\n",
      "| Mon Jan 29 02:00:00 IST 2001 |    0.13446432823607196 | 0.12076484478687291 |\n",
      "| Tue Jan 30 02:00:00 IST 2001 |    0.09391148487622823 |  0.1190554494162903 |\n",
      "| Wed Jan 31 02:00:00 IST 2001 |    0.11364521984260306 | 0.11886447156904796 |\n",
      "| Thu Feb 01 02:00:00 IST 2001 |    0.14025502847192836 | 0.11947747213409214 |\n",
      "| Fri Feb 02 02:00:00 IST 2001 |    0.13790914752888697 | 0.12169225546074122 |\n",
      "| Sat Feb 03 02:00:00 IST 2001 |    0.18817926573729704 | 0.12340996301722355 |\n",
      "| Sun Feb 04 02:00:00 IST 2001 |    0.11270774265733245 | 0.12281964334041066 |\n",
      "| Mon Feb 05 02:00:00 IST 2001 |    0.13899789022989806 | 0.12359284013905893 |\n",
      "| Tue Feb 06 02:00:00 IST 2001 |    0.10685622312753992 | 0.12220081462741865 |\n",
      "| Wed Feb 07 02:00:00 IST 2001 |    0.08790151685284703 | 0.12759456879173262 |\n",
      "| Thu Feb 08 02:00:00 IST 2001 |    0.14928576325633203 | 0.12740371125050176 |\n",
      "| Fri Feb 09 02:00:00 IST 2001 |    0.13980328829777533 |  0.1283619522522582 |\n",
      "| Sat Feb 10 02:00:00 IST 2001 |                    0.0 | 0.12464709218645717 |\n",
      "| Sun Feb 11 02:00:00 IST 2001 |    0.12957074092356144 | 0.12470203201891926 |\n",
      "| Mon Feb 12 02:00:00 IST 2001 |    0.11561837535921163 | 0.12383499437819402 |\n",
      "| Tue Feb 13 02:00:00 IST 2001 |    0.13005782067652524 | 0.12196687598864564 |\n",
      "| Wed Feb 14 02:00:00 IST 2001 |     0.1322733628314142 | 0.12130230698460581 |\n",
      "| Thu Feb 15 02:00:00 IST 2001 |    0.11260840342198823 | 0.11952021632665791 |\n",
      "| Fri Feb 16 02:00:00 IST 2001 |    0.12995009473478294 | 0.11839886043299859 |\n",
      "| Sat Feb 17 02:00:00 IST 2001 |    0.11276540798875649 | 0.11816200081143673 |\n",
      "| Sun Feb 18 02:00:00 IST 2001 |     0.0281132478107754 | 0.11547209616393653 |\n",
      "| Mon Feb 19 02:00:00 IST 2001 |     0.1124357341187051 | 0.11470006735188959 |\n",
      "| Tue Feb 20 02:00:00 IST 2001 |    0.12388129244000605 | 0.11454256191571789 |\n",
      "| Wed Feb 21 02:00:00 IST 2001 |     0.1479148876387265 | 0.11947305817034211 |\n",
      "| Thu Feb 22 02:00:00 IST 2001 |     0.1460591455206313 | 0.12039448768546973 |\n",
      "| Fri Feb 23 02:00:00 IST 2001 |    0.11910917925726656 |  0.1195517294770123 |\n",
      "| Sat Feb 24 02:00:00 IST 2001 |    0.10362473805839721 | 0.11912293070816043 |\n",
      "| Sun Feb 25 02:00:00 IST 2001 |    0.15111506103457492 | 0.12014919409681935 |\n",
      "| Mon Feb 26 02:00:00 IST 2001 |    0.11416174684915893 | 0.12161096936553743 |\n",
      "| Tue Feb 27 02:00:00 IST 2001 |     0.1283063995187056 | 0.11938275124326428 |\n"
     ]
    },
    {
     "name": "stdout",
     "output_type": "stream",
     "text": [
      "| Wed Feb 28 02:00:00 IST 2001 |    0.08935144917265257 | 0.11787898860781695 |\n",
      "| Thu Mar 01 02:00:00 IST 2001 |    0.10292308612025422 | 0.11817937531595116 |\n",
      "| Fri Mar 02 02:00:00 IST 2001 |    0.09171043543317085 | 0.11744821583563674 |\n",
      "| Sat Mar 03 02:00:00 IST 2001 |    0.09647667015586993 | 0.11598893722510148 |\n",
      "| Sun Mar 04 02:00:00 IST 2001 |    0.13288866568291646 | 0.11582158783023579 |\n",
      "| Mon Mar 05 02:00:00 IST 2001 |     0.0851498614543449 |  0.1123872743541374 |\n",
      "| Tue Mar 06 02:00:00 IST 2001 |    0.11438662557056122 | 0.11244323711791168 |\n",
      "| Wed Mar 07 02:00:00 IST 2001 |    0.12505499244794677 |  0.1119784738585133 |\n",
      "| Thu Mar 08 02:00:00 IST 2001 |    0.16252980973260134 |   0.113834260078682 |\n",
      "| Fri Mar 09 02:00:00 IST 2001 |    0.14214159244649754 | 0.11564226259847038 |\n",
      "| Sat Mar 10 02:00:00 IST 2001 |     0.1701032085320005 | 0.11633617744099264 |\n",
      "| Sun Mar 11 02:00:00 IST 2001 | -0.0010857153683900833 | 0.11163987731878713 |\n",
      "| Mon Mar 12 02:00:00 IST 2001 |    0.10673670682701514 |  0.1151977675463543 |\n",
      "| Tue Mar 13 02:00:00 IST 2001 |    0.10816187533736635 | 0.11448413869348116 |\n",
      "| Wed Mar 14 02:00:00 IST 2001 |    0.12148486875544567 | 0.11467968847335562 |\n",
      "| Thu Mar 15 02:00:00 IST 2001 |    0.08977298398463268 | 0.11333686058362585 |\n",
      "| Fri Mar 16 02:00:00 IST 2001 |    0.14810797147891971 | 0.11386468087187605 |\n",
      "| Sat Mar 17 02:00:00 IST 2001 |    0.47116666038831073 | 0.12581662277075345 |\n",
      "| Sun Mar 18 02:00:00 IST 2001 |   0.022981818426739086 | 0.12225101356048533 |\n",
      "| Mon Mar 19 02:00:00 IST 2001 |    0.14250231173893535 | 0.12324224368549132 |\n",
      "| Tue Mar 20 02:00:00 IST 2001 |    0.09017012057804587 | 0.12531080611106699 |\n",
      "| Wed Mar 21 02:00:00 IST 2001 |    0.11852795058791396 | 0.12551387999337396 |\n",
      "| Thu Mar 22 02:00:00 IST 2001 |     0.1179417608196228 | 0.12531589560602782 |\n",
      "| Fri Mar 23 02:00:00 IST 2001 |    0.11871309517397009 | 0.12434250252386929 |\n",
      "| Sat Mar 24 02:00:00 IST 2001 |    0.17648469117260168 | 0.12535668737893496 |\n",
      "| Sun Mar 25 02:00:00 IST 2001 |    0.10851949019656731 |  0.1250036977435783 |\n",
      "| Mon Mar 26 02:00:00 IST 2001 |    0.12875246768372098 |  0.1258412887310891 |\n",
      "| Tue Mar 27 02:00:00 IST 2001 |    0.17832952163316543 | 0.12674843741770878 |\n",
      "| Wed Mar 28 02:00:00 IST 2001 |    0.10283943315728962 | 0.12637102696131314 |\n",
      "| Thu Mar 29 02:00:00 IST 2001 |    0.11186303282711137 |    0.12582291473826 |\n",
      "| Fri Mar 30 02:00:00 IST 2001 |    0.14498010985200463 | 0.12767720342757174 |\n",
      "| Sat Mar 31 02:00:00 IST 2001 |    0.18253479361925692 | 0.13033092701087182 |\n",
      "| Sun Apr 01 02:00:00 IST 2001 |    0.14392144879520075 | 0.13207129412293947 |\n",
      "| Mon Apr 02 02:00:00 IST 2001 |    0.16409751234829015 | 0.13432532219602014 |\n",
      "| Tue Apr 03 02:00:00 IST 2001 |    0.16130308238819605 | 0.13527246941952947 |\n",
      "| Wed Apr 04 02:00:00 IST 2001 |    0.12849404602405626 |  0.1367172755718532 |\n",
      "| Thu Apr 05 02:00:00 IST 2001 |    0.12541047193247828 | 0.13708473711725044 |\n",
      "| Fri Apr 06 02:00:00 IST 2001 |    0.14149101552761972 | 0.13763260455323953 |\n",
      "| Sat Apr 07 02:00:00 IST 2001 |   0.053893518392686496 | 0.13401139484190902 |\n",
      "| Sun Apr 08 02:00:00 IST 2001 |   -0.14562262248780047 |  0.1244192543440991 |\n",
      "| Mon Apr 09 03:00:00 IDT 2001 |    0.11583533546160031 | 0.12261032524175244 |\n",
      "| Tue Apr 10 03:00:00 IDT 2001 |    0.12651702590268896 | 0.12686374995078842 |\n",
      "| Wed Apr 11 03:00:00 IDT 2001 |    0.12284288322933824 | 0.12740062249753253 |\n",
      "| Thu Apr 12 03:00:00 IDT 2001 |    0.13529582984768235 | 0.12830508764787638 |\n",
      "| Fri Apr 13 03:00:00 IDT 2001 |    0.09873862837140358 |   0.127546879635075 |\n",
      "| Sat Apr 14 03:00:00 IDT 2001 |    0.23132500052452087 | 0.13226528018640463 |\n",
      "| Sun Apr 15 03:00:00 IDT 2001 |    0.10336444247325863 | 0.13077382921954922 |\n",
      "| Mon Apr 16 03:00:00 IDT 2001 |    0.13353810362662524 | 0.11951954399415972 |\n",
      "| Tue Apr 17 03:00:00 IDT 2001 |    0.14867596887991824 | 0.12370934900926571 |\n",
      "| Wed Apr 18 03:00:00 IDT 2001 |     0.1517439531557257 | 0.12401740372315871 |\n",
      "| Thu Apr 19 03:00:00 IDT 2001 |    0.15901534761640487 | 0.12631224462443733 |\n",
      "| Fri Apr 20 03:00:00 IDT 2001 |    0.12272935921726348 |   0.126452291578749 |\n",
      "| Sat Apr 21 03:00:00 IDT 2001 |     0.1875211117271748 | 0.12877160327566736 |\n",
      "| Mon Apr 23 03:00:00 IDT 2001 |    0.15367606809549741 | 0.12993703570638493 |\n",
      "| Tue Apr 24 03:00:00 IDT 2001 |     0.1538690321229483 |  0.1291831804047298 |\n",
      "| Wed Apr 25 03:00:00 IDT 2001 |    0.15553618980360107 | 0.13075040372496427 |\n",
      "| Thu Apr 26 03:00:00 IDT 2001 |     0.1435913803650417 | 0.13124503414767494 |\n",
      "| Fri Apr 27 03:00:00 IDT 2001 |    0.08330213389360086 | 0.12807745455635614 |\n",
      "| Sat Apr 28 03:00:00 IDT 2001 |    0.15471333066622414 | 0.12980658447332064 |\n",
      "| Sun Apr 29 03:00:00 IDT 2001 |    0.05394456833268382 | 0.12787596899017306 |\n",
      "| Mon Apr 30 03:00:00 IDT 2001 |    0.14120489889554302 |  0.1277501286249577 |\n",
      "| Tue May 01 03:00:00 IDT 2001 |    0.13052009931513078 |  0.1260163054814868 |\n",
      "| Wed May 02 03:00:00 IDT 2001 |     0.1400852266247992 |  0.1258884314091401 |\n",
      "| Thu May 03 03:00:00 IDT 2001 |     0.1389770219062065 | 0.12505108172773732 |\n",
      "| Fri May 04 03:00:00 IDT 2001 |     0.1359136434078819 | 0.12420476709506015 |\n",
      "| Sat May 05 03:00:00 IDT 2001 |    0.03115236662305313 | 0.12096004444836007 |\n",
      "| Mon May 07 03:00:00 IDT 2001 |     0.1419933033453348 | 0.12151280549545529 |\n",
      "| Tue May 08 03:00:00 IDT 2001 |    0.15751083582783346 | 0.12204679950546239 |\n",
      "| Wed May 09 03:00:00 IDT 2001 |    0.10167717739835568 | 0.12363958813898472 |\n",
      "| Thu May 10 03:00:00 IDT 2001 |      0.115975817224556 |  0.1323595361293966 |\n",
      "| Fri May 11 03:00:00 IDT 2001 |    0.11943629958063982 |  0.1324795682666979 |\n",
      "| Sat May 12 03:00:00 IDT 2001 |    0.20078100068548954 |  0.1349550340927913 |\n",
      "| Sun May 13 03:00:00 IDT 2001 |    0.08779591808830671 | 0.13378680192142356 |\n",
      "| Mon May 14 03:00:00 IDT 2001 |     0.1539783022344369 |   0.134409551000982 |\n",
      "| Tue May 15 03:00:00 IDT 2001 |    0.12038186533449025 | 0.13513099223308492 |\n",
      "| Wed May 16 03:00:00 IDT 2001 |     0.1248738744769487 |  0.1315826213648325 |\n",
      "| Thu May 17 03:00:00 IDT 2001 |     0.0911111115801921 | 0.13117417700173026 |\n",
      "| Fri May 18 03:00:00 IDT 2001 |    0.15272176027963752 | 0.13181363222349735 |\n",
      "| Sun May 20 03:00:00 IDT 2001 |   -0.09866666793823242 | 0.12356887766289232 |\n",
      "| Mon May 21 03:00:00 IDT 2001 |     0.1660929665110175 | 0.12404717810806871 |\n",
      "| Tue May 22 03:00:00 IDT 2001 |    0.09714469269400058 | 0.12198482294398856 |\n",
      "| Wed May 23 03:00:00 IDT 2001 |      0.141670854562159 | 0.12261620612215175 |\n",
      "| Thu May 24 03:00:00 IDT 2001 |    0.16121526271423542 | 0.12173934448838712 |\n",
      "| Fri May 25 03:00:00 IDT 2001 |    0.14365104081509072 | 0.12140517691237354 |\n",
      "| Sat May 26 03:00:00 IDT 2001 |      0.192303701683327 | 0.12268633256438616 |\n",
      "| Mon May 28 03:00:00 IDT 2001 |   0.038482294513186625 | 0.11878453605470568 |\n",
      "| Tue May 29 03:00:00 IDT 2001 |    0.19876120466265654 |  0.1206235301979595 |\n",
      "| Wed May 30 03:00:00 IDT 2001 |    0.16024148206639396 | 0.12318817513705262 |\n",
      "| Thu May 31 03:00:00 IDT 2001 |    0.16037733316364877 | 0.12337697522030008 |\n",
      "| Fri Jun 01 03:00:00 IDT 2001 |     0.1228995838599655 | 0.12567547573787616 |\n",
      "| Sat Jun 02 03:00:00 IDT 2001 |                    0.0 |  0.1209686457746914 |\n",
      "| Sun Jun 03 03:00:00 IDT 2001 |     0.1088638911023736 | 0.12024677216759948 |\n",
      "| Mon Jun 04 03:00:00 IDT 2001 |    0.11776671510815322 | 0.11950282178371129 |\n",
      "| Tue Jun 05 03:00:00 IDT 2001 |    0.16074614555178013 | 0.12022845923856375 |\n",
      "| Wed Jun 06 03:00:00 IDT 2001 |    0.10668554657727082 | 0.11925418934421002 |\n",
      "| Thu Jun 07 03:00:00 IDT 2001 |     0.1020825649228044 | 0.12161852928753507 |\n",
      "| Fri Jun 08 03:00:00 IDT 2001 |    0.16476666430632272 | 0.12237764131956799 |\n",
      "| Mon Jun 11 03:00:00 IDT 2001 |   -0.03700000047683716 | 0.11589394677607896 |\n",
      "| Tue Jun 12 03:00:00 IDT 2001 |    0.21970718253869564 | 0.11982828028075697 |\n",
      "| Wed Jun 13 03:00:00 IDT 2001 |                    0.0 | 0.11596241970660513 |\n",
      "| Thu Jun 14 03:00:00 IDT 2001 |                    0.0 |  0.1119812097205838 |\n",
      "| Fri Jun 15 03:00:00 IDT 2001 |    0.07224000096321107 | 0.10769650972984118 |\n",
      "| Mon Jun 18 03:00:00 IDT 2001 |    0.14867904231189938 | 0.10972594720396094 |\n"
     ]
    },
    {
     "name": "stdout",
     "output_type": "stream",
     "text": [
      "| Tue Jun 19 03:00:00 IDT 2001 |    0.27711249451256464 | 0.11383042027989852 |\n",
      "| Fri Jun 22 03:00:00 IDT 2001 |    0.18745310035528112 | 0.11606612811392489 |\n",
      "| Sun Jun 24 03:00:00 IDT 2001 |    0.17196257918974056 | 0.11763575160435129 |\n",
      "| Mon Jun 25 03:00:00 IDT 2001 |    0.17262966614527006 | 0.12035303675652056 |\n",
      "| Tue Jun 26 03:00:00 IDT 2001 |    0.16614375188946723 | 0.12080043647684822 |\n",
      "| Wed Jun 27 03:00:00 IDT 2001 |    0.15508818226781756 | 0.12925893148371653 |\n",
      "| Thu Jun 28 03:00:00 IDT 2001 |  -0.021562501788139343 | 0.12300374920707798 |\n",
      "| Mon Jul 02 03:00:00 IDT 2001 |     0.3955333350847165 | 0.13295003728676852 |\n",
      "| Tue Jul 03 03:00:00 IDT 2001 |    -0.1509000062942505 | 0.12319767525822153 |\n",
      "| Fri Jul 06 03:00:00 IDT 2001 |    0.08617272973060608 | 0.12069625749210054 |\n",
      "| Thu Jul 19 03:00:00 IDT 2001 |   -0.03288888931274414 | 0.11481159315450608 |\n",
      "| Tue Aug 14 03:00:00 IDT 2001 |    0.05822500213980675 | 0.11034230316972206 |\n",
      "| Thu Aug 16 03:00:00 IDT 2001 |  -0.036244442065556846 | 0.10785141195043058 |\n",
      "| Thu Aug 23 03:00:00 IDT 2001 |    -0.1426888902982076 | 0.09646974211840179 |\n",
      "| Mon Aug 27 03:00:00 IDT 2001 |    0.09194999933242798 | 0.09419335936060293 |\n",
      "| Fri Aug 31 03:00:00 IDT 2001 |   6.936382163654706E-4 |  0.0888705695290268 |\n",
      "| Fri Sep 07 03:00:00 IDT 2001 |    0.06116281831875825 | 0.08681267734431988 |\n",
      "| Mon Sep 10 03:00:00 IDT 2001 |    0.04209333111842473 |  0.0882157883816007 |\n",
      "| Mon Sep 17 03:00:00 IDT 2001 |     0.2638150031900122 | 0.09338082545118867 |\n",
      "| Tue Sep 18 03:00:00 IDT 2001 |     0.2448516694207986 | 0.09761699059494353 |\n",
      "| Wed Sep 19 03:00:00 IDT 2001 |    0.20893157940161855 | 0.09922317172327147 |\n",
      "| Fri Sep 21 03:00:00 IDT 2001 |    0.12036823560209836 | 0.09967926135743241 |\n",
      "| Wed Sep 26 02:00:00 IST 2001 |   0.021285005046157875 |  0.0969860093615442 |\n",
      "| Fri Sep 28 02:00:00 IST 2001 |    0.15917142799922399 |  0.0967995014846409 |\n",
      "| Tue Oct 09 02:00:00 IST 2001 |    0.09204444537560146 | 0.10110098301305552 |\n",
      "| Thu Oct 11 02:00:00 IST 2001 |  -0.010473333299160004 | 0.09342829915179365 |\n",
      "| Fri Oct 12 02:00:00 IST 2001 |    0.11010000109672546 | 0.09709829918835117 |\n",
      "| Mon Oct 15 02:00:00 IST 2001 |    0.31667856659208027 | 0.10765425140808718 |\n",
      "| Fri Oct 19 02:00:00 IST 2001 |    0.18201052711198204 | 0.11131326894637955 |\n",
      "| Thu Nov 01 02:00:00 IST 2001 |     0.0661816520243883 | 0.10856335593679584 |\n",
      "| Fri Nov 02 02:00:00 IST 2001 |   0.059303391339338346 | 0.10130305249768831 |\n",
      "| Wed Nov 21 02:00:00 IST 2001 |    0.08864242244850505 | 0.09800936323412908 |\n",
      "| Mon Nov 26 02:00:00 IST 2001 |  -0.013354062843017087 |  0.0918321418330372 |\n",
      "| Tue Nov 27 02:00:00 IST 2001 |  -0.058069233710949235 | 0.08414217850449654 |\n",
      "| Fri Jun 28 03:00:00 IDT 2002 |    0.12351428610937935 | 0.08272119631182696 |\n",
      "| Tue Jul 02 03:00:00 IDT 2002 |    0.10502500087022781 | 0.08105242359857395 |\n",
      "| Wed Jul 03 03:00:00 IDT 2002 |    0.14193388803137671 | 0.08650230325922449 |\n",
      "| Fri Jul 05 03:00:00 IDT 2002 |    0.10393725421425759 | 0.07678243389687586 |\n",
      "| Mon Jul 08 03:00:00 IDT 2002 |    0.03411296230775338 |   0.082949532850276 |\n",
      "| Tue Jul 09 03:00:00 IDT 2002 |    -0.0417642838484238 | 0.07868496573097498 |\n",
      "| Wed Jul 10 03:00:00 IDT 2002 |  -7.416683559616395E-4 | 0.07975653976286773 |\n",
      "| Thu Jul 11 03:00:00 IDT 2002 |  -0.014141663908958439 | 0.07734431756124223 |\n",
      "| Fri Jul 12 03:00:00 IDT 2002 |   -0.17583124712109566 | 0.07269142405939093 |\n"
     ]
    },
    {
     "data": {
      "text/plain": [
       "nil"
      ]
     },
     "execution_count": 40,
     "metadata": {},
     "output_type": "execute_result"
    }
   ],
   "source": [
    "#_time-series-data\n",
    "(print-table time-series-data)"
   ]
  },
  {
   "cell_type": "code",
   "execution_count": 41,
   "metadata": {
    "lines_to_next_cell": 0
   },
   "outputs": [
    {
     "data": {
      "text/html": [
       "\n",
       "<div>\n",
       "  <div id='uuid-d353cb78-2401-4138-a27e-d49df856c8f1'></div>\n",
       "  <script>\n",
       "  requirejs.config({\n",
       "    baseUrl: 'https://cdn.jsdelivr.net/npm/',\n",
       "    paths: {\n",
       "      'vega-embed':  'vega-embed@3?noext',\n",
       "      'vega-lib': 'vega-lib?noext',\n",
       "      'vega-lite': 'vega-lite@2?noext',\n",
       "      'vega': 'vega@3?noext'\n",
       "    }\n",
       "  });\n",
       "  require(['vega-embed'], function(vegaEmbed) {\n",
       "    let spec = {\"width\":600,\"height\":600,\"data\":{\"values\":[{\"date\":\"Fri Dec 10 02:00:00 IST 1999\",\"avg-sentiment\":0.15384195645396806,\"moving-avg\":null},{\"date\":\"Sat Dec 11 02:00:00 IST 1999\",\"avg-sentiment\":0.21958139434803364,\"moving-avg\":null},{\"date\":\"Sun Dec 12 02:00:00 IST 1999\",\"avg-sentiment\":0.08632857033184596,\"moving-avg\":null},{\"date\":\"Mon Dec 13 02:00:00 IST 1999\",\"avg-sentiment\":0.11342400834208508,\"moving-avg\":null},{\"date\":\"Tue Dec 14 02:00:00 IST 1999\",\"avg-sentiment\":0.09556597257824022,\"moving-avg\":null},{\"date\":\"Wed Dec 15 02:00:00 IST 1999\",\"avg-sentiment\":0.11260412064069529,\"moving-avg\":null},{\"date\":\"Thu Dec 16 02:00:00 IST 1999\",\"avg-sentiment\":0.1545073264109946,\"moving-avg\":null},{\"date\":\"Fri Dec 17 02:00:00 IST 1999\",\"avg-sentiment\":0.1889564860387895,\"moving-avg\":null},{\"date\":\"Sun Dec 19 02:00:00 IST 1999\",\"avg-sentiment\":0.1463428994915329,\"moving-avg\":null},{\"date\":\"Mon Dec 20 02:00:00 IST 1999\",\"avg-sentiment\":0.1827259939381497,\"moving-avg\":null},{\"date\":\"Tue Dec 21 02:00:00 IST 1999\",\"avg-sentiment\":0.23931230496760314,\"moving-avg\":null},{\"date\":\"Wed Dec 22 02:00:00 IST 1999\",\"avg-sentiment\":0.19382563663415717,\"moving-avg\":null},{\"date\":\"Thu Dec 23 02:00:00 IST 1999\",\"avg-sentiment\":0.09785311118309317,\"moving-avg\":null},{\"date\":\"Mon Dec 27 02:00:00 IST 1999\",\"avg-sentiment\":0.1263605624510128,\"moving-avg\":null},{\"date\":\"Tue Dec 28 02:00:00 IST 1999\",\"avg-sentiment\":0.0669427622236874,\"moving-avg\":null},{\"date\":\"Wed Dec 29 02:00:00 IST 1999\",\"avg-sentiment\":0.06129179371905232,\"moving-avg\":null},{\"date\":\"Thu Dec 30 02:00:00 IST 1999\",\"avg-sentiment\":0.2168207222888272,\"moving-avg\":null},{\"date\":\"Fri Dec 31 02:00:00 IST 1999\",\"avg-sentiment\":0.2735766629378001,\"moving-avg\":null},{\"date\":\"Sat Jan 01 02:00:00 IST 2000\",\"avg-sentiment\":0.17788999676704406,\"moving-avg\":null},{\"date\":\"Mon Jan 03 02:00:00 IST 2000\",\"avg-sentiment\":0.09984083411594231,\"moving-avg\":null},{\"date\":\"Tue Jan 04 02:00:00 IST 2000\",\"avg-sentiment\":0.17512606859696156,\"moving-avg\":null},{\"date\":\"Wed Jan 05 02:00:00 IST 2000\",\"avg-sentiment\":0.13513715214639865,\"moving-avg\":null},{\"date\":\"Thu Jan 06 02:00:00 IST 2000\",\"avg-sentiment\":0.17525790188217122,\"moving-avg\":null},{\"date\":\"Fri Jan 07 02:00:00 IST 2000\",\"avg-sentiment\":0.11130077424619803,\"moving-avg\":null},{\"date\":\"Sat Jan 08 02:00:00 IST 2000\",\"avg-sentiment\":-0.034433335065841675,\"moving-avg\":null},{\"date\":\"Sun Jan 09 02:00:00 IST 2000\",\"avg-sentiment\":0.0558076910674572,\"moving-avg\":null},{\"date\":\"Mon Jan 10 02:00:00 IST 2000\",\"avg-sentiment\":0.1348895337987772,\"moving-avg\":null},{\"date\":\"Tue Jan 11 02:00:00 IST 2000\",\"avg-sentiment\":0.1481883872082862,\"moving-avg\":null},{\"date\":\"Wed Jan 12 02:00:00 IST 2000\",\"avg-sentiment\":0.15860672041284293,\"moving-avg\":null},{\"date\":\"Thu Jan 13 02:00:00 IST 2000\",\"avg-sentiment\":0.14190468549743795,\"moving-avg\":0.14031262318844145},{\"date\":\"Fri Jan 14 02:00:00 IST 2000\",\"avg-sentiment\":0.17521041725669678,\"moving-avg\":0.14102490521519906},{\"date\":\"Sat Jan 15 02:00:00 IST 2000\",\"avg-sentiment\":0.18954976094620568,\"moving-avg\":0.1400238507684715},{\"date\":\"Sun Jan 16 02:00:00 IST 2000\",\"avg-sentiment\":0.07999444256226222,\"moving-avg\":0.13981271317615204},{\"date\":\"Mon Jan 17 02:00:00 IST 2000\",\"avg-sentiment\":0.11826174065404174,\"moving-avg\":0.13997397091988392},{\"date\":\"Tue Jan 18 02:00:00 IST 2000\",\"avg-sentiment\":0.10895463226580457,\"moving-avg\":0.14042025957613605},{\"date\":\"Wed Jan 19 02:00:00 IST 2000\",\"avg-sentiment\":0.1281895484393721,\"moving-avg\":0.14093977383609194},{\"date\":\"Thu Jan 20 02:00:00 IST 2000\",\"avg-sentiment\":0.14470303618208374,\"moving-avg\":0.1406129641617949},{\"date\":\"Fri Jan 21 02:00:00 IST 2000\",\"avg-sentiment\":0.09959431418396877,\"moving-avg\":0.1376342250999675},{\"date\":\"Sat Jan 22 02:00:00 IST 2000\",\"avg-sentiment\":0.06498591804860177,\"moving-avg\":0.13492232571853652},{\"date\":\"Sun Jan 23 02:00:00 IST 2000\",\"avg-sentiment\":-0.296999990940094,\"moving-avg\":0.11893145955592838},{\"date\":\"Mon Jan 24 02:00:00 IST 2000\",\"avg-sentiment\":0.1557799285441729,\"moving-avg\":0.1161470470084807},{\"date\":\"Tue Jan 25 02:00:00 IST 2000\",\"avg-sentiment\":0.06720696296571312,\"moving-avg\":0.1119264245528659},{\"date\":\"Wed Jan 26 02:00:00 IST 2000\",\"avg-sentiment\":0.11880520131360478,\"moving-avg\":0.11262482755721631},{\"date\":\"Thu Jan 27 02:00:00 IST 2000\",\"avg-sentiment\":0.12150810113625775,\"moving-avg\":0.11246307884672446},{\"date\":\"Fri Jan 28 02:00:00 IST 2000\",\"avg-sentiment\":0.12098753819804559,\"moving-avg\":0.11426457137920305},{\"date\":\"Sat Jan 29 02:00:00 IST 2000\",\"avg-sentiment\":0.10606666405995686,\"moving-avg\":0.11575706705723322},{\"date\":\"Mon Jan 31 02:00:00 IST 2000\",\"avg-sentiment\":0.1484276077620052,\"moving-avg\":0.11347729657300581},{\"date\":\"Tue Feb 01 02:00:00 IST 2000\",\"avg-sentiment\":0.12765618748922644,\"moving-avg\":0.10861328072472004},{\"date\":\"Wed Feb 02 02:00:00 IST 2000\",\"avg-sentiment\":0.13621909706873964,\"moving-avg\":0.10722425073477658},{\"date\":\"Thu Feb 03 02:00:00 IST 2000\",\"avg-sentiment\":0.15368660149337832,\"moving-avg\":0.1090191096473578},{\"date\":\"Fri Feb 04 02:00:00 IST 2000\",\"avg-sentiment\":0.14589076000849177,\"moving-avg\":0.10804459936107545},{\"date\":\"Sun Feb 06 02:00:00 IST 2000\",\"avg-sentiment\":0.17271737115314373,\"moving-avg\":0.10929727332796696},{\"date\":\"Mon Feb 07 02:00:00 IST 2000\",\"avg-sentiment\":0.09975886682793651,\"moving-avg\":0.10678063882615914},{\"date\":\"Tue Feb 08 02:00:00 IST 2000\",\"avg-sentiment\":0.13763228244685213,\"moving-avg\":0.10765835576618094},{\"date\":\"Wed Feb 09 02:00:00 IST 2000\",\"avg-sentiment\":0.19083267871161083,\"moving-avg\":0.11516722289209604},{\"date\":\"Thu Feb 10 02:00:00 IST 2000\",\"avg-sentiment\":0.13697218377926346,\"moving-avg\":0.11787270598248956},{\"date\":\"Fri Feb 11 02:00:00 IST 2000\",\"avg-sentiment\":0.14204726426693337,\"moving-avg\":0.11811129699809478},{\"date\":\"Sun Feb 13 02:00:00 IST 2000\",\"avg-sentiment\":0.16481005945440494,\"moving-avg\":0.11866535273963205},{\"date\":\"Mon Feb 14 02:00:00 IST 2000\",\"avg-sentiment\":0.12304355748116023,\"moving-avg\":0.11747991397524264},{\"date\":\"Tue Feb 15 02:00:00 IST 2000\",\"avg-sentiment\":0.11836899511359168,\"moving-avg\":0.11669539096244777},{\"date\":\"Wed Feb 16 02:00:00 IST 2000\",\"avg-sentiment\":0.09867112542110774,\"moving-avg\":0.11414408123459481},{\"date\":\"Thu Feb 17 02:00:00 IST 2000\",\"avg-sentiment\":0.14254900760183317,\"moving-avg\":0.11257738945644905},{\"date\":\"Fri Feb 18 02:00:00 IST 2000\",\"avg-sentiment\":0.1553450824516436,\"moving-avg\":0.11508907745276177},{\"date\":\"Sat Feb 19 02:00:00 IST 2000\",\"avg-sentiment\":0.0678818435112517,\"moving-avg\":0.1134097475480021},{\"date\":\"Sun Feb 20 02:00:00 IST 2000\",\"avg-sentiment\":0.16055000200867653,\"moving-avg\":0.11512959320609784},{\"date\":\"Mon Feb 21 02:00:00 IST 2000\",\"avg-sentiment\":0.1978428138361716,\"moving-avg\":0.11745136871932448},{\"date\":\"Tue Feb 22 02:00:00 IST 2000\",\"avg-sentiment\":0.10586505988048332,\"moving-avg\":0.11615676950927113},{\"date\":\"Wed Feb 23 02:00:00 IST 2000\",\"avg-sentiment\":0.14857505620204325,\"moving-avg\":0.1177894609098736},{\"date\":\"Thu Feb 24 02:00:00 IST 2000\",\"avg-sentiment\":0.17708191452542457,\"moving-avg\":0.12152599412576771},{\"date\":\"Fri Feb 25 02:00:00 IST 2000\",\"avg-sentiment\":0.1626993404311211,\"moving-avg\":0.1368493051714749},{\"date\":\"Mon Feb 28 02:00:00 IST 2000\",\"avg-sentiment\":0.1362129062421101,\"moving-avg\":0.13619707109473944},{\"date\":\"Tue Feb 29 02:00:00 IST 2000\",\"avg-sentiment\":0.18152582444922766,\"moving-avg\":0.1400076998108566},{\"date\":\"Wed Mar 01 02:00:00 IST 2000\",\"avg-sentiment\":0.13175598143534104,\"moving-avg\":0.14043939248158113},{\"date\":\"Thu Mar 02 02:00:00 IST 2000\",\"avg-sentiment\":0.09708518674002278,\"moving-avg\":0.13962529533503995},{\"date\":\"Fri Mar 03 02:00:00 IST 2000\",\"avg-sentiment\":0.09690629838930076,\"moving-avg\":0.13882258734141514},{\"date\":\"Sun Mar 05 02:00:00 IST 2000\",\"avg-sentiment\":0.2333407737314701,\"moving-avg\":0.14306505766379893},{\"date\":\"Mon Mar 06 02:00:00 IST 2000\",\"avg-sentiment\":0.12016641771709811,\"moving-avg\":0.14212301799563537},{\"date\":\"Tue Mar 07 02:00:00 IST 2000\",\"avg-sentiment\":0.11884446129691836,\"moving-avg\":0.14182929378922507},{\"date\":\"Wed Mar 08 02:00:00 IST 2000\",\"avg-sentiment\":0.12809409671647295,\"moving-avg\":0.1415584604441495},{\"date\":\"Thu Mar 09 02:00:00 IST 2000\",\"avg-sentiment\":0.12836883055998685,\"moving-avg\":0.14071453474636977},{\"date\":\"Fri Mar 10 02:00:00 IST 2000\",\"avg-sentiment\":0.11453685522435536,\"moving-avg\":0.13966940458689858},{\"date\":\"Sun Mar 12 02:00:00 IST 2000\",\"avg-sentiment\":0.39631249383091927,\"moving-avg\":0.1471225753428244},{\"date\":\"Mon Mar 13 02:00:00 IST 2000\",\"avg-sentiment\":0.12846327377176428,\"moving-avg\":0.1480793889076187},{\"date\":\"Tue Mar 14 02:00:00 IST 2000\",\"avg-sentiment\":0.12036573356953914,\"moving-avg\":0.14750383727837496},{\"date\":\"Wed Mar 15 02:00:00 IST 2000\",\"avg-sentiment\":0.14219899602802827,\"moving-avg\":0.1458827145222555},{\"date\":\"Thu Mar 16 02:00:00 IST 2000\",\"avg-sentiment\":0.1491765226335165,\"moving-avg\":0.14628952581739732},{\"date\":\"Fri Mar 17 02:00:00 IST 2000\",\"avg-sentiment\":0.09064469778153536,\"moving-avg\":0.14457610693455067},{\"date\":\"Mon Mar 20 02:00:00 IST 2000\",\"avg-sentiment\":0.07269806016231124,\"moving-avg\":0.14150570695814754},{\"date\":\"Tue Mar 21 02:00:00 IST 2000\",\"avg-sentiment\":0.11188378974473774,\"moving-avg\":0.1411337147002668},{\"date\":\"Wed Mar 22 02:00:00 IST 2000\",\"avg-sentiment\":0.0963802589827815,\"moving-avg\":0.1404007568292398},{\"date\":\"Thu Mar 23 02:00:00 IST 2000\",\"avg-sentiment\":0.12137649139894288,\"moving-avg\":0.1411576023618343},{\"date\":\"Fri Mar 24 02:00:00 IST 2000\",\"avg-sentiment\":0.11054565310361227,\"moving-avg\":0.14009082387856026},{\"date\":\"Sun Mar 26 02:00:00 IST 2000\",\"avg-sentiment\":0.1735639953613281,\"moving-avg\":0.14069812097554976},{\"date\":\"Mon Mar 27 02:00:00 IST 2000\",\"avg-sentiment\":0.1546648296638631,\"moving-avg\":0.14359088718063678},{\"date\":\"Tue Mar 28 02:00:00 IST 2000\",\"avg-sentiment\":0.08295913917153054,\"moving-avg\":0.14100452508606529},{\"date\":\"Wed Mar 29 02:00:00 IST 2000\",\"avg-sentiment\":0.15794837036255466,\"moving-avg\":0.1396747103036114},{\"date\":\"Thu Mar 30 02:00:00 IST 2000\",\"avg-sentiment\":0.12485321538878118,\"moving-avg\":0.14030764882055463},{\"date\":\"Fri Mar 31 02:00:00 IST 2000\",\"avg-sentiment\":0.16209041479847158,\"moving-avg\":0.14075816077376888},{\"date\":\"Mon Apr 03 02:00:00 IST 2000\",\"avg-sentiment\":0.14174005002952145,\"moving-avg\":0.13958009862390547},{\"date\":\"Tue Apr 04 02:00:00 IST 2000\",\"avg-sentiment\":0.12043773743384951,\"moving-avg\":0.13817137852399644},{\"date\":\"Wed Apr 05 02:00:00 IST 2000\",\"avg-sentiment\":0.11925295053543955,\"moving-avg\":0.1376060466671074},{\"date\":\"Thu Apr 06 02:00:00 IST 2000\",\"avg-sentiment\":0.1104968170418557,\"moving-avg\":0.1352384130868617},{\"date\":\"Fri Apr 07 02:00:00 IST 2000\",\"avg-sentiment\":0.10843267507310887,\"moving-avg\":0.13446096954145395},{\"date\":\"Sat Apr 08 02:00:00 IST 2000\",\"avg-sentiment\":0.10700291960717286,\"moving-avg\":0.13479156063702563},{\"date\":\"Sun Apr 09 02:00:00 IST 2000\",\"avg-sentiment\":0.05770000070333481,\"moving-avg\":0.13348468404749342},{\"date\":\"Mon Apr 10 02:00:00 IST 2000\",\"avg-sentiment\":0.09728936981720447,\"moving-avg\":0.12894963725035125},{\"date\":\"Tue Apr 11 02:00:00 IST 2000\",\"avg-sentiment\":0.09709485746215268,\"moving-avg\":0.12818058524185305},{\"date\":\"Wed Apr 12 02:00:00 IST 2000\",\"avg-sentiment\":0.15329752664108645,\"moving-avg\":0.1293290207533253},{\"date\":\"Thu Apr 13 02:00:00 IST 2000\",\"avg-sentiment\":0.10193078426778807,\"moving-avg\":0.12845691033836915},{\"date\":\"Fri Apr 14 03:00:00 IDT 2000\",\"avg-sentiment\":0.15488674319472984,\"moving-avg\":0.12934084075952726},{\"date\":\"Sat Apr 15 03:00:00 IDT 2000\",\"avg-sentiment\":0.1658858967642499,\"moving-avg\":0.13105247547752372},{\"date\":\"Sun Apr 16 03:00:00 IDT 2000\",\"avg-sentiment\":0.09026000040272872,\"moving-avg\":0.12085072569658405},{\"date\":\"Mon Apr 17 03:00:00 IDT 2000\",\"avg-sentiment\":0.1252356682572611,\"moving-avg\":0.1207431388461006},{\"date\":\"Tue Apr 18 03:00:00 IDT 2000\",\"avg-sentiment\":0.1015686002004698,\"moving-avg\":0.1201165677337983},{\"date\":\"Wed Apr 19 03:00:00 IDT 2000\",\"avg-sentiment\":0.14923533073469059,\"moving-avg\":0.12035111222402037},{\"date\":\"Thu Apr 20 03:00:00 IDT 2000\",\"avg-sentiment\":0.10100729929346605,\"moving-avg\":0.11874547144601869},{\"date\":\"Fri Apr 21 03:00:00 IDT 2000\",\"avg-sentiment\":0.09324685361086231,\"moving-avg\":0.1188322099736629},{\"date\":\"Sat Apr 22 03:00:00 IDT 2000\",\"avg-sentiment\":-0.09866666793823242,\"moving-avg\":0.11312005237031143},{\"date\":\"Mon Apr 24 03:00:00 IDT 2000\",\"avg-sentiment\":0.11116070669635038,\"moving-avg\":0.11309594960203187},{\"date\":\"Tue Apr 25 03:00:00 IDT 2000\",\"avg-sentiment\":0.13508080248015125,\"moving-avg\":0.11438596771861084},{\"date\":\"Wed Apr 26 03:00:00 IDT 2000\",\"avg-sentiment\":0.14349669015979125,\"moving-avg\":0.11512330767730578},{\"date\":\"Thu Apr 27 03:00:00 IDT 2000\",\"avg-sentiment\":0.1050224823367379,\"moving-avg\":0.11493920198507666},{\"date\":\"Fri Apr 28 03:00:00 IDT 2000\",\"avg-sentiment\":0.13593722033796588,\"moving-avg\":0.1136849761509646},{\"date\":\"Sun Apr 30 03:00:00 IDT 2000\",\"avg-sentiment\":0.012866667161385218,\"moving-avg\":0.10895837073421531},{\"date\":\"Mon May 01 03:00:00 IDT 2000\",\"avg-sentiment\":0.14706829625556384,\"moving-avg\":0.11109534263701644},{\"date\":\"Tue May 02 03:00:00 IDT 2000\",\"avg-sentiment\":0.13534325613392018,\"moving-avg\":0.11034183882939527},{\"date\":\"Wed May 03 03:00:00 IDT 2000\",\"avg-sentiment\":0.09935154705929444,\"moving-avg\":0.1094917832184124},{\"date\":\"Thu May 04 03:00:00 IDT 2000\",\"avg-sentiment\":0.1565601451346913,\"moving-avg\":0.10930744089628637},{\"date\":\"Fri May 05 03:00:00 IDT 2000\",\"avg-sentiment\":0.11117316370285432,\"moving-avg\":0.10828854468539746},{\"date\":\"Sun May 07 03:00:00 IDT 2000\",\"avg-sentiment\":0.09162040660474575,\"moving-avg\":0.10732796699109402},{\"date\":\"Mon May 08 03:00:00 IDT 2000\",\"avg-sentiment\":0.1588129351018984,\"moving-avg\":0.10864663314330933},{\"date\":\"Tue May 09 03:00:00 IDT 2000\",\"avg-sentiment\":0.1331880127283496,\"moving-avg\":0.10940300633285911},{\"date\":\"Wed May 10 03:00:00 IDT 2000\",\"avg-sentiment\":0.1493619066557885,\"moving-avg\":0.11076731405228177},{\"date\":\"Thu May 11 03:00:00 IDT 2000\",\"avg-sentiment\":0.13639354360375225,\"moving-avg\":0.1117470015188344},{\"date\":\"Fri May 12 03:00:00 IDT 2000\",\"avg-sentiment\":0.1025238692616256,\"moving-avg\":0.11324113047077743},{\"date\":\"Sun May 14 03:00:00 IDT 2000\",\"avg-sentiment\":0.004927381740084716,\"moving-avg\":0.11016239753487343},{\"date\":\"Mon May 15 03:00:00 IDT 2000\",\"avg-sentiment\":0.1225244136341881,\"moving-avg\":0.11101004940727463},{\"date\":\"Tue May 16 03:00:00 IDT 2000\",\"avg-sentiment\":0.13905050850101847,\"moving-avg\":0.11053514880260569},{\"date\":\"Wed May 17 03:00:00 IDT 2000\",\"avg-sentiment\":0.109531787878058,\"moving-avg\":0.1107885155896147},{\"date\":\"Thu May 18 03:00:00 IDT 2000\",\"avg-sentiment\":0.11919990287242822,\"moving-avg\":0.10959895424553798},{\"date\":\"Fri May 19 03:00:00 IDT 2000\",\"avg-sentiment\":0.16545572547341034,\"moving-avg\":0.10958461520251},{\"date\":\"Mon May 22 03:00:00 IDT 2000\",\"avg-sentiment\":0.1279290313214347,\"moving-avg\":0.11084024956646688},{\"date\":\"Tue May 23 03:00:00 IDT 2000\",\"avg-sentiment\":0.10863532931695517,\"moving-avg\":0.11028690493512333},{\"date\":\"Wed May 24 03:00:00 IDT 2000\",\"avg-sentiment\":0.12204636272205073,\"moving-avg\":0.11096949701917604},{\"date\":\"Thu May 25 03:00:00 IDT 2000\",\"avg-sentiment\":0.11180434555954148,\"moving-avg\":0.10972179751333773},{\"date\":\"Fri May 26 03:00:00 IDT 2000\",\"avg-sentiment\":0.12078436889263675,\"moving-avg\":0.11038103316664342},{\"date\":\"Sat May 27 03:00:00 IDT 2000\",\"avg-sentiment\":0.36833332975705463,\"moving-avg\":0.11955058237151651},{\"date\":\"Mon May 29 03:00:00 IDT 2000\",\"avg-sentiment\":0.237766665716966,\"moving-avg\":0.1307650268266898},{\"date\":\"Tue May 30 03:00:00 IDT 2000\",\"avg-sentiment\":0.10661324598483217,\"moving-avg\":0.13061344480297252},{\"date\":\"Wed May 31 03:00:00 IDT 2000\",\"avg-sentiment\":0.19387286881450885,\"moving-avg\":0.1325731803474511},{\"date\":\"Thu Jun 01 03:00:00 IDT 2000\",\"avg-sentiment\":0.13064446728412074,\"moving-avg\":0.13214477291826213},{\"date\":\"Fri Jun 02 03:00:00 IDT 2000\",\"avg-sentiment\":0.16010211342648267,\"moving-avg\":0.1339807606212536},{\"date\":\"Sat Jun 03 03:00:00 IDT 2000\",\"avg-sentiment\":0.01253050843453301,\"moving-avg\":0.12986720355780584},{\"date\":\"Sun Jun 04 03:00:00 IDT 2000\",\"avg-sentiment\":0.06021428533962795,\"moving-avg\":0.13144545749708061},{\"date\":\"Mon Jun 05 03:00:00 IDT 2000\",\"avg-sentiment\":0.10338481624981824,\"moving-avg\":0.12998934149688907},{\"date\":\"Tue Jun 06 03:00:00 IDT 2000\",\"avg-sentiment\":0.11563059388155718,\"moving-avg\":0.12933225275514365},{\"date\":\"Wed Jun 07 03:00:00 IDT 2000\",\"avg-sentiment\":0.15806871686112056,\"moving-avg\":0.13128949174853785},{\"date\":\"Thu Jun 08 03:00:00 IDT 2000\",\"avg-sentiment\":0.13369340090694726,\"moving-avg\":0.13052726694094638},{\"date\":\"Fri Jun 09 03:00:00 IDT 2000\",\"avg-sentiment\":0.14699446197588917,\"moving-avg\":0.1317213102167142},{\"date\":\"Sun Jun 11 03:00:00 IDT 2000\",\"avg-sentiment\":0.10832936411339139,\"moving-avg\":0.13227827546700238},{\"date\":\"Mon Jun 12 03:00:00 IDT 2000\",\"avg-sentiment\":0.10495578728125912,\"moving-avg\":0.1304830372063144},{\"date\":\"Tue Jun 13 03:00:00 IDT 2000\",\"avg-sentiment\":0.1215316030291938,\"moving-avg\":0.13009449021634253},{\"date\":\"Wed Jun 14 03:00:00 IDT 2000\",\"avg-sentiment\":0.1682063599185976,\"moving-avg\":0.1307226386584362},{\"date\":\"Thu Jun 15 03:00:00 IDT 2000\",\"avg-sentiment\":0.09792894936302146,\"moving-avg\":0.12944048551707849},{\"date\":\"Fri Jun 16 03:00:00 IDT 2000\",\"avg-sentiment\":0.13449587425971993,\"moving-avg\":0.13050621901701495},{\"date\":\"Sun Jun 18 03:00:00 IDT 2000\",\"avg-sentiment\":0.19817500201364358,\"moving-avg\":0.13694780635946693},{\"date\":\"Mon Jun 19 03:00:00 IDT 2000\",\"avg-sentiment\":0.10385107460310558,\"moving-avg\":0.13632536172509752},{\"date\":\"Tue Jun 20 03:00:00 IDT 2000\",\"avg-sentiment\":0.1633273128888807,\"moving-avg\":0.13713458853802626},{\"date\":\"Wed Jun 21 03:00:00 IDT 2000\",\"avg-sentiment\":0.12144081107362398,\"moving-avg\":0.13753155597787844},{\"date\":\"Thu Jun 22 03:00:00 IDT 2000\",\"avg-sentiment\":0.1539315181865929,\"moving-avg\":0.1386892764883506},{\"date\":\"Fri Jun 23 03:00:00 IDT 2000\",\"avg-sentiment\":0.13297178506638052,\"moving-avg\":0.13760647847478294},{\"date\":\"Sat Jun 24 03:00:00 IDT 2000\",\"avg-sentiment\":0.20032555721700193,\"moving-avg\":0.14001969600463518},{\"date\":\"Mon Jun 26 03:00:00 IDT 2000\",\"avg-sentiment\":0.09957368571982114,\"moving-avg\":0.13971764121806404},{\"date\":\"Tue Jun 27 03:00:00 IDT 2000\",\"avg-sentiment\":0.09484485079376241,\"moving-avg\":0.13881092415378776},{\"date\":\"Wed Jun 28 03:00:00 IDT 2000\",\"avg-sentiment\":0.12938258319605078,\"moving-avg\":0.13939686540833807},{\"date\":\"Thu Jun 29 03:00:00 IDT 2000\",\"avg-sentiment\":0.1431034233656653,\"moving-avg\":0.14014083389077234},{\"date\":\"Fri Jun 30 03:00:00 IDT 2000\",\"avg-sentiment\":0.1653673243156341,\"moving-avg\":0.13337530037605833},{\"date\":\"Sat Jul 01 03:00:00 IDT 2000\",\"avg-sentiment\":0.1789294381291319,\"moving-avg\":0.13141405945646384},{\"date\":\"Sun Jul 02 03:00:00 IDT 2000\",\"avg-sentiment\":0.18060000240802765,\"moving-avg\":0.13388028467057034},{\"date\":\"Mon Jul 03 03:00:00 IDT 2000\",\"avg-sentiment\":-0.27320000529289246,\"moving-avg\":0.11831118886699034},{\"date\":\"Tue Jul 04 03:00:00 IDT 2000\",\"avg-sentiment\":0.084368746727705,\"moving-avg\":0.11676866484844314},{\"date\":\"Wed Jul 05 03:00:00 IDT 2000\",\"avg-sentiment\":0.0936719772240287,\"moving-avg\":0.11455432697502801},{\"date\":\"Thu Jul 06 03:00:00 IDT 2000\",\"avg-sentiment\":0.134100237676982,\"moving-avg\":0.11860665128310964},{\"date\":\"Fri Jul 07 03:00:00 IDT 2000\",\"avg-sentiment\":0.14275805930948635,\"moving-avg\":0.12135811041543826},{\"date\":\"Sat Jul 08 03:00:00 IDT 2000\",\"avg-sentiment\":0.2024028141351267,\"moving-avg\":0.12465871034494855},{\"date\":\"Sun Jul 09 03:00:00 IDT 2000\",\"avg-sentiment\":0.11130476272886708,\"moving-avg\":0.1245145159731922},{\"date\":\"Mon Jul 10 03:00:00 IDT 2000\",\"avg-sentiment\":0.14390636759606543,\"moving-avg\":0.12404243766435703},{\"date\":\"Tue Jul 11 03:00:00 IDT 2000\",\"avg-sentiment\":0.11687384375059308,\"moving-avg\":0.12348178575914523},{\"date\":\"Wed Jul 12 03:00:00 IDT 2000\",\"avg-sentiment\":0.10817866558996941,\"moving-avg\":0.12218792587961456},{\"date\":\"Thu Jul 13 03:00:00 IDT 2000\",\"avg-sentiment\":0.10221876423791873,\"moving-avg\":0.12198423921709883},{\"date\":\"Fri Jul 14 03:00:00 IDT 2000\",\"avg-sentiment\":0.1307029497756024,\"moving-avg\":0.12284247796691027},{\"date\":\"Sat Jul 15 03:00:00 IDT 2000\",\"avg-sentiment\":0.1399109053069895,\"moving-avg\":0.12345512137617012},{\"date\":\"Sun Jul 16 03:00:00 IDT 2000\",\"avg-sentiment\":0.11886666715145111,\"moving-avg\":0.1218104649505986},{\"date\":\"Mon Jul 17 03:00:00 IDT 2000\",\"avg-sentiment\":0.11891005118754691,\"moving-avg\":0.12250983501141609},{\"date\":\"Tue Jul 18 03:00:00 IDT 2000\",\"avg-sentiment\":0.11310845886644477,\"moving-avg\":0.12179692116497358},{\"date\":\"Wed Jul 19 03:00:00 IDT 2000\",\"avg-sentiment\":0.08350414914812804,\"moving-avg\":0.11797455940278972},{\"date\":\"Thu Jul 20 03:00:00 IDT 2000\",\"avg-sentiment\":0.14323926731512282,\"moving-avg\":0.11928749915985697},{\"date\":\"Fri Jul 21 03:00:00 IDT 2000\",\"avg-sentiment\":0.10814018992229929,\"moving-avg\":0.11744792839430425},{\"date\":\"Sat Jul 22 03:00:00 IDT 2000\",\"avg-sentiment\":0.18979999547203383,\"moving-avg\":0.11972656787425123},{\"date\":\"Sun Jul 23 03:00:00 IDT 2000\",\"avg-sentiment\":0.1737653583575919,\"moving-avg\":0.12038769587995123},{\"date\":\"Mon Jul 24 03:00:00 IDT 2000\",\"avg-sentiment\":0.12842986438800003,\"moving-avg\":0.1202362985240052},{\"date\":\"Tue Jul 25 03:00:00 IDT 2000\",\"avg-sentiment\":0.13989017482932642,\"moving-avg\":0.11822178577774935},{\"date\":\"Wed Jul 26 03:00:00 IDT 2000\",\"avg-sentiment\":0.13839527383826267,\"moving-avg\":0.11951583871503074},{\"date\":\"Thu Jul 27 03:00:00 IDT 2000\",\"avg-sentiment\":0.1467427697038479,\"moving-avg\":0.12124576934536693},{\"date\":\"Fri Jul 28 03:00:00 IDT 2000\",\"avg-sentiment\":0.13275897068050418,\"moving-avg\":0.12135831559484872},{\"date\":\"Sat Jul 29 03:00:00 IDT 2000\",\"avg-sentiment\":0.10822869499557111,\"moving-avg\":0.12019582464917893},{\"date\":\"Sun Jul 30 03:00:00 IDT 2000\",\"avg-sentiment\":0.19473081170165332,\"moving-avg\":0.12117460756204622},{\"date\":\"Mon Jul 31 03:00:00 IDT 2000\",\"avg-sentiment\":0.12699937934423833,\"moving-avg\":0.11944360560254977},{\"date\":\"Tue Aug 01 03:00:00 IDT 2000\",\"avg-sentiment\":0.1588319608654053,\"moving-avg\":0.11871800421779569},{\"date\":\"Wed Aug 02 03:00:00 IDT 2000\",\"avg-sentiment\":0.10458932935903309,\"moving-avg\":0.13131098203952654},{\"date\":\"Thu Aug 03 03:00:00 IDT 2000\",\"avg-sentiment\":0.16316391980982878,\"moving-avg\":0.13393748780893067},{\"date\":\"Fri Aug 04 03:00:00 IDT 2000\",\"avg-sentiment\":0.12056141964522596,\"moving-avg\":0.13483380255630392},{\"date\":\"Sat Aug 05 03:00:00 IDT 2000\",\"avg-sentiment\":0.0,\"moving-avg\":0.13036379463373785},{\"date\":\"Sun Aug 06 03:00:00 IDT 2000\",\"avg-sentiment\":0.10102102626368013,\"moving-avg\":0.12897256019887762},{\"date\":\"Mon Aug 07 03:00:00 IDT 2000\",\"avg-sentiment\":0.14645146659825878,\"moving-avg\":0.12710751528098202},{\"date\":\"Tue Aug 08 03:00:00 IDT 2000\",\"avg-sentiment\":0.17108359610610138,\"moving-avg\":0.12910014306022316},{\"date\":\"Wed Aug 09 03:00:00 IDT 2000\",\"avg-sentiment\":0.10867101781743113,\"moving-avg\":0.12792563140093532},{\"date\":\"Thu Aug 10 03:00:00 IDT 2000\",\"avg-sentiment\":0.11992783275175459,\"moving-avg\":0.1280274310343074},{\"date\":\"Fri Aug 11 03:00:00 IDT 2000\",\"avg-sentiment\":0.11261714746012702,\"moving-avg\":0.1281753804299793},{\"date\":\"Sat Aug 12 03:00:00 IDT 2000\",\"avg-sentiment\":0.5267000198364258,\"moving-avg\":0.14232475561659624},{\"date\":\"Sun Aug 13 03:00:00 IDT 2000\",\"avg-sentiment\":0.02584461685777124,\"moving-avg\":0.1388294778526685},{\"date\":\"Mon Aug 14 03:00:00 IDT 2000\",\"avg-sentiment\":0.10864469420435446,\"moving-avg\":0.137787270815914},{\"date\":\"Tue Aug 15 03:00:00 IDT 2000\",\"avg-sentiment\":0.09793779003627223,\"moving-avg\":0.13708964157874134},{\"date\":\"Wed Aug 16 03:00:00 IDT 2000\",\"avg-sentiment\":0.12120798357092617,\"moving-avg\":0.137166239324854},{\"date\":\"Thu Aug 17 03:00:00 IDT 2000\",\"avg-sentiment\":0.1336432568750259,\"moving-avg\":0.13785073259180672},{\"date\":\"Fri Aug 18 03:00:00 IDT 2000\",\"avg-sentiment\":0.08611746212789398,\"moving-avg\":0.1379378430244656},{\"date\":\"Sat Aug 19 03:00:00 IDT 2000\",\"avg-sentiment\":0.09904285573533603,\"moving-avg\":0.13646462930513933},{\"date\":\"Sun Aug 20 03:00:00 IDT 2000\",\"avg-sentiment\":0.09542648711552222,\"moving-avg\":0.13604083921158014},{\"date\":\"Mon Aug 21 03:00:00 IDT 2000\",\"avg-sentiment\":0.10087267633396751,\"moving-avg\":0.13307659524031126},{\"date\":\"Tue Aug 22 03:00:00 IDT 2000\",\"avg-sentiment\":0.11805982275881881,\"moving-avg\":0.1312197440536855},{\"date\":\"Wed Aug 23 03:00:00 IDT 2000\",\"avg-sentiment\":0.12953242586480504,\"moving-avg\":0.13125649610291232},{\"date\":\"Thu Aug 24 03:00:00 IDT 2000\",\"avg-sentiment\":0.143757076806834,\"moving-avg\":0.1313853928354959},{\"date\":\"Fri Aug 25 03:00:00 IDT 2000\",\"avg-sentiment\":0.12701451183682022,\"moving-avg\":0.1310060341021145},{\"date\":\"Sat Aug 26 03:00:00 IDT 2000\",\"avg-sentiment\":0.1999407151181783,\"moving-avg\":0.13277929894925883},{\"date\":\"Sun Aug 27 03:00:00 IDT 2000\",\"avg-sentiment\":0.1483450745091294,\"moving-avg\":0.13329883574354637},{\"date\":\"Mon Aug 28 03:00:00 IDT 2000\",\"avg-sentiment\":0.1186142827482681,\"moving-avg\":0.1336450220019696},{\"date\":\"Tue Aug 29 03:00:00 IDT 2000\",\"avg-sentiment\":0.13420562644430145,\"moving-avg\":0.13162751582672452},{\"date\":\"Wed Aug 30 03:00:00 IDT 2000\",\"avg-sentiment\":0.0932593377582359,\"moving-avg\":0.13050284777385776},{\"date\":\"Thu Aug 31 03:00:00 IDT 2000\",\"avg-sentiment\":0.08992520028374248,\"moving-avg\":0.128205955754469},{\"date\":\"Fri Sep 01 03:00:00 IDT 2000\",\"avg-sentiment\":0.09573288386873917,\"moving-avg\":0.1279107409047925},{\"date\":\"Sat Sep 02 03:00:00 IDT 2000\",\"avg-sentiment\":-0.0013852459811122039,\"moving-avg\":0.12242576871176117},{\"date\":\"Mon Sep 04 03:00:00 IDT 2000\",\"avg-sentiment\":0.07714583240449428,\"moving-avg\":0.12097858247040344},{\"date\":\"Tue Sep 05 03:00:00 IDT 2000\",\"avg-sentiment\":0.08910851149213563,\"moving-avg\":0.12394886618680796},{\"date\":\"Wed Sep 06 03:00:00 IDT 2000\",\"avg-sentiment\":0.1331946366684856,\"moving-avg\":0.12502131986696813},{\"date\":\"Thu Sep 07 03:00:00 IDT 2000\",\"avg-sentiment\":0.14144759439851276,\"moving-avg\":0.1248545241269766},{\"date\":\"Fri Sep 08 03:00:00 IDT 2000\",\"avg-sentiment\":0.10810182605257625,\"moving-avg\":0.1227551317918591},{\"date\":\"Sat Sep 09 03:00:00 IDT 2000\",\"avg-sentiment\":0.09289999802907307,\"moving-avg\":0.12222943113224718},{\"date\":\"Sun Sep 10 03:00:00 IDT 2000\",\"avg-sentiment\":0.07784376050185263,\"moving-avg\":0.1208266287239171},{\"date\":\"Mon Sep 11 03:00:00 IDT 2000\",\"avg-sentiment\":0.13724771836688548,\"moving-avg\":0.12164764775414239},{\"date\":\"Tue Sep 12 03:00:00 IDT 2000\",\"avg-sentiment\":0.15287730400024993,\"moving-avg\":0.1091868905596032},{\"date\":\"Wed Sep 13 03:00:00 IDT 2000\",\"avg-sentiment\":0.11917192198143843,\"moving-avg\":0.11229780073039211},{\"date\":\"Thu Sep 14 03:00:00 IDT 2000\",\"avg-sentiment\":0.08718856975001123,\"moving-avg\":0.11158259658191401},{\"date\":\"Fri Sep 15 03:00:00 IDT 2000\",\"avg-sentiment\":0.12109236664159953,\"moving-avg\":0.11235441580209161},{\"date\":\"Sun Sep 17 03:00:00 IDT 2000\",\"avg-sentiment\":0.20895467172672472,\"moving-avg\":0.1152793054072849},{\"date\":\"Mon Sep 18 03:00:00 IDT 2000\",\"avg-sentiment\":0.11149050809102125,\"moving-avg\":0.11454088044781807},{\"date\":\"Tue Sep 19 03:00:00 IDT 2000\",\"avg-sentiment\":0.10967429896150717,\"moving-avg\":0.11532610834227185},{\"date\":\"Wed Sep 20 03:00:00 IDT 2000\",\"avg-sentiment\":0.128530466528547,\"moving-avg\":0.11630902870204554},{\"date\":\"Thu Sep 21 03:00:00 IDT 2000\",\"avg-sentiment\":0.11297886382139398,\"moving-avg\":0.11689410792557459},{\"date\":\"Fri Sep 22 03:00:00 IDT 2000\",\"avg-sentiment\":0.1346571660520513,\"moving-avg\":0.11802025758284404},{\"date\":\"Sat Sep 23 03:00:00 IDT 2000\",\"avg-sentiment\":0.5104499906301498,\"moving-avg\":0.13109992984522176},{\"date\":\"Sun Sep 24 03:00:00 IDT 2000\",\"avg-sentiment\":0.1065652784374025,\"moving-avg\":0.13033435826430834},{\"date\":\"Mon Sep 25 03:00:00 IDT 2000\",\"avg-sentiment\":0.14277197370091504,\"moving-avg\":0.13030152149411106},{\"date\":\"Tue Sep 26 03:00:00 IDT 2000\",\"avg-sentiment\":0.12719319454703312,\"moving-avg\":0.13030747758445146},{\"date\":\"Wed Sep 27 03:00:00 IDT 2000\",\"avg-sentiment\":0.11450799539782298,\"moving-avg\":0.1274597202604396},{\"date\":\"Thu Sep 28 03:00:00 IDT 2000\",\"avg-sentiment\":0.12709605374395622,\"moving-avg\":0.1267514195682672},{\"date\":\"Fri Sep 29 03:00:00 IDT 2000\",\"avg-sentiment\":0.13272200747410054,\"moving-avg\":0.12722167705912826},{\"date\":\"Sat Sep 30 03:00:00 IDT 2000\",\"avg-sentiment\":-0.0994333333025376,\"moving-avg\":0.11943371173423364},{\"date\":\"Sun Oct 01 03:00:00 IDT 2000\",\"avg-sentiment\":0.22987708263099194,\"moving-avg\":0.12398763656332551},{\"date\":\"Mon Oct 02 03:00:00 IDT 2000\",\"avg-sentiment\":0.15800175033124686,\"moving-avg\":0.12625685489824232},{\"date\":\"Tue Oct 03 03:00:00 IDT 2000\",\"avg-sentiment\":0.1086443254880381,\"moving-avg\":0.1266872362855523},{\"date\":\"Wed Oct 04 03:00:00 IDT 2000\",\"avg-sentiment\":0.12530322143974126,\"moving-avg\":0.13091018519958075},{\"date\":\"Thu Oct 05 03:00:00 IDT 2000\",\"avg-sentiment\":0.09012036822755402,\"moving-avg\":0.13134266972701605},{\"date\":\"Fri Oct 06 02:00:00 IST 2000\",\"avg-sentiment\":0.124094695098597,\"moving-avg\":0.13250887584723142},{\"date\":\"Sat Oct 07 02:00:00 IST 2000\",\"avg-sentiment\":0.20229999721050262,\"moving-avg\":0.13481238786529867},{\"date\":\"Sun Oct 08 02:00:00 IST 2000\",\"avg-sentiment\":0.12312500118421725,\"moving-avg\":0.13420163475815547},{\"date\":\"Mon Oct 09 02:00:00 IST 2000\",\"avg-sentiment\":0.13959266478768104,\"moving-avg\":0.135251329382659},{\"date\":\"Tue Oct 10 02:00:00 IST 2000\",\"avg-sentiment\":0.13914829034173795,\"moving-avg\":0.1367929391264145},{\"date\":\"Wed Oct 11 02:00:00 IST 2000\",\"avg-sentiment\":0.10253919615684615,\"moving-avg\":0.13761612031491427},{\"date\":\"Thu Oct 12 02:00:00 IST 2000\",\"avg-sentiment\":0.1711826290002958,\"moving-avg\":0.1387472840026946},{\"date\":\"Fri Oct 13 02:00:00 IST 2000\",\"avg-sentiment\":0.1144298015527431,\"moving-avg\":0.13746570058777766},{\"date\":\"Sat Oct 14 02:00:00 IST 2000\",\"avg-sentiment\":0.06012777920836717,\"moving-avg\":0.13549756249534195},{\"date\":\"Sun Oct 15 02:00:00 IST 2000\",\"avg-sentiment\":0.04977684631200009,\"moving-avg\":0.13425050504740826},{\"date\":\"Mon Oct 16 02:00:00 IST 2000\",\"avg-sentiment\":0.14190203129574933,\"moving-avg\":0.1349441605358799},{\"date\":\"Tue Oct 17 02:00:00 IST 2000\",\"avg-sentiment\":0.13583760645646206,\"moving-avg\":0.13250692502687114},{\"date\":\"Wed Oct 18 02:00:00 IST 2000\",\"avg-sentiment\":0.16217547575048644,\"moving-avg\":0.1341964239488533},{\"date\":\"Thu Oct 19 02:00:00 IST 2000\",\"avg-sentiment\":0.122607391187304,\"moving-avg\":0.13462752702304656},{\"date\":\"Fri Oct 20 02:00:00 IST 2000\",\"avg-sentiment\":0.14144889504308777,\"moving-avg\":0.13505814130686458},{\"date\":\"Sat Oct 21 02:00:00 IST 2000\",\"avg-sentiment\":-0.00778931687605016,\"moving-avg\":0.1310325352836164},{\"date\":\"Sun Oct 22 02:00:00 IST 2000\",\"avg-sentiment\":0.06788858624511017,\"moving-avg\":0.1288069159567184},{\"date\":\"Mon Oct 23 02:00:00 IST 2000\",\"avg-sentiment\":0.16928487392281333,\"moving-avg\":0.11743474539980721},{\"date\":\"Tue Oct 24 02:00:00 IST 2000\",\"avg-sentiment\":0.14149751105068858,\"moving-avg\":0.11859915315358342},{\"date\":\"Wed Oct 25 02:00:00 IST 2000\",\"avg-sentiment\":0.12617120041893629,\"moving-avg\":0.11804579404418412},{\"date\":\"Thu Oct 26 02:00:00 IST 2000\",\"avg-sentiment\":0.13508965744551443,\"moving-avg\":0.11830900947413349},{\"date\":\"Fri Oct 27 02:00:00 IST 2000\",\"avg-sentiment\":0.0997409819532823,\"moving-avg\":0.1178167756926488},{\"date\":\"Sat Oct 28 02:00:00 IST 2000\",\"avg-sentiment\":0.15728672869424154,\"moving-avg\":0.11882313152432498},{\"date\":\"Sun Oct 29 02:00:00 IST 2000\",\"avg-sentiment\":0.15201428093548333,\"moving-avg\":0.11946620730637107},{\"date\":\"Mon Oct 30 02:00:00 IST 2000\",\"avg-sentiment\":0.12254100400670227,\"moving-avg\":0.12686535188334572},{\"date\":\"Tue Oct 31 02:00:00 IST 2000\",\"avg-sentiment\":0.10457743721521255,\"moving-avg\":0.12268869703615308},{\"date\":\"Wed Nov 01 02:00:00 IST 2000\",\"avg-sentiment\":0.09271905694130879,\"moving-avg\":0.12051260725648846},{\"date\":\"Thu Nov 02 02:00:00 IST 2000\",\"avg-sentiment\":0.13572007855638551,\"moving-avg\":0.12141513235876672},{\"date\":\"Fri Nov 03 02:00:00 IST 2000\",\"avg-sentiment\":0.15424011019836614,\"moving-avg\":0.12237969531738756},{\"date\":\"Sun Nov 05 02:00:00 IST 2000\",\"avg-sentiment\":0.1889701196310046,\"moving-avg\":0.12567468703083592},{\"date\":\"Mon Nov 06 02:00:00 IST 2000\",\"avg-sentiment\":0.13505201865513639,\"moving-avg\":0.12603993114938722},{\"date\":\"Tue Nov 07 02:00:00 IST 2000\",\"avg-sentiment\":0.10395763226160139,\"moving-avg\":0.12276185231775719},{\"date\":\"Wed Nov 08 02:00:00 IST 2000\",\"avg-sentiment\":0.1357073041330712,\"moving-avg\":0.1231812624160523},{\"date\":\"Thu Nov 09 02:00:00 IST 2000\",\"avg-sentiment\":0.17148232751221462,\"moving-avg\":0.12424425117353678},{\"date\":\"Fri Nov 10 02:00:00 IST 2000\",\"avg-sentiment\":0.11818056362416528,\"moving-avg\":0.12354532694961769},{\"date\":\"Sat Nov 11 02:00:00 IST 2000\",\"avg-sentiment\":0.0873250039294362,\"moving-avg\":0.12303818720870403},{\"date\":\"Sun Nov 12 02:00:00 IST 2000\",\"avg-sentiment\":0.18910613308559707,\"moving-avg\":0.12363563734488076},{\"date\":\"Mon Nov 13 02:00:00 IST 2000\",\"avg-sentiment\":0.1112335227909459,\"moving-avg\":0.12352909471948752},{\"date\":\"Tue Nov 14 02:00:00 IST 2000\",\"avg-sentiment\":0.1376937708544332,\"moving-avg\":0.1261146277743564},{\"date\":\"Wed Nov 15 02:00:00 IST 2000\",\"avg-sentiment\":0.09383530030294854,\"moving-avg\":0.127583242907388},{\"date\":\"Thu Nov 16 02:00:00 IST 2000\",\"avg-sentiment\":0.10721468965838396,\"moving-avg\":0.1264269981861425},{\"date\":\"Fri Nov 17 02:00:00 IST 2000\",\"avg-sentiment\":0.10361984235003732,\"moving-avg\":0.12535307271592833},{\"date\":\"Sat Nov 18 02:00:00 IST 2000\",\"avg-sentiment\":0.035959071853754736,\"moving-avg\":0.12114585925270394},{\"date\":\"Sun Nov 19 02:00:00 IST 2000\",\"avg-sentiment\":0.21147633125111934,\"moving-avg\":0.1241081572548311},{\"date\":\"Mon Nov 20 02:00:00 IST 2000\",\"avg-sentiment\":0.12248170510221795,\"moving-avg\":0.12347591759013544},{\"date\":\"Tue Nov 21 02:00:00 IST 2000\",\"avg-sentiment\":0.12904005622124523,\"moving-avg\":0.12803689669337862},{\"date\":\"Wed Nov 22 02:00:00 IST 2000\",\"avg-sentiment\":0.13585386088784,\"moving-avg\":0.1303024058481363},{\"date\":\"Thu Nov 23 02:00:00 IST 2000\",\"avg-sentiment\":0.22020000219345093,\"moving-avg\":0.13199957679049085},{\"date\":\"Sat Nov 25 02:00:00 IST 2000\",\"avg-sentiment\":0.05140714152228264,\"moving-avg\":0.12899656447287733},{\"date\":\"Sun Nov 26 02:00:00 IST 2000\",\"avg-sentiment\":0.03528318590662926,\"moving-avg\":0.12596696398913376},{\"date\":\"Mon Nov 27 02:00:00 IST 2000\",\"avg-sentiment\":0.15107696929794306,\"moving-avg\":0.1264998743842147},{\"date\":\"Tue Nov 28 02:00:00 IST 2000\",\"avg-sentiment\":0.1384869176262465,\"moving-avg\":0.1277914055733135},{\"date\":\"Wed Nov 29 02:00:00 IST 2000\",\"avg-sentiment\":0.11146892636059197,\"moving-avg\":0.1262641454955252},{\"date\":\"Thu Nov 30 02:00:00 IST 2000\",\"avg-sentiment\":0.10070196642552204,\"moving-avg\":0.12455373501185983},{\"date\":\"Fri Dec 01 02:00:00 IST 2000\",\"avg-sentiment\":0.10742596994650934,\"moving-avg\":0.12404990054318674},{\"date\":\"Sat Dec 02 02:00:00 IST 2000\",\"avg-sentiment\":0.07706728115392077,\"moving-avg\":0.12313289534114366},{\"date\":\"Sun Dec 03 02:00:00 IST 2000\",\"avg-sentiment\":0.15992895498595858,\"moving-avg\":0.12537322527596534},{\"date\":\"Mon Dec 04 02:00:00 IST 2000\",\"avg-sentiment\":0.1151147646287785,\"moving-avg\":0.12468638147837845},{\"date\":\"Tue Dec 05 02:00:00 IST 2000\",\"avg-sentiment\":0.12752169503129557,\"moving-avg\":0.12379576763947608},{\"date\":\"Wed Dec 06 02:00:00 IST 2000\",\"avg-sentiment\":0.15551035171902214,\"moving-avg\":0.12268044204240999},{\"date\":\"Thu Dec 07 02:00:00 IST 2000\",\"avg-sentiment\":0.11159052148956794,\"moving-avg\":0.12189839213689105},{\"date\":\"Fri Dec 08 02:00:00 IST 2000\",\"avg-sentiment\":0.13890369937061883,\"moving-avg\":0.12306326104052495},{\"date\":\"Sat Dec 09 02:00:00 IST 2000\",\"avg-sentiment\":0.13440303561676825,\"moving-avg\":0.12301978542331486},{\"date\":\"Sun Dec 10 02:00:00 IST 2000\",\"avg-sentiment\":0.05629780623267117,\"moving-avg\":0.1191803013806634},{\"date\":\"Mon Dec 11 02:00:00 IST 2000\",\"avg-sentiment\":0.12416986990000184,\"moving-avg\":0.11937994492319129},{\"date\":\"Tue Dec 12 02:00:00 IST 2000\",\"avg-sentiment\":0.13141807856010215,\"moving-avg\":0.12084971407754681},{\"date\":\"Wed Dec 13 02:00:00 IST 2000\",\"avg-sentiment\":0.12456878994589353,\"moving-avg\":0.11869846930622335},{\"date\":\"Thu Dec 14 02:00:00 IST 2000\",\"avg-sentiment\":0.1283909458711408,\"moving-avg\":0.11927038340889652},{\"date\":\"Fri Dec 15 02:00:00 IST 2000\",\"avg-sentiment\":0.1147026978239236,\"moving-avg\":0.11850401430787955},{\"date\":\"Sun Dec 17 02:00:00 IST 2000\",\"avg-sentiment\":0.2410112626814612,\"moving-avg\":0.12340987972049662},{\"date\":\"Mon Dec 18 02:00:00 IST 2000\",\"avg-sentiment\":0.12155080841636931,\"moving-avg\":0.12388775034576281},{\"date\":\"Tue Dec 19 02:00:00 IST 2000\",\"avg-sentiment\":0.1382491648732491,\"moving-avg\":0.12504206109653654},{\"date\":\"Wed Dec 20 02:00:00 IST 2000\",\"avg-sentiment\":0.126669488936177,\"moving-avg\":0.1280657416659506},{\"date\":\"Thu Dec 21 02:00:00 IST 2000\",\"avg-sentiment\":0.12626844714272323,\"moving-avg\":0.12522547886233742},{\"date\":\"Fri Dec 22 02:00:00 IST 2000\",\"avg-sentiment\":0.15468665613107377,\"moving-avg\":0.12629897722996594},{\"date\":\"Sat Dec 23 02:00:00 IST 2000\",\"avg-sentiment\":0.14929999907811484,\"moving-avg\":0.12697430865852827},{\"date\":\"Sun Dec 24 02:00:00 IST 2000\",\"avg-sentiment\":0.13180624941984811,\"moving-avg\":0.12683938827626187},{\"date\":\"Mon Dec 25 02:00:00 IST 2000\",\"avg-sentiment\":-0.029821427095504033,\"moving-avg\":0.11850534063329671},{\"date\":\"Tue Dec 26 02:00:00 IST 2000\",\"avg-sentiment\":0.08976741383473077,\"moving-avg\":0.11978401637704497},{\"date\":\"Wed Dec 27 02:00:00 IST 2000\",\"avg-sentiment\":0.14519334599370626,\"moving-avg\":0.12344768837994753},{\"date\":\"Thu Dec 28 02:00:00 IST 2000\",\"avg-sentiment\":0.11937455525987373,\"moving-avg\":0.12239094124534522},{\"date\":\"Fri Dec 29 02:00:00 IST 2000\",\"avg-sentiment\":0.12186501152060265,\"moving-avg\":0.12183687770849043},{\"date\":\"Mon Jan 01 02:00:00 IST 2001\",\"avg-sentiment\":0.07146564772941466,\"moving-avg\":0.12050343508745118},{\"date\":\"Tue Jan 02 02:00:00 IST 2001\",\"avg-sentiment\":0.13664803904282713,\"moving-avg\":0.12170163750802802},{\"date\":\"Wed Jan 03 02:00:00 IST 2001\",\"avg-sentiment\":0.13041733296171892,\"moving-avg\":0.12246801627520167},{\"date\":\"Thu Jan 04 02:00:00 IST 2001\",\"avg-sentiment\":0.11580198627045016,\"moving-avg\":0.12375917311241932},{\"date\":\"Fri Jan 05 02:00:00 IST 2001\",\"avg-sentiment\":0.14861698847674873,\"moving-avg\":0.12338210756211233},{\"date\":\"Sun Jan 07 02:00:00 IST 2001\",\"avg-sentiment\":-0.07391110807657242,\"moving-avg\":0.1170812451386006},{\"date\":\"Mon Jan 08 02:00:00 IST 2001\",\"avg-sentiment\":0.15501148949325802,\"moving-avg\":0.11799757162066603},{\"date\":\"Tue Jan 09 02:00:00 IST 2001\",\"avg-sentiment\":0.11105605824508283,\"moving-avg\":0.1165157618382014},{\"date\":\"Wed Jan 10 02:00:00 IST 2001\",\"avg-sentiment\":0.11144580197403033,\"moving-avg\":0.11651093785435014},{\"date\":\"Thu Jan 11 02:00:00 IST 2001\",\"avg-sentiment\":0.12792254594969854,\"moving-avg\":0.11614489940698616},{\"date\":\"Fri Jan 12 02:00:00 IST 2001\",\"avg-sentiment\":0.14162950458096904,\"moving-avg\":0.11638578170579286},{\"date\":\"Sat Jan 13 02:00:00 IST 2001\",\"avg-sentiment\":0.18610137236297625,\"moving-avg\":0.12071256724346971},{\"date\":\"Sun Jan 14 02:00:00 IST 2001\",\"avg-sentiment\":0.15221043295260908,\"moving-avg\":0.12164725267855661},{\"date\":\"Mon Jan 15 02:00:00 IST 2001\",\"avg-sentiment\":0.1660711231604259,\"moving-avg\":0.12280235416523406},{\"date\":\"Tue Jan 16 02:00:00 IST 2001\",\"avg-sentiment\":0.16359077154456275,\"moving-avg\":0.12410308688518969},{\"date\":\"Wed Jan 17 02:00:00 IST 2001\",\"avg-sentiment\":0.11987119663561184,\"moving-avg\":0.12381909524400538},{\"date\":\"Thu Jan 18 02:00:00 IST 2001\",\"avg-sentiment\":0.10881038723578172,\"moving-avg\":0.12362268489106731},{\"date\":\"Fri Jan 19 02:00:00 IST 2001\",\"avg-sentiment\":0.13559659848011288,\"moving-avg\":0.12010886275102238},{\"date\":\"Sat Jan 20 02:00:00 IST 2001\",\"avg-sentiment\":0.1286064555251567,\"moving-avg\":0.12034405098798194},{\"date\":\"Sun Jan 21 02:00:00 IST 2001\",\"avg-sentiment\":0.0,\"moving-avg\":0.11573574549220697},{\"date\":\"Mon Jan 22 02:00:00 IST 2001\",\"avg-sentiment\":0.11841626006680227,\"moving-avg\":0.11546063786322781},{\"date\":\"Tue Jan 23 02:00:00 IST 2001\",\"avg-sentiment\":0.1443919255109897,\"moving-avg\":0.1160647538088367},{\"date\":\"Wed Jan 24 02:00:00 IST 2001\",\"avg-sentiment\":0.11648870112395317,\"moving-avg\":0.11479148864193268},{\"date\":\"Thu Jan 25 02:00:00 IST 2001\",\"avg-sentiment\":0.12032715937480754,\"moving-avg\":0.1138257273184891},{\"date\":\"Fri Jan 26 02:00:00 IST 2001\",\"avg-sentiment\":0.07030848878761656,\"moving-avg\":0.11177580196408136},{\"date\":\"Sun Jan 28 02:00:00 IST 2001\",\"avg-sentiment\":0.19515294318690019,\"moving-avg\":0.11927494764016151},{\"date\":\"Mon Jan 29 02:00:00 IST 2001\",\"avg-sentiment\":0.13446432823607196,\"moving-avg\":0.12076484478687291},{\"date\":\"Tue Jan 30 02:00:00 IST 2001\",\"avg-sentiment\":0.09391148487622823,\"moving-avg\":0.1190554494162903},{\"date\":\"Wed Jan 31 02:00:00 IST 2001\",\"avg-sentiment\":0.11364521984260306,\"moving-avg\":0.11886447156904796},{\"date\":\"Thu Feb 01 02:00:00 IST 2001\",\"avg-sentiment\":0.14025502847192836,\"moving-avg\":0.11947747213409214},{\"date\":\"Fri Feb 02 02:00:00 IST 2001\",\"avg-sentiment\":0.13790914752888697,\"moving-avg\":0.12169225546074122},{\"date\":\"Sat Feb 03 02:00:00 IST 2001\",\"avg-sentiment\":0.18817926573729704,\"moving-avg\":0.12340996301722355},{\"date\":\"Sun Feb 04 02:00:00 IST 2001\",\"avg-sentiment\":0.11270774265733245,\"moving-avg\":0.12281964334041066},{\"date\":\"Mon Feb 05 02:00:00 IST 2001\",\"avg-sentiment\":0.13899789022989806,\"moving-avg\":0.12359284013905893},{\"date\":\"Tue Feb 06 02:00:00 IST 2001\",\"avg-sentiment\":0.10685622312753992,\"moving-avg\":0.12220081462741865},{\"date\":\"Wed Feb 07 02:00:00 IST 2001\",\"avg-sentiment\":0.08790151685284703,\"moving-avg\":0.12759456879173262},{\"date\":\"Thu Feb 08 02:00:00 IST 2001\",\"avg-sentiment\":0.14928576325633203,\"moving-avg\":0.12740371125050176},{\"date\":\"Fri Feb 09 02:00:00 IST 2001\",\"avg-sentiment\":0.13980328829777533,\"moving-avg\":0.1283619522522582},{\"date\":\"Sat Feb 10 02:00:00 IST 2001\",\"avg-sentiment\":0.0,\"moving-avg\":0.12464709218645717},{\"date\":\"Sun Feb 11 02:00:00 IST 2001\",\"avg-sentiment\":0.12957074092356144,\"moving-avg\":0.12470203201891926},{\"date\":\"Mon Feb 12 02:00:00 IST 2001\",\"avg-sentiment\":0.11561837535921163,\"moving-avg\":0.12383499437819402},{\"date\":\"Tue Feb 13 02:00:00 IST 2001\",\"avg-sentiment\":0.13005782067652524,\"moving-avg\":0.12196687598864564},{\"date\":\"Wed Feb 14 02:00:00 IST 2001\",\"avg-sentiment\":0.1322733628314142,\"moving-avg\":0.12130230698460581},{\"date\":\"Thu Feb 15 02:00:00 IST 2001\",\"avg-sentiment\":0.11260840342198823,\"moving-avg\":0.11952021632665791},{\"date\":\"Fri Feb 16 02:00:00 IST 2001\",\"avg-sentiment\":0.12995009473478294,\"moving-avg\":0.11839886043299859},{\"date\":\"Sat Feb 17 02:00:00 IST 2001\",\"avg-sentiment\":0.11276540798875649,\"moving-avg\":0.11816200081143673},{\"date\":\"Sun Feb 18 02:00:00 IST 2001\",\"avg-sentiment\":0.0281132478107754,\"moving-avg\":0.11547209616393653},{\"date\":\"Mon Feb 19 02:00:00 IST 2001\",\"avg-sentiment\":0.1124357341187051,\"moving-avg\":0.11470006735188959},{\"date\":\"Tue Feb 20 02:00:00 IST 2001\",\"avg-sentiment\":0.12388129244000605,\"moving-avg\":0.11454256191571789},{\"date\":\"Wed Feb 21 02:00:00 IST 2001\",\"avg-sentiment\":0.1479148876387265,\"moving-avg\":0.11947305817034211},{\"date\":\"Thu Feb 22 02:00:00 IST 2001\",\"avg-sentiment\":0.1460591455206313,\"moving-avg\":0.12039448768546973},{\"date\":\"Fri Feb 23 02:00:00 IST 2001\",\"avg-sentiment\":0.11910917925726656,\"moving-avg\":0.1195517294770123},{\"date\":\"Sat Feb 24 02:00:00 IST 2001\",\"avg-sentiment\":0.10362473805839721,\"moving-avg\":0.11912293070816043},{\"date\":\"Sun Feb 25 02:00:00 IST 2001\",\"avg-sentiment\":0.15111506103457492,\"moving-avg\":0.12014919409681935},{\"date\":\"Mon Feb 26 02:00:00 IST 2001\",\"avg-sentiment\":0.11416174684915893,\"moving-avg\":0.12161096936553743},{\"date\":\"Tue Feb 27 02:00:00 IST 2001\",\"avg-sentiment\":0.1283063995187056,\"moving-avg\":0.11938275124326428},{\"date\":\"Wed Feb 28 02:00:00 IST 2001\",\"avg-sentiment\":0.08935144917265257,\"moving-avg\":0.11787898860781695},{\"date\":\"Thu Mar 01 02:00:00 IST 2001\",\"avg-sentiment\":0.10292308612025422,\"moving-avg\":0.11817937531595116},{\"date\":\"Fri Mar 02 02:00:00 IST 2001\",\"avg-sentiment\":0.09171043543317085,\"moving-avg\":0.11744821583563674},{\"date\":\"Sat Mar 03 02:00:00 IST 2001\",\"avg-sentiment\":0.09647667015586993,\"moving-avg\":0.11598893722510148},{\"date\":\"Sun Mar 04 02:00:00 IST 2001\",\"avg-sentiment\":0.13288866568291646,\"moving-avg\":0.11582158783023579},{\"date\":\"Mon Mar 05 02:00:00 IST 2001\",\"avg-sentiment\":0.0851498614543449,\"moving-avg\":0.1123872743541374},{\"date\":\"Tue Mar 06 02:00:00 IST 2001\",\"avg-sentiment\":0.11438662557056122,\"moving-avg\":0.11244323711791168},{\"date\":\"Wed Mar 07 02:00:00 IST 2001\",\"avg-sentiment\":0.12505499244794677,\"moving-avg\":0.1119784738585133},{\"date\":\"Thu Mar 08 02:00:00 IST 2001\",\"avg-sentiment\":0.16252980973260134,\"moving-avg\":0.113834260078682},{\"date\":\"Fri Mar 09 02:00:00 IST 2001\",\"avg-sentiment\":0.14214159244649754,\"moving-avg\":0.11564226259847038},{\"date\":\"Sat Mar 10 02:00:00 IST 2001\",\"avg-sentiment\":0.1701032085320005,\"moving-avg\":0.11633617744099264},{\"date\":\"Sun Mar 11 02:00:00 IST 2001\",\"avg-sentiment\":-0.0010857153683900833,\"moving-avg\":0.11163987731878713},{\"date\":\"Mon Mar 12 02:00:00 IST 2001\",\"avg-sentiment\":0.10673670682701514,\"moving-avg\":0.1151977675463543},{\"date\":\"Tue Mar 13 02:00:00 IST 2001\",\"avg-sentiment\":0.10816187533736635,\"moving-avg\":0.11448413869348116},{\"date\":\"Wed Mar 14 02:00:00 IST 2001\",\"avg-sentiment\":0.12148486875544567,\"moving-avg\":0.11467968847335562},{\"date\":\"Thu Mar 15 02:00:00 IST 2001\",\"avg-sentiment\":0.08977298398463268,\"moving-avg\":0.11333686058362585},{\"date\":\"Fri Mar 16 02:00:00 IST 2001\",\"avg-sentiment\":0.14810797147891971,\"moving-avg\":0.11386468087187605},{\"date\":\"Sat Mar 17 02:00:00 IST 2001\",\"avg-sentiment\":0.47116666038831073,\"moving-avg\":0.12581662277075345},{\"date\":\"Sun Mar 18 02:00:00 IST 2001\",\"avg-sentiment\":0.022981818426739086,\"moving-avg\":0.12225101356048533},{\"date\":\"Mon Mar 19 02:00:00 IST 2001\",\"avg-sentiment\":0.14250231173893535,\"moving-avg\":0.12324224368549132},{\"date\":\"Tue Mar 20 02:00:00 IST 2001\",\"avg-sentiment\":0.09017012057804587,\"moving-avg\":0.12531080611106699},{\"date\":\"Wed Mar 21 02:00:00 IST 2001\",\"avg-sentiment\":0.11852795058791396,\"moving-avg\":0.12551387999337396},{\"date\":\"Thu Mar 22 02:00:00 IST 2001\",\"avg-sentiment\":0.1179417608196228,\"moving-avg\":0.12531589560602782},{\"date\":\"Fri Mar 23 02:00:00 IST 2001\",\"avg-sentiment\":0.11871309517397009,\"moving-avg\":0.12434250252386929},{\"date\":\"Sat Mar 24 02:00:00 IST 2001\",\"avg-sentiment\":0.17648469117260168,\"moving-avg\":0.12535668737893496},{\"date\":\"Sun Mar 25 02:00:00 IST 2001\",\"avg-sentiment\":0.10851949019656731,\"moving-avg\":0.1250036977435783},{\"date\":\"Mon Mar 26 02:00:00 IST 2001\",\"avg-sentiment\":0.12875246768372098,\"moving-avg\":0.1258412887310891},{\"date\":\"Tue Mar 27 02:00:00 IST 2001\",\"avg-sentiment\":0.17832952163316543,\"moving-avg\":0.12674843741770878},{\"date\":\"Wed Mar 28 02:00:00 IST 2001\",\"avg-sentiment\":0.10283943315728962,\"moving-avg\":0.12637102696131314},{\"date\":\"Thu Mar 29 02:00:00 IST 2001\",\"avg-sentiment\":0.11186303282711137,\"moving-avg\":0.12582291473826},{\"date\":\"Fri Mar 30 02:00:00 IST 2001\",\"avg-sentiment\":0.14498010985200463,\"moving-avg\":0.12767720342757174},{\"date\":\"Sat Mar 31 02:00:00 IST 2001\",\"avg-sentiment\":0.18253479361925692,\"moving-avg\":0.13033092701087182},{\"date\":\"Sun Apr 01 02:00:00 IST 2001\",\"avg-sentiment\":0.14392144879520075,\"moving-avg\":0.13207129412293947},{\"date\":\"Mon Apr 02 02:00:00 IST 2001\",\"avg-sentiment\":0.16409751234829015,\"moving-avg\":0.13432532219602014},{\"date\":\"Tue Apr 03 02:00:00 IST 2001\",\"avg-sentiment\":0.16130308238819605,\"moving-avg\":0.13527246941952947},{\"date\":\"Wed Apr 04 02:00:00 IST 2001\",\"avg-sentiment\":0.12849404602405626,\"moving-avg\":0.1367172755718532},{\"date\":\"Thu Apr 05 02:00:00 IST 2001\",\"avg-sentiment\":0.12541047193247828,\"moving-avg\":0.13708473711725044},{\"date\":\"Fri Apr 06 02:00:00 IST 2001\",\"avg-sentiment\":0.14149101552761972,\"moving-avg\":0.13763260455323953},{\"date\":\"Sat Apr 07 02:00:00 IST 2001\",\"avg-sentiment\":0.053893518392686496,\"moving-avg\":0.13401139484190902},{\"date\":\"Sun Apr 08 02:00:00 IST 2001\",\"avg-sentiment\":-0.14562262248780047,\"moving-avg\":0.1244192543440991},{\"date\":\"Mon Apr 09 03:00:00 IDT 2001\",\"avg-sentiment\":0.11583533546160031,\"moving-avg\":0.12261032524175244},{\"date\":\"Tue Apr 10 03:00:00 IDT 2001\",\"avg-sentiment\":0.12651702590268896,\"moving-avg\":0.12686374995078842},{\"date\":\"Wed Apr 11 03:00:00 IDT 2001\",\"avg-sentiment\":0.12284288322933824,\"moving-avg\":0.12740062249753253},{\"date\":\"Thu Apr 12 03:00:00 IDT 2001\",\"avg-sentiment\":0.13529582984768235,\"moving-avg\":0.12830508764787638},{\"date\":\"Fri Apr 13 03:00:00 IDT 2001\",\"avg-sentiment\":0.09873862837140358,\"moving-avg\":0.127546879635075},{\"date\":\"Sat Apr 14 03:00:00 IDT 2001\",\"avg-sentiment\":0.23132500052452087,\"moving-avg\":0.13226528018640463},{\"date\":\"Sun Apr 15 03:00:00 IDT 2001\",\"avg-sentiment\":0.10336444247325863,\"moving-avg\":0.13077382921954922},{\"date\":\"Mon Apr 16 03:00:00 IDT 2001\",\"avg-sentiment\":0.13353810362662524,\"moving-avg\":0.11951954399415972},{\"date\":\"Tue Apr 17 03:00:00 IDT 2001\",\"avg-sentiment\":0.14867596887991824,\"moving-avg\":0.12370934900926571},{\"date\":\"Wed Apr 18 03:00:00 IDT 2001\",\"avg-sentiment\":0.1517439531557257,\"moving-avg\":0.12401740372315871},{\"date\":\"Thu Apr 19 03:00:00 IDT 2001\",\"avg-sentiment\":0.15901534761640487,\"moving-avg\":0.12631224462443733},{\"date\":\"Fri Apr 20 03:00:00 IDT 2001\",\"avg-sentiment\":0.12272935921726348,\"moving-avg\":0.126452291578749},{\"date\":\"Sat Apr 21 03:00:00 IDT 2001\",\"avg-sentiment\":0.1875211117271748,\"moving-avg\":0.12877160327566736},{\"date\":\"Mon Apr 23 03:00:00 IDT 2001\",\"avg-sentiment\":0.15367606809549741,\"moving-avg\":0.12993703570638493},{\"date\":\"Tue Apr 24 03:00:00 IDT 2001\",\"avg-sentiment\":0.1538690321229483,\"moving-avg\":0.1291831804047298},{\"date\":\"Wed Apr 25 03:00:00 IDT 2001\",\"avg-sentiment\":0.15553618980360107,\"moving-avg\":0.13075040372496427},{\"date\":\"Thu Apr 26 03:00:00 IDT 2001\",\"avg-sentiment\":0.1435913803650417,\"moving-avg\":0.13124503414767494},{\"date\":\"Fri Apr 27 03:00:00 IDT 2001\",\"avg-sentiment\":0.08330213389360086,\"moving-avg\":0.12807745455635614},{\"date\":\"Sat Apr 28 03:00:00 IDT 2001\",\"avg-sentiment\":0.15471333066622414,\"moving-avg\":0.12980658447332064},{\"date\":\"Sun Apr 29 03:00:00 IDT 2001\",\"avg-sentiment\":0.05394456833268382,\"moving-avg\":0.12787596899017306},{\"date\":\"Mon Apr 30 03:00:00 IDT 2001\",\"avg-sentiment\":0.14120489889554302,\"moving-avg\":0.1277501286249577},{\"date\":\"Tue May 01 03:00:00 IDT 2001\",\"avg-sentiment\":0.13052009931513078,\"moving-avg\":0.1260163054814868},{\"date\":\"Wed May 02 03:00:00 IDT 2001\",\"avg-sentiment\":0.1400852266247992,\"moving-avg\":0.1258884314091401},{\"date\":\"Thu May 03 03:00:00 IDT 2001\",\"avg-sentiment\":0.1389770219062065,\"moving-avg\":0.12505108172773732},{\"date\":\"Fri May 04 03:00:00 IDT 2001\",\"avg-sentiment\":0.1359136434078819,\"moving-avg\":0.12420476709506015},{\"date\":\"Sat May 05 03:00:00 IDT 2001\",\"avg-sentiment\":0.03115236662305313,\"moving-avg\":0.12096004444836007},{\"date\":\"Mon May 07 03:00:00 IDT 2001\",\"avg-sentiment\":0.1419933033453348,\"moving-avg\":0.12151280549545529},{\"date\":\"Tue May 08 03:00:00 IDT 2001\",\"avg-sentiment\":0.15751083582783346,\"moving-avg\":0.12204679950546239},{\"date\":\"Wed May 09 03:00:00 IDT 2001\",\"avg-sentiment\":0.10167717739835568,\"moving-avg\":0.12363958813898472},{\"date\":\"Thu May 10 03:00:00 IDT 2001\",\"avg-sentiment\":0.115975817224556,\"moving-avg\":0.1323595361293966},{\"date\":\"Fri May 11 03:00:00 IDT 2001\",\"avg-sentiment\":0.11943629958063982,\"moving-avg\":0.1324795682666979},{\"date\":\"Sat May 12 03:00:00 IDT 2001\",\"avg-sentiment\":0.20078100068548954,\"moving-avg\":0.1349550340927913},{\"date\":\"Sun May 13 03:00:00 IDT 2001\",\"avg-sentiment\":0.08779591808830671,\"moving-avg\":0.13378680192142356},{\"date\":\"Mon May 14 03:00:00 IDT 2001\",\"avg-sentiment\":0.1539783022344369,\"moving-avg\":0.134409551000982},{\"date\":\"Tue May 15 03:00:00 IDT 2001\",\"avg-sentiment\":0.12038186533449025,\"moving-avg\":0.13513099223308492},{\"date\":\"Wed May 16 03:00:00 IDT 2001\",\"avg-sentiment\":0.1248738744769487,\"moving-avg\":0.1315826213648325},{\"date\":\"Thu May 17 03:00:00 IDT 2001\",\"avg-sentiment\":0.0911111115801921,\"moving-avg\":0.13117417700173026},{\"date\":\"Fri May 18 03:00:00 IDT 2001\",\"avg-sentiment\":0.15272176027963752,\"moving-avg\":0.13181363222349735},{\"date\":\"Sun May 20 03:00:00 IDT 2001\",\"avg-sentiment\":-0.09866666793823242,\"moving-avg\":0.12356887766289232},{\"date\":\"Mon May 21 03:00:00 IDT 2001\",\"avg-sentiment\":0.1660929665110175,\"moving-avg\":0.12404717810806871},{\"date\":\"Tue May 22 03:00:00 IDT 2001\",\"avg-sentiment\":0.09714469269400058,\"moving-avg\":0.12198482294398856},{\"date\":\"Wed May 23 03:00:00 IDT 2001\",\"avg-sentiment\":0.141670854562159,\"moving-avg\":0.12261620612215175},{\"date\":\"Thu May 24 03:00:00 IDT 2001\",\"avg-sentiment\":0.16121526271423542,\"moving-avg\":0.12173934448838712},{\"date\":\"Fri May 25 03:00:00 IDT 2001\",\"avg-sentiment\":0.14365104081509072,\"moving-avg\":0.12140517691237354},{\"date\":\"Sat May 26 03:00:00 IDT 2001\",\"avg-sentiment\":0.192303701683327,\"moving-avg\":0.12268633256438616},{\"date\":\"Mon May 28 03:00:00 IDT 2001\",\"avg-sentiment\":0.038482294513186625,\"moving-avg\":0.11878453605470568},{\"date\":\"Tue May 29 03:00:00 IDT 2001\",\"avg-sentiment\":0.19876120466265654,\"moving-avg\":0.1206235301979595},{\"date\":\"Wed May 30 03:00:00 IDT 2001\",\"avg-sentiment\":0.16024148206639396,\"moving-avg\":0.12318817513705262},{\"date\":\"Thu May 31 03:00:00 IDT 2001\",\"avg-sentiment\":0.16037733316364877,\"moving-avg\":0.12337697522030008},{\"date\":\"Fri Jun 01 03:00:00 IDT 2001\",\"avg-sentiment\":0.1228995838599655,\"moving-avg\":0.12567547573787616},{\"date\":\"Sat Jun 02 03:00:00 IDT 2001\",\"avg-sentiment\":0.0,\"moving-avg\":0.1209686457746914},{\"date\":\"Sun Jun 03 03:00:00 IDT 2001\",\"avg-sentiment\":0.1088638911023736,\"moving-avg\":0.12024677216759948},{\"date\":\"Mon Jun 04 03:00:00 IDT 2001\",\"avg-sentiment\":0.11776671510815322,\"moving-avg\":0.11950282178371129},{\"date\":\"Tue Jun 05 03:00:00 IDT 2001\",\"avg-sentiment\":0.16074614555178013,\"moving-avg\":0.12022845923856375},{\"date\":\"Wed Jun 06 03:00:00 IDT 2001\",\"avg-sentiment\":0.10668554657727082,\"moving-avg\":0.11925418934421002},{\"date\":\"Thu Jun 07 03:00:00 IDT 2001\",\"avg-sentiment\":0.1020825649228044,\"moving-avg\":0.12161852928753507},{\"date\":\"Fri Jun 08 03:00:00 IDT 2001\",\"avg-sentiment\":0.16476666430632272,\"moving-avg\":0.12237764131956799},{\"date\":\"Mon Jun 11 03:00:00 IDT 2001\",\"avg-sentiment\":-0.03700000047683716,\"moving-avg\":0.11589394677607896},{\"date\":\"Tue Jun 12 03:00:00 IDT 2001\",\"avg-sentiment\":0.21970718253869564,\"moving-avg\":0.11982828028075697},{\"date\":\"Wed Jun 13 03:00:00 IDT 2001\",\"avg-sentiment\":0.0,\"moving-avg\":0.11596241970660513},{\"date\":\"Thu Jun 14 03:00:00 IDT 2001\",\"avg-sentiment\":0.0,\"moving-avg\":0.1119812097205838},{\"date\":\"Fri Jun 15 03:00:00 IDT 2001\",\"avg-sentiment\":0.07224000096321107,\"moving-avg\":0.10769650972984118},{\"date\":\"Mon Jun 18 03:00:00 IDT 2001\",\"avg-sentiment\":0.14867904231189938,\"moving-avg\":0.10972594720396094},{\"date\":\"Tue Jun 19 03:00:00 IDT 2001\",\"avg-sentiment\":0.27711249451256464,\"moving-avg\":0.11383042027989852},{\"date\":\"Fri Jun 22 03:00:00 IDT 2001\",\"avg-sentiment\":0.18745310035528112,\"moving-avg\":0.11606612811392489},{\"date\":\"Sun Jun 24 03:00:00 IDT 2001\",\"avg-sentiment\":0.17196257918974056,\"moving-avg\":0.11763575160435129},{\"date\":\"Mon Jun 25 03:00:00 IDT 2001\",\"avg-sentiment\":0.17262966614527006,\"moving-avg\":0.12035303675652056},{\"date\":\"Tue Jun 26 03:00:00 IDT 2001\",\"avg-sentiment\":0.16614375188946723,\"moving-avg\":0.12080043647684822},{\"date\":\"Wed Jun 27 03:00:00 IDT 2001\",\"avg-sentiment\":0.15508818226781756,\"moving-avg\":0.12925893148371653},{\"date\":\"Thu Jun 28 03:00:00 IDT 2001\",\"avg-sentiment\":-0.021562501788139343,\"moving-avg\":0.12300374920707798},{\"date\":\"Mon Jul 02 03:00:00 IDT 2001\",\"avg-sentiment\":0.3955333350847165,\"moving-avg\":0.13295003728676852},{\"date\":\"Tue Jul 03 03:00:00 IDT 2001\",\"avg-sentiment\":-0.1509000062942505,\"moving-avg\":0.12319767525822153},{\"date\":\"Fri Jul 06 03:00:00 IDT 2001\",\"avg-sentiment\":0.08617272973060608,\"moving-avg\":0.12069625749210054},{\"date\":\"Thu Jul 19 03:00:00 IDT 2001\",\"avg-sentiment\":-0.03288888931274414,\"moving-avg\":0.11481159315450608},{\"date\":\"Tue Aug 14 03:00:00 IDT 2001\",\"avg-sentiment\":0.05822500213980675,\"moving-avg\":0.11034230316972206},{\"date\":\"Thu Aug 16 03:00:00 IDT 2001\",\"avg-sentiment\":-0.036244442065556846,\"moving-avg\":0.10785141195043058},{\"date\":\"Thu Aug 23 03:00:00 IDT 2001\",\"avg-sentiment\":-0.1426888902982076,\"moving-avg\":0.09646974211840179},{\"date\":\"Mon Aug 27 03:00:00 IDT 2001\",\"avg-sentiment\":0.09194999933242798,\"moving-avg\":0.09419335936060293},{\"date\":\"Fri Aug 31 03:00:00 IDT 2001\",\"avg-sentiment\":6.936382163654706E-4,\"moving-avg\":0.0888705695290268},{\"date\":\"Fri Sep 07 03:00:00 IDT 2001\",\"avg-sentiment\":0.06116281831875825,\"moving-avg\":0.08681267734431988},{\"date\":\"Mon Sep 10 03:00:00 IDT 2001\",\"avg-sentiment\":0.04209333111842473,\"moving-avg\":0.0882157883816007},{\"date\":\"Mon Sep 17 03:00:00 IDT 2001\",\"avg-sentiment\":0.2638150031900122,\"moving-avg\":0.09338082545118867},{\"date\":\"Tue Sep 18 03:00:00 IDT 2001\",\"avg-sentiment\":0.2448516694207986,\"moving-avg\":0.09761699059494353},{\"date\":\"Wed Sep 19 03:00:00 IDT 2001\",\"avg-sentiment\":0.20893157940161855,\"moving-avg\":0.09922317172327147},{\"date\":\"Fri Sep 21 03:00:00 IDT 2001\",\"avg-sentiment\":0.12036823560209836,\"moving-avg\":0.09967926135743241},{\"date\":\"Wed Sep 26 02:00:00 IST 2001\",\"avg-sentiment\":0.021285005046157875,\"moving-avg\":0.0969860093615442},{\"date\":\"Fri Sep 28 02:00:00 IST 2001\",\"avg-sentiment\":0.15917142799922399,\"moving-avg\":0.0967995014846409},{\"date\":\"Tue Oct 09 02:00:00 IST 2001\",\"avg-sentiment\":0.09204444537560146,\"moving-avg\":0.10110098301305552},{\"date\":\"Thu Oct 11 02:00:00 IST 2001\",\"avg-sentiment\":-0.010473333299160004,\"moving-avg\":0.09342829915179365},{\"date\":\"Fri Oct 12 02:00:00 IST 2001\",\"avg-sentiment\":0.11010000109672546,\"moving-avg\":0.09709829918835117},{\"date\":\"Mon Oct 15 02:00:00 IST 2001\",\"avg-sentiment\":0.31667856659208027,\"moving-avg\":0.10765425140808718},{\"date\":\"Fri Oct 19 02:00:00 IST 2001\",\"avg-sentiment\":0.18201052711198204,\"moving-avg\":0.11131326894637955},{\"date\":\"Thu Nov 01 02:00:00 IST 2001\",\"avg-sentiment\":0.0661816520243883,\"moving-avg\":0.10856335593679584},{\"date\":\"Fri Nov 02 02:00:00 IST 2001\",\"avg-sentiment\":0.059303391339338346,\"moving-avg\":0.10130305249768831},{\"date\":\"Wed Nov 21 02:00:00 IST 2001\",\"avg-sentiment\":0.08864242244850505,\"moving-avg\":0.09800936323412908},{\"date\":\"Mon Nov 26 02:00:00 IST 2001\",\"avg-sentiment\":-0.013354062843017087,\"moving-avg\":0.0918321418330372},{\"date\":\"Tue Nov 27 02:00:00 IST 2001\",\"avg-sentiment\":-0.058069233710949235,\"moving-avg\":0.08414217850449654},{\"date\":\"Fri Jun 28 03:00:00 IDT 2002\",\"avg-sentiment\":0.12351428610937935,\"moving-avg\":0.08272119631182696},{\"date\":\"Tue Jul 02 03:00:00 IDT 2002\",\"avg-sentiment\":0.10502500087022781,\"moving-avg\":0.08105242359857395},{\"date\":\"Wed Jul 03 03:00:00 IDT 2002\",\"avg-sentiment\":0.14193388803137671,\"moving-avg\":0.08650230325922449},{\"date\":\"Fri Jul 05 03:00:00 IDT 2002\",\"avg-sentiment\":0.10393725421425759,\"moving-avg\":0.07678243389687586},{\"date\":\"Mon Jul 08 03:00:00 IDT 2002\",\"avg-sentiment\":0.03411296230775338,\"moving-avg\":0.082949532850276},{\"date\":\"Tue Jul 09 03:00:00 IDT 2002\",\"avg-sentiment\":-0.0417642838484238,\"moving-avg\":0.07868496573097498},{\"date\":\"Wed Jul 10 03:00:00 IDT 2002\",\"avg-sentiment\":-7.416683559616395E-4,\"moving-avg\":0.07975653976286773},{\"date\":\"Thu Jul 11 03:00:00 IDT 2002\",\"avg-sentiment\":-0.014141663908958439,\"moving-avg\":0.07734431756124223},{\"date\":\"Fri Jul 12 03:00:00 IDT 2002\",\"avg-sentiment\":-0.17583124712109566,\"moving-avg\":0.07269142405939093}]},\"layer\":[{\"mark\":{\"type\":\"line\",\"stroke\":\"lightblue\"},\"encoding\":{\"x\":{\"field\":\"date\",\"type\":\"temporal\"},\"y\":{\"field\":\"avg-sentiment\"}}},{\"mark\":{\"type\":\"line\",\"stroke\":\"green\"},\"encoding\":{\"x\":{\"field\":\"date\",\"type\":\"temporal\"},\"y\":{\"field\":\"moving-avg\"}}}]};\n",
       "    vegaEmbed('#uuid-d353cb78-2401-4138-a27e-d49df856c8f1', spec, {defaultStyle:true}).catch(console.warn);\n",
       "    }, function(err) {\n",
       "    console.log('Failed to load');\n",
       "  });\n",
       "  </script>\n",
       "</div>\n",
       "  "
      ]
     },
     "execution_count": 41,
     "metadata": {},
     "output_type": "execute_result"
    }
   ],
   "source": [
    ";; (def line-plot\n",
    ";;   {:data {:values time-series-data}\n",
    ";;    :width 400\n",
    ";;    :height 400\n",
    ";;    :encoding {:x {:field \"date\", :type \"temporal\"}\n",
    ";;               :y {:field \"moving-avg\"}}\n",
    ";;    :mark {:type \"line\" :stroke \"red\"}})\n",
    "\n",
    "(def layered-line-plot\n",
    "    {:width 600\n",
    "     :height 600\n",
    "     :data {:values time-series-data}\n",
    "     :layer [{:mark {:type \"line\", :stroke \"lightblue\"}\n",
    "              :encoding {:x {:field \"date\", :type \"temporal\"}\n",
    "                         :y {:field \"avg-sentiment\"}}},\n",
    "             {:mark {:type \"line\", :stroke \"green\"}\n",
    "              :encoding {:x {:field \"date\", :type \"temporal\"}\n",
    "                         :y {:field \"moving-avg\"}}}]})\n",
    "\n",
    ";; Render the plot\n",
    ";; (oz/view! line-plot)\n",
    "(oz/view! layered-line-plot)"
   ]
  },
  {
   "cell_type": "code",
   "execution_count": null,
   "metadata": {
    "lines_to_next_cell": 2
   },
   "outputs": [],
   "source": []
  }
 ],
 "metadata": {
  "celltoolbar": "Raw Cell Format",
  "jupytext": {
   "formats": "ipynb,clj"
  },
  "kernelspec": {
   "display_name": "Clojure (clojupyter-v0.2.2)",
   "language": "clojure",
   "name": "clojupyter"
  },
  "language_info": {
   "file_extension": ".clj",
   "mimetype": "text/x-clojure",
   "name": "clojure",
   "version": "1.10.0"
  }
 },
 "nbformat": 4,
 "nbformat_minor": 2
}
