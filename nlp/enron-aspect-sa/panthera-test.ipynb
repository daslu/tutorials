{
 "cells": [
  {
   "cell_type": "markdown",
   "metadata": {},
   "source": [
    "## Setup"
   ]
  },
  {
   "cell_type": "markdown",
   "metadata": {},
   "source": [
    "Run using docker by doing:\n",
    "\n",
    "```\n",
    ">>> docker-compose up -d\n",
    "```"
   ]
  },
  {
   "cell_type": "code",
   "execution_count": 1,
   "metadata": {},
   "outputs": [
    {
     "data": {
      "text/plain": [
       "nil"
      ]
     },
     "execution_count": 1,
     "metadata": {},
     "output_type": "execute_result"
    }
   ],
   "source": [
    "(require '[clojupyter.misc.helper :as helper])"
   ]
  },
  {
   "cell_type": "code",
   "execution_count": 2,
   "metadata": {},
   "outputs": [
    {
     "data": {
      "text/plain": [
       ":done"
      ]
     },
     "execution_count": 2,
     "metadata": {},
     "output_type": "execute_result"
    }
   ],
   "source": [
    "(->> '[[cnuernber/libpython-clj \"1.2\"]\n",
    "       [panthera \"0.1-alpha.16\"]]\n",
    "     (map helper/add-dependencies)\n",
    "     doall)\n",
    "\n",
    ":done"
   ]
  },
  {
   "cell_type": "code",
   "execution_count": 67,
   "metadata": {},
   "outputs": [
    {
     "data": {
      "text/plain": [
       "nil"
      ]
     },
     "execution_count": 67,
     "metadata": {},
     "output_type": "execute_result"
    }
   ],
   "source": [
    "(ns panthera-test\n",
    "  (:require\n",
    "   [libpython-clj.python :as py]\n",
    "   [panthera.panthera :as pt]\n",
    "   [panthera.numpy :as np]\n",
    "   [panthera.pandas.utils :as u]\n",
    "   [clojure.pprint :refer [pprint]]\n",
    "   [clojure.repl :refer [doc]]))"
   ]
  },
  {
   "cell_type": "code",
   "execution_count": 4,
   "metadata": {},
   "outputs": [
    {
     "data": {
      "text/plain": [
       ":ok"
      ]
     },
     "execution_count": 4,
     "metadata": {},
     "output_type": "execute_result"
    }
   ],
   "source": [
    "(py/initialize!)"
   ]
  },
  {
   "cell_type": "markdown",
   "metadata": {},
   "source": [
    "## Wrapping Scikit Learn (sklearn)"
   ]
  },
  {
   "cell_type": "code",
   "execution_count": null,
   "metadata": {},
   "outputs": [],
   "source": [
    "(defonce sk (py/import-module \"sklearn\"))\n",
    "\n",
    "(py/run-simple-string \"from sklearn import *\")\n",
    "\n",
    "(defn sklearn\n",
    "  ([k] ((module sk) k))\n",
    "  ([k args] (((module sk) k) args)))"
   ]
  },
  {
   "cell_type": "code",
   "execution_count": null,
   "metadata": {},
   "outputs": [],
   "source": [
    "(def sample-data (sklearn [:datasets :make-multilabel-classification]\n",
    "                          {:random-state 0 }))"
   ]
  },
  {
   "cell_type": "code",
   "execution_count": null,
   "metadata": {},
   "outputs": [],
   "source": [
    "(def X (first sample-data))"
   ]
  },
  {
   "cell_type": "code",
   "execution_count": null,
   "metadata": {},
   "outputs": [],
   "source": [
    "(doc py/call-attr)"
   ]
  },
  {
   "cell_type": "code",
   "execution_count": null,
   "metadata": {},
   "outputs": [],
   "source": [
    "(py/python-type X)"
   ]
  },
  {
   "cell_type": "code",
   "execution_count": null,
   "metadata": {},
   "outputs": [],
   "source": [
    "(pprint (take 10 X))"
   ]
  },
  {
   "cell_type": "code",
   "execution_count": null,
   "metadata": {},
   "outputs": [],
   "source": [
    "(def decomp ((sklearn [:decomposition])))"
   ]
  },
  {
   "cell_type": "code",
   "execution_count": null,
   "metadata": {},
   "outputs": [],
   "source": [
    "(def lda (-> ((sklearn [:decomposition]))\n",
    "             (py/get-attr \"LatentDirichletAllocation\")))"
   ]
  },
  {
   "cell_type": "markdown",
   "metadata": {},
   "source": [
    "## Wrapping Gensim"
   ]
  },
  {
   "cell_type": "code",
   "execution_count": 6,
   "metadata": {},
   "outputs": [
    {
     "data": {
      "text/plain": [
       ":done"
      ]
     },
     "execution_count": 6,
     "metadata": {},
     "output_type": "execute_result"
    }
   ],
   "source": [
    "(defonce gs (py/import-module \"gensim\"))\n",
    "(py/run-simple-string \"from gensim.test.utils import *\")\n",
    "\n",
    ":done"
   ]
  },
  {
   "cell_type": "code",
   "execution_count": 7,
   "metadata": {},
   "outputs": [
    {
     "name": "stdout",
     "output_type": "stream",
     "text": [
      "{\"__builtins__\" :dict,\n",
      " \"__cached__\" :str,\n",
      " \"__doc__\" :str,\n",
      " \"__file__\" :str,\n",
      " \"__loader__\" :source-file-loader,\n",
      " \"__name__\" :str,\n",
      " \"__package__\" :str,\n",
      " \"__path__\" :list,\n",
      " \"__spec__\" :module-spec,\n",
      " \"__version__\" :str,\n",
      " \"_matutils\" :module,\n",
      " \"corpora\" :module,\n",
      " \"interfaces\" :module,\n",
      " \"logger\" :logger,\n",
      " \"logging\" :module,\n",
      " \"matutils\" :module,\n",
      " \"models\" :module,\n",
      " \"parsing\" :module,\n",
      " \"scripts\" :module,\n",
      " \"similarities\" :module,\n",
      " \"summarization\" :module,\n",
      " \"test\" :module,\n",
      " \"topic_coherence\" :module,\n",
      " \"utils\" :module}\n"
     ]
    },
    {
     "data": {
      "text/plain": [
       "nil"
      ]
     },
     "execution_count": 7,
     "metadata": {},
     "output_type": "execute_result"
    }
   ],
   "source": [
    "(pprint (py/att-type-map gs))"
   ]
  },
  {
   "cell_type": "code",
   "execution_count": null,
   "metadata": {},
   "outputs": [],
   "source": []
  },
  {
   "cell_type": "code",
   "execution_count": 68,
   "metadata": {},
   "outputs": [
    {
     "data": {
      "text/plain": [
       "#'panthera-test/gensim"
      ]
     },
     "execution_count": 68,
     "metadata": {},
     "output_type": "execute_result"
    }
   ],
   "source": [
    "gensim.models.LdaModel\n",
    "\n",
    "\n",
    "(defn gensim\n",
    "  ([k] ((np/module gs) k))\n",
    "  ([k args] (((np/module gs) k) args)))"
   ]
  },
  {
   "cell_type": "code",
   "execution_count": 105,
   "metadata": {},
   "outputs": [
    {
     "data": {
      "text/plain": [
       "#'panthera-test/common-texts"
      ]
     },
     "execution_count": 105,
     "metadata": {},
     "output_type": "execute_result"
    }
   ],
   "source": [
    "(def common-texts (gensim [:test :utils :common-texts]))"
   ]
  },
  {
   "cell_type": "code",
   "execution_count": 107,
   "metadata": {},
   "outputs": [
    {
     "data": {
      "text/plain": [
       "[['human', 'interface', 'computer'], ['survey', 'user', 'computer', 'system', 'response', 'time'], ['eps', 'user', 'interface', 'system'], ['system', 'human', 'system', 'eps'], ['user', 'response', 'time'], ['trees'], ['graph', 'trees'], ['graph', 'minors', 'trees'], ['graph', 'minors', 'survey']]"
      ]
     },
     "execution_count": 107,
     "metadata": {},
     "output_type": "execute_result"
    }
   ],
   "source": [
    "(common-texts)"
   ]
  },
  {
   "cell_type": "code",
   "execution_count": 108,
   "metadata": {},
   "outputs": [
    {
     "data": {
      "text/plain": [
       "#'panthera-test/Dictionary"
      ]
     },
     "execution_count": 108,
     "metadata": {},
     "output_type": "execute_result"
    }
   ],
   "source": [
    "(def Dictionary (-> (py/get-attr gs \"corpora\")\n",
    "                    (py/get-attr \"dictionary\")\n",
    "                    (py/get-attr \"Dictionary\")))"
   ]
  },
  {
   "cell_type": "code",
   "execution_count": 109,
   "metadata": {},
   "outputs": [
    {
     "data": {
      "text/plain": [
       "#'panthera-test/common-dictionary"
      ]
     },
     "execution_count": 109,
     "metadata": {},
     "output_type": "execute_result"
    }
   ],
   "source": [
    "(def common-dictionary (Dictionary (common-texts)))"
   ]
  },
  {
   "cell_type": "code",
   "execution_count": 72,
   "metadata": {},
   "outputs": [
    {
     "data": {
      "text/plain": [
       ":pyobject"
      ]
     },
     "execution_count": 72,
     "metadata": {},
     "output_type": "execute_result"
    }
   ],
   "source": [
    "(type common-dictionary)"
   ]
  },
  {
   "cell_type": "code",
   "execution_count": null,
   "metadata": {},
   "outputs": [],
   "source": []
  },
  {
   "cell_type": "code",
   "execution_count": 74,
   "metadata": {},
   "outputs": [
    {
     "data": {
      "text/plain": [
       "#'panthera-test/common-corpus"
      ]
     },
     "execution_count": 74,
     "metadata": {},
     "output_type": "execute_result"
    }
   ],
   "source": [
    "(def common-corpus (for [t (common-texts)] (py/call-attr common-dictionary \"doc2bow\" t)))"
   ]
  },
  {
   "cell_type": "code",
   "execution_count": 110,
   "metadata": {},
   "outputs": [
    {
     "data": {
      "text/plain": [
       "(:pyobject :pyobject :pyobject :pyobject :pyobject :pyobject :pyobject :pyobject :pyobject)"
      ]
     },
     "execution_count": 110,
     "metadata": {},
     "output_type": "execute_result"
    }
   ],
   "source": [
    "(map type common-corpus)"
   ]
  },
  {
   "cell_type": "code",
   "execution_count": 75,
   "metadata": {},
   "outputs": [
    {
     "data": {
      "text/plain": [
       "clojure.lang.LazySeq"
      ]
     },
     "execution_count": 75,
     "metadata": {},
     "output_type": "execute_result"
    }
   ],
   "source": [
    "(type common-corpus)"
   ]
  },
  {
   "cell_type": "code",
   "execution_count": 101,
   "metadata": {},
   "outputs": [
    {
     "data": {
      "text/plain": [
       "([(0, 1), (1, 1), (2, 1)] [(0, 1), (3, 1), (4, 1), (5, 1), (6, 1), (7, 1)] [(2, 1), (5, 1), (7, 1), (8, 1)] [(1, 1), (5, 2), (8, 1)] [(3, 1), (6, 1), (7, 1)] [(9, 1)] [(9, 1), (10, 1)] [(9, 1), (10, 1), (11, 1)] [(4, 1), (10, 1), (11, 1)])"
      ]
     },
     "execution_count": 101,
     "metadata": {},
     "output_type": "execute_result"
    }
   ],
   "source": [
    "common-corpus"
   ]
  },
  {
   "cell_type": "code",
   "execution_count": 83,
   "metadata": {},
   "outputs": [
    {
     "data": {
      "text/plain": [
       "#'panthera-test/gensim-models"
      ]
     },
     "execution_count": 83,
     "metadata": {},
     "output_type": "execute_result"
    }
   ],
   "source": [
    "(def gensim-models (gensim [:models]))"
   ]
  },
  {
   "cell_type": "code",
   "execution_count": 86,
   "metadata": {},
   "outputs": [
    {
     "data": {
      "text/plain": [
       "#'panthera-test/LdaModel"
      ]
     },
     "execution_count": 86,
     "metadata": {},
     "output_type": "execute_result"
    }
   ],
   "source": [
    "(def LdaModel (py/get-attr (gensim-models) \"LdaModel\"))"
   ]
  },
  {
   "cell_type": "code",
   "execution_count": 104,
   "metadata": {},
   "outputs": [
    {
     "data": {
      "text/plain": [
       "clojure.lang.LazySeq"
      ]
     },
     "execution_count": 104,
     "metadata": {},
     "output_type": "execute_result"
    }
   ],
   "source": [
    "(type common-corpus)"
   ]
  },
  {
   "cell_type": "code",
   "execution_count": 113,
   "metadata": {},
   "outputs": [
    {
     "data": {
      "text/plain": [
       "LdaModel(num_terms=12, num_topics=100, decay=0.5, chunksize=2000)"
      ]
     },
     "execution_count": 113,
     "metadata": {},
     "output_type": "execute_result"
    }
   ],
   "source": [
    "(py/call-attr (gensim-models) \"LdaModel\" common-corpus)\n",
    "\n",
    ";; For loop of python dictionaries might be a good minimal example for Chris."
   ]
  },
  {
   "cell_type": "code",
   "execution_count": 114,
   "metadata": {},
   "outputs": [
    {
     "name": "stdout",
     "output_type": "stream",
     "text": [
      "-------------------------\n",
      "libpython-clj.python/call-attr-kw\n",
      "([item att-name arglist kw-map])\n"
     ]
    },
    {
     "data": {
      "text/plain": [
       "nil"
      ]
     },
     "execution_count": 114,
     "metadata": {},
     "output_type": "execute_result"
    }
   ],
   "source": [
    "(doc py/call-attr-kw)"
   ]
  },
  {
   "cell_type": "code",
   "execution_count": 118,
   "metadata": {},
   "outputs": [
    {
     "name": "stderr",
     "output_type": "stream",
     "text": [
      "Execution error (ExceptionInfo) at libpython-clj.python.interpreter/check-error-throw (interpreter.clj:261).\n",
      "TypeError: __init__() got multiple values for argument 'num_topics'\n",
      "\n"
     ]
    },
    {
     "ename": "class clojure.lang.ExceptionInfo",
     "evalue": "",
     "output_type": "error",
     "traceback": [
      "interpreter.clj:   261 libpython_clj.python.interpreter$check_error_throw/invokeStatic             ",
      "interpreter.clj:   258 libpython_clj.python.interpreter$check_error_throw/invoke                   ",
      "     object.clj:   106 libpython_clj.python.object$wrap_pyobject/invokeStatic                      ",
      "     object.clj:   100 libpython_clj.python.object$wrap_pyobject/invoke                            ",
      "     object.clj:   624 libpython_clj.python.object$eval27287$fn__27288$fn__27289/invoke            ",
      "interpreter.clj:   198 libpython_clj.python.interpreter$with_gil_fn$fn__25117/invoke               ",
      "       AFn.java:   152 clojure.lang.AFn/applyToHelper                                              ",
      "       AFn.java:   144 clojure.lang.AFn/applyTo                                                    ",
      "       core.clj:   665 clojure.core$apply/invokeStatic                                             ",
      "       core.clj:  1973 clojure.core$with_bindings_STAR_/invokeStatic                               ",
      "    RestFn.java:   425 clojure.lang.RestFn/invoke                                                  ",
      "interpreter.clj:   196 libpython_clj.python.interpreter$with_gil_fn/invokeStatic                   ",
      "interpreter.clj:   185 libpython_clj.python.interpreter$with_gil_fn/invoke                         ",
      "     object.clj:   623 libpython_clj.python.object$eval27287$fn__27288/invoke                      ",
      "  protocols.clj:    98 libpython_clj.python.protocols$eval25505$fn__25506$G__25496__25515/invoke   ",
      "     bridge.clj:   525 libpython_clj.python.bridge$generic_python_as_jvm$fn$reify__27803/do_call_fn",
      "  protocols.clj:   121 libpython_clj.python.protocols$call_attr_kw/invokeStatic                    ",
      "  protocols.clj:   118 libpython_clj.python.protocols$call_attr_kw/invoke                          ",
      "       Var.java:   399 clojure.lang.Var/invoke                                                     ",
      "       core.clj:  3214 clojure.core$eval/invokeStatic                                              ",
      "       core.clj:  3210 clojure.core$eval/invoke                                                    ",
      "       main.clj:   414 clojure.main$repl$read_eval_print__9068$fn__9071/invoke                     ",
      "       main.clj:   435 clojure.main$repl$fn__9077/invoke                                           ",
      "       main.clj:   345 clojure.main$repl/doInvoke                                                  ",
      "    RestFn.java:  1523 clojure.lang.RestFn/invoke                                                  ",
      "       AFn.java:    22 clojure.lang.AFn/run                                                        ",
      "       AFn.java:    22 clojure.lang.AFn/run                                                        ",
      "    Thread.java:   748 java.lang.Thread/run                                                        "
     ]
    }
   ],
   "source": [
    "(py/call-attr-kw (gensim-models) \"LdaModel\" common-corpus { \"num_topics\" 5})"
   ]
  },
  {
   "cell_type": "code",
   "execution_count": 115,
   "metadata": {},
   "outputs": [
    {
     "name": "stdout",
     "output_type": "stream",
     "text": [
      "-------------------------\n",
      "libpython-clj.python/call-attr-kw\n",
      "([item att-name arglist kw-map])\n"
     ]
    },
    {
     "data": {
      "text/plain": [
       "nil"
      ]
     },
     "execution_count": 115,
     "metadata": {},
     "output_type": "execute_result"
    }
   ],
   "source": [
    "(doc py/call-attr-kw)"
   ]
  },
  {
   "cell_type": "code",
   "execution_count": null,
   "metadata": {},
   "outputs": [],
   "source": []
  }
 ],
 "metadata": {
  "kernelspec": {
   "display_name": "Clojure (clojupyter-v0.2.2)",
   "language": "clojure",
   "name": "clojupyter"
  },
  "language_info": {
   "file_extension": ".clj",
   "mimetype": "text/x-clojure",
   "name": "clojure",
   "version": "1.10.0"
  }
 },
 "nbformat": 4,
 "nbformat_minor": 2
}
