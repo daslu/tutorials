{
 "cells": [
  {
   "cell_type": "code",
   "execution_count": 1,
   "metadata": {},
   "outputs": [
    {
     "data": {
      "text/plain": [
       "nil"
      ]
     },
     "execution_count": 1,
     "metadata": {},
     "output_type": "execute_result"
    }
   ],
   "source": [
    "(require '[clojupyter.misc.helper :as helper])"
   ]
  },
  {
   "cell_type": "code",
   "execution_count": 2,
   "metadata": {},
   "outputs": [
    {
     "data": {
      "text/plain": [
       ":done"
      ]
     },
     "execution_count": 2,
     "metadata": {},
     "output_type": "execute_result"
    }
   ],
   "source": [
    "(->> '[[cnuernber/libpython-clj \"1.2\"]\n",
    "       [panthera \"0.1-alpha.16\"]]\n",
    "     (map helper/add-dependencies)\n",
    "     doall)\n",
    "\n",
    ":done"
   ]
  },
  {
   "cell_type": "code",
   "execution_count": 3,
   "metadata": {},
   "outputs": [
    {
     "data": {
      "text/plain": [
       "nil"
      ]
     },
     "execution_count": 3,
     "metadata": {},
     "output_type": "execute_result"
    }
   ],
   "source": [
    "(ns panthera-test\n",
    "  (:require\n",
    "   [libpython-clj.python :as py]\n",
    "   [panthera.panthera :as pt]\n",
    "   [panthera.pandas.utils :as u]\n",
    "   [clojure.pprint :refer [pprint]]\n",
    "   [clojure.repl :refer [doc]]))"
   ]
  },
  {
   "cell_type": "code",
   "execution_count": 4,
   "metadata": {},
   "outputs": [
    {
     "data": {
      "text/plain": [
       ":ok"
      ]
     },
     "execution_count": 4,
     "metadata": {},
     "output_type": "execute_result"
    }
   ],
   "source": [
    "(py/initialize!)"
   ]
  },
  {
   "cell_type": "code",
   "execution_count": 5,
   "metadata": {},
   "outputs": [
    {
     "data": {
      "text/plain": [
       "#'panthera-test/module"
      ]
     },
     "execution_count": 5,
     "metadata": {},
     "output_type": "execute_result"
    }
   ],
   "source": [
    "(defn py-get-in\n",
    "  \"A similar to `get-in` implementation for Python modules,\n",
    "  classes and functions.\"\n",
    "  [py-module v]\n",
    "  (let [mods (drop-last v)]\n",
    "    ((apply comp\n",
    "            (reverse\n",
    "             (map (fn [x] #(py/get-attr % x)) mods))) py-module)))\n",
    "\n",
    "(defn module\n",
    "  [py-module]\n",
    "  (fn [x]\n",
    "      (fn\n",
    "        ([]\n",
    "         (if (seqable? x)\n",
    "           (let [ks (map u/memo-key-converter x)]\n",
    "             (py/get-attr (py-get-in py-module ks) (last ks)))\n",
    "           (py/get-attr py-module (u/memo-key-converter x))))\n",
    "        ([attrs]\n",
    "         (if (seqable? x)\n",
    "           (let [ks    (map u/memo-key-converter x)]\n",
    "             (py/call-attr-kw (py-get-in py-module ks) (last ks)\n",
    "                              (vec (:args attrs))\n",
    "                              (u/keys->pyargs (dissoc attrs :args))))\n",
    "           (py/call-attr-kw py-module (u/memo-key-converter x)\n",
    "                            (vec (:args attrs))\n",
    "                            (u/keys->pyargs (dissoc attrs :args))))))))"
   ]
  },
  {
   "cell_type": "code",
   "execution_count": 6,
   "metadata": {},
   "outputs": [
    {
     "data": {
      "text/plain": [
       "#'panthera-test/sklearn"
      ]
     },
     "execution_count": 6,
     "metadata": {},
     "output_type": "execute_result"
    }
   ],
   "source": [
    "(defonce sk (py/import-module \"sklearn\"))\n",
    "\n",
    "; sklearn architecture is very convoluted, modules aren't loaded by default\n",
    "; but only by explicit import. Setting the var below bypasses this behaviour\n",
    ";; (py/set-attr! sk \"__SKLEARN_SETUP__\" true)\n",
    "\n",
    "(defn sklearn\n",
    "  ([k] ((module sk) k))\n",
    "  ([k args] (((module sk) k) args)))"
   ]
  },
  {
   "cell_type": "code",
   "execution_count": 8,
   "metadata": {},
   "outputs": [
    {
     "name": "stderr",
     "output_type": "stream",
     "text": [
      "Syntax error (ExceptionInfo) compiling at (REPL:1:15).\n",
      "AttributeError: module 'sklearn' has no attribute 'datasets'\n",
      "\n"
     ]
    },
    {
     "ename": "class clojure.lang.Compiler$CompilerException",
     "evalue": "",
     "output_type": "error",
     "traceback": [
      "interpreter.clj:   261 libpython_clj.python.interpreter$check_error_throw/invokeStatic                   ",
      "interpreter.clj:   258 libpython_clj.python.interpreter$check_error_throw/invoke                         ",
      "     object.clj:   106 libpython_clj.python.object$wrap_pyobject/invokeStatic                            ",
      "     object.clj:   100 libpython_clj.python.object$wrap_pyobject/invoke                                  ",
      "     object.clj:   550 libpython_clj.python.object$get_attr$fn__27236/invoke                             ",
      "interpreter.clj:   215 libpython_clj.python.interpreter$with_gil_fn/invokeStatic                         ",
      "interpreter.clj:   185 libpython_clj.python.interpreter$with_gil_fn/invoke                               ",
      "     object.clj:   549 libpython_clj.python.object$get_attr/invokeStatic                                 ",
      "     object.clj:   547 libpython_clj.python.object$get_attr/invoke                                       ",
      "     object.clj:   601 libpython_clj.python.object$eval27251$fn__27256/invoke                            ",
      "  protocols.clj:    72 libpython_clj.python.protocols$eval25356$fn__25372$G__25337__25379/invoke         ",
      "     bridge.clj:   592 libpython_clj.python.bridge$generic_python_as_jvm$fn$reify__27839$fn__27846/invoke",
      "interpreter.clj:   198 libpython_clj.python.interpreter$with_gil_fn$fn__25117/invoke                     ",
      "       AFn.java:   152 clojure.lang.AFn/applyToHelper                                                    ",
      "       AFn.java:   144 clojure.lang.AFn/applyTo                                                          ",
      "       core.clj:   665 clojure.core$apply/invokeStatic                                                   ",
      "       core.clj:  1973 clojure.core$with_bindings_STAR_/invokeStatic                                     ",
      "    RestFn.java:   425 clojure.lang.RestFn/invoke                                                        ",
      "interpreter.clj:   196 libpython_clj.python.interpreter$with_gil_fn/invokeStatic                         ",
      "interpreter.clj:   185 libpython_clj.python.interpreter$with_gil_fn/invoke                               ",
      "     bridge.clj:   592 libpython_clj.python.bridge$generic_python_as_jvm$fn$reify__27839/get_attr        ",
      "  protocols.clj:    72 libpython_clj.python.protocols$eval25356$fn__25372$G__25338__25375/invoke         ",
      "       Var.java:   388 clojure.lang.Var/invoke                                                           ",
      "       AFn.java:   156 clojure.lang.AFn/applyToHelper                                                    ",
      "       AFn.java:   144 clojure.lang.AFn/applyTo                                                          ",
      "       core.clj:  3214 clojure.core$eval/invokeStatic                                                    ",
      "       core.clj:  3210 clojure.core$eval/invoke                                                          ",
      "       main.clj:   414 clojure.main$repl$read_eval_print__9068$fn__9071/invoke                           ",
      "       main.clj:   435 clojure.main$repl$fn__9077/invoke                                                 ",
      "       main.clj:   345 clojure.main$repl/doInvoke                                                        ",
      "    RestFn.java:  1523 clojure.lang.RestFn/invoke                                                        ",
      "       AFn.java:    22 clojure.lang.AFn/run                                                              ",
      "       AFn.java:    22 clojure.lang.AFn/run                                                              ",
      "    Thread.java:   748 java.lang.Thread/run                                                              "
     ]
    }
   ],
   "source": [
    "(def test_set (sklearn [:datasets :fetch-20newsgroups]\n",
    "                       {:subset \"test\", :shuffle true}))"
   ]
  },
  {
   "cell_type": "code",
   "execution_count": null,
   "metadata": {},
   "outputs": [],
   "source": []
  }
 ],
 "metadata": {
  "kernelspec": {
   "display_name": "Clojure (clojupyter-v0.2.2)",
   "language": "clojure",
   "name": "clojupyter"
  },
  "language_info": {
   "file_extension": ".clj",
   "mimetype": "text/x-clojure",
   "name": "clojure",
   "version": "1.10.0"
  }
 },
 "nbformat": 4,
 "nbformat_minor": 2
}
